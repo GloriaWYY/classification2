{
 "cells": [
  {
   "cell_type": "markdown",
   "id": "8b6141b2",
   "metadata": {},
   "source": [
    "(classification2)=\n",
    "# Classification II: evaluation & tuning\n",
    "\n",
    "```{r classification2-setup, echo = FALSE, message = FALSE, warning = FALSE}\n",
    "library(gridExtra)\n",
    "library(cowplot)\n",
    "library(stringr)\n",
    "library(knitr)\n",
    "library(ggplot2)\n",
    "\n",
    "knitr::opts_chunk$set(fig.align = \"center\")\n",
    "\n",
    "print_tidymodels <- function(tidymodels_object) {\n",
    "  if(!is_latex_output()) {\n",
    "    tidymodels_object\n",
    "  } else {\n",
    "    output <- capture.output(tidymodels_object)\n",
    "    \n",
    "    for (i in seq_along(output)) {\n",
    "      if (nchar(output[i]) <= 80) {\n",
    "        cat(output[i], sep = \"\\n\")\n",
    "      } else {\n",
    "        cat(str_sub(output[i], start = 1, end = 80), sep = \"\\n\")\n",
    "        cat(str_sub(output[i], start = 81, end = nchar(output[i])), sep = \"\\n\")\n",
    "      }\n",
    "    }\n",
    "  }\n",
    "}\n",
    "\n",
    "theme_update(axis.title = element_text(size = 12)) # modify axis label size in plots \n",
    "\n",
    "```"
   ]
  },
  {
   "cell_type": "code",
   "execution_count": 1,
   "id": "8c91f5ab",
   "metadata": {
    "tags": [
     "remove-cell"
    ]
   },
   "outputs": [],
   "source": [
    "import altair as alt\n",
    "import numpy as np\n",
    "import pandas as pd\n",
    "import sklearn\n",
    "from sklearn.compose import make_column_transformer\n",
    "from sklearn.metrics import confusion_matrix, plot_confusion_matrix\n",
    "from sklearn.metrics.pairwise import euclidean_distances\n",
    "from sklearn.model_selection import (\n",
    "    GridSearchCV,\n",
    "    RandomizedSearchCV,\n",
    "    cross_validate,\n",
    "    train_test_split,\n",
    ")\n",
    "from sklearn.neighbors import KNeighborsClassifier\n",
    "from sklearn.pipeline import Pipeline, make_pipeline\n",
    "from sklearn.preprocessing import OneHotEncoder, StandardScaler\n",
    "\n",
    "alt.data_transformers.disable_max_rows()\n",
    "# alt.renderers.enable(\"mimetype\")\n",
    "\n",
    "from myst_nb import glue"
   ]
  },
  {
   "cell_type": "markdown",
   "id": "993de356",
   "metadata": {},
   "source": [
    "## Overview \n",
    "This chapter continues the introduction to predictive modeling through\n",
    "classification. While the previous chapter covered training and data\n",
    "preprocessing, this chapter focuses on how to evaluate the accuracy of\n",
    "a classifier, as well as how to improve the classifier (where possible)\n",
    "to maximize its accuracy.\n",
    "\n",
    "## Chapter learning objectives \n",
    "By the end of the chapter, readers will be able to do the following:\n",
    "\n",
    "- Describe what training, validation, and test data sets are and how they are used in classification.\n",
    "- Split data into training, validation, and test data sets.\n",
    "- Describe what a random seed is and its importance in reproducible data analysis.\n",
    "- Set the random seed in R using the `set.seed` function.\n",
    "- Evaluate classification accuracy in R using a validation data set and appropriate metrics.\n",
    "- Execute cross-validation in R to choose the number of neighbors in a $K$-nearest neighbors classifier.\n",
    "- Describe the advantages and disadvantages of the $K$-nearest neighbors classification algorithm."
   ]
  },
  {
   "cell_type": "markdown",
   "id": "deaab261",
   "metadata": {},
   "source": [
    "## Evaluating accuracy\n",
    "\n",
    "Sometimes our classifier might make the wrong prediction. A classifier does not\n",
    "need to be right 100\\% of the time to be useful, though we don't want the\n",
    "classifier to make too many wrong predictions. How do we measure how \"good\" our\n",
    "classifier is? Let's revisit the \\index{breast cancer}\n",
    "[breast cancer images data](https://archive.ics.uci.edu/ml/datasets/Breast+Cancer+Wisconsin+%28Diagnostic%29) {cite:p}`streetbreastcancer`\n",
    "and think about how our classifier will be used in practice. A biopsy will be\n",
    "performed on a *new* patient's tumor, the resulting image will be analyzed,\n",
    "and the classifier will be asked to decide whether the tumor is benign or\n",
    "malignant. The key word here is *new*: our classifier is \"good\" if it provides\n",
    "accurate predictions on data *not seen during training*. But then, how can we\n",
    "evaluate our classifier without visiting the hospital to collect more\n",
    "tumor images? \n",
    "\n",
    "The trick is to split the data into a **training set** \\index{training set} and **test set** \\index{test set} ({numref}`fig:06-training-test`)\n",
    "and use only the **training set** when building the classifier.\n",
    "Then, to evaluate the accuracy of the classifier, we first set aside the true labels from the **test set**,\n",
    "and then use the classifier to predict the labels in the **test set**. If our predictions match the true\n",
    "labels for the observations in the **test set**, then we have some\n",
    "confidence that our classifier might also accurately predict the class\n",
    "labels for new observations without known class labels.\n",
    "\n",
    "> **Note:** If there were a golden rule of machine learning, \\index{golden rule of machine learning} it might be this: \n",
    "> *you cannot use the test data to build the model!* If you do, the model gets to\n",
    "> \"see\" the test data in advance, making it look more accurate than it really\n",
    "> is. Imagine how bad it would be to overestimate your classifier's accuracy\n",
    "> when predicting whether a patient's tumor is malignant or benign!"
   ]
  },
  {
   "cell_type": "markdown",
   "id": "64930596",
   "metadata": {},
   "source": [
    "```{figure} img/training_test.jpeg\n",
    ":name: fig:06-training-test\n",
    ":figclass: caption-hack\n",
    "\n",
    "Splitting the data into training and testing sets.\n",
    "```"
   ]
  },
  {
   "cell_type": "markdown",
   "id": "cb6d2635",
   "metadata": {},
   "source": [
    "How exactly can we assess how well our predictions match the true labels for\n",
    "the observations in the test set? One way we can do this is to calculate the\n",
    "**prediction accuracy**. \\index{prediction accuracy|see{accuracy}}\\index{accuracy} This is the fraction of examples for which the\n",
    "classifier made the correct prediction. To calculate this, we divide the number\n",
    "of correct predictions by the number of predictions made. \n",
    "\n",
    "$$\\mathrm{prediction \\; accuracy} = \\frac{\\mathrm{number \\; of  \\; correct  \\; predictions}}{\\mathrm{total \\;  number \\;  of  \\; predictions}}$$"
   ]
  },
  {
   "cell_type": "markdown",
   "id": "611a2774",
   "metadata": {},
   "source": [
    "The process for assessing if our predictions match the true labels in the \n",
    "test set is illustrated in {numref}`fig:06-ML-paradigm-test`. Note that there \n",
    "are other measures for how well classifiers perform, such as *precision* and *recall*; \n",
    "these will not be discussed here, but you will likely encounter them in other more advanced\n",
    "books on this topic."
   ]
  },
  {
   "cell_type": "markdown",
   "id": "9795a558",
   "metadata": {},
   "source": [
    "```{figure} img/ML-paradigm-test.png\n",
    ":name: fig:06-ML-paradigm-test\n",
    ":figclass: caption-hack\n",
    "\n",
    "Process for splitting the data and finding the prediction accuracy.\n",
    "```"
   ]
  },
  {
   "cell_type": "markdown",
   "id": "b39c0cb1",
   "metadata": {},
   "source": [
    "(randomseeds)=\n",
    "## Randomness and seeds\n",
    "Beginning in this chapter, our data analyses will often involve the use\n",
    "of *randomness*. \\index{random} We use randomness any time we need to make a decision in our\n",
    "analysis that needs to be fair, unbiased, and not influenced by human input.\n",
    "For example, in this chapter, we need to split\n",
    "a data set into a training set and test set to evaluate our classifier. We \n",
    "certainly do not want to choose how to split\n",
    "the data ourselves by hand, as we want to avoid accidentally influencing the result\n",
    "of the evaluation. So instead, we let Python *randomly* split the data.\n",
    "In future chapters we will use randomness\n",
    "in many other ways, e.g., to help us select a small subset of data from a larger data set, \n",
    "to pick groupings of data, and more.\n",
    "\n",
    "However, the use of randomness runs counter to one of the main \n",
    "tenets of good data analysis practice: \\index{reproducible} *reproducibility*. Recall that a reproducible\n",
    "analysis produces the same result each time it is run; if we include randomness\n",
    "in the analysis, would we not get a different result each time?\n",
    "The trick is that in Python&mdash;and other programming languages&mdash;randomness \n",
    "is not actually random! Instead, Python uses a *random number generator* that\n",
    "produces a sequence of numbers that\n",
    "are completely determined by a \\index{seed} \\index{random seed|see{seed}}\n",
    " *seed value*. Once you set the seed value \n",
    "using the \\index{seed!set.seed} `np.random.seed` function or the `random_state` argument, everything after that point may *look* random,\n",
    "but is actually totally reproducible. As long as you pick the same seed\n",
    "value, you get the same result!\n",
    "\n",
    "Let's use an example to investigate how seeds work in Python. Say we want \n",
    "to randomly pick 10 numbers from 0 to 9 in Python using the `np.random.choice` \\index{sample!function} function,\n",
    "but we want it to be reproducible. Before using the sample function,\n",
    "we call `np.random.seed`, and pass it any integer as an argument. \n",
    "Here, we pass in the number `1`."
   ]
  },
  {
   "cell_type": "code",
   "execution_count": 2,
   "id": "8b7d7540",
   "metadata": {},
   "outputs": [
    {
     "data": {
      "text/plain": [
       "array([5, 8, 9, 5, 0, 0, 1, 7, 6, 9])"
      ]
     },
     "execution_count": 2,
     "metadata": {},
     "output_type": "execute_result"
    }
   ],
   "source": [
    "import numpy as np\n",
    "\n",
    "np.random.seed(1)\n",
    "random_numbers = np.random.choice(range(10), size=10, replace=True)\n",
    "random_numbers"
   ]
  },
  {
   "cell_type": "markdown",
   "id": "59087624",
   "metadata": {},
   "source": [
    "You can see that `random_numbers` is a list of 10 numbers\n",
    "from 0 to 9 that, from all appearances, looks random. If \n",
    "we run the `np.random.choice` function again, we will \n",
    "get a fresh batch of 10 numbers that also look random."
   ]
  },
  {
   "cell_type": "code",
   "execution_count": 3,
   "id": "f26f0f2b",
   "metadata": {},
   "outputs": [
    {
     "data": {
      "text/plain": [
       "array([2, 4, 5, 2, 4, 2, 4, 7, 7, 9])"
      ]
     },
     "execution_count": 3,
     "metadata": {},
     "output_type": "execute_result"
    }
   ],
   "source": [
    "random_numbers = np.random.choice(range(10), size=10, replace=True)\n",
    "random_numbers"
   ]
  },
  {
   "cell_type": "markdown",
   "id": "b34beb32",
   "metadata": {},
   "source": [
    "If we want to force Python to produce the same sequences of random numbers,\n",
    "we can simply call the `np.random.seed` function again with the same argument\n",
    "value."
   ]
  },
  {
   "cell_type": "code",
   "execution_count": 4,
   "id": "dfe9c173",
   "metadata": {},
   "outputs": [
    {
     "data": {
      "text/plain": [
       "array([5, 8, 9, 5, 0, 0, 1, 7, 6, 9])"
      ]
     },
     "execution_count": 4,
     "metadata": {},
     "output_type": "execute_result"
    }
   ],
   "source": [
    "np.random.seed(1)\n",
    "random_numbers = np.random.choice(range(10), size=10, replace=True)\n",
    "random_numbers"
   ]
  },
  {
   "cell_type": "code",
   "execution_count": 5,
   "id": "e7180536",
   "metadata": {},
   "outputs": [
    {
     "data": {
      "text/plain": [
       "array([2, 4, 5, 2, 4, 2, 4, 7, 7, 9])"
      ]
     },
     "execution_count": 5,
     "metadata": {},
     "output_type": "execute_result"
    }
   ],
   "source": [
    "random_numbers = np.random.choice(range(10), size=10, replace=True)\n",
    "random_numbers"
   ]
  },
  {
   "cell_type": "markdown",
   "id": "edc4a989",
   "metadata": {},
   "source": [
    "And if we choose \n",
    "a different value for the seed&mdash;say, 4235&mdash;we\n",
    "obtain a different sequence of random numbers."
   ]
  },
  {
   "cell_type": "code",
   "execution_count": 6,
   "id": "104222a6",
   "metadata": {},
   "outputs": [
    {
     "data": {
      "text/plain": [
       "array([8, 0, 1, 0, 0, 7, 5, 5, 3, 9])"
      ]
     },
     "execution_count": 6,
     "metadata": {},
     "output_type": "execute_result"
    }
   ],
   "source": [
    "np.random.seed(4235)\n",
    "random_numbers = np.random.choice(range(10), size=10, replace=True)\n",
    "random_numbers"
   ]
  },
  {
   "cell_type": "code",
   "execution_count": 7,
   "id": "676aa1a1",
   "metadata": {},
   "outputs": [
    {
     "data": {
      "text/plain": [
       "array([7, 5, 9, 5, 5, 8, 2, 8, 0, 4])"
      ]
     },
     "execution_count": 7,
     "metadata": {},
     "output_type": "execute_result"
    }
   ],
   "source": [
    "random_numbers = np.random.choice(range(10), size=10, replace=True)\n",
    "random_numbers"
   ]
  },
  {
   "cell_type": "markdown",
   "id": "ac9aba11",
   "metadata": {},
   "source": [
    "In other words, even though the sequences of numbers that Python is generating *look*\n",
    "random, they are totally determined when we set a seed value! \n",
    "\n",
    "So what does this mean for data analysis? Well, `np.random.choice` is certainly\n",
    "not the only function that uses randomness in R. Many of the functions \n",
    "that we use in `scikit-learn`, `numpy`, and beyond use randomness&mdash;many of them\n",
    "without even telling you about it. So at the beginning of every data analysis you\n",
    "do, right after loading packages, you should call the `np.random.seed` function and\n",
    "pass it an integer that you pick.\n",
    "Also note that when Python starts up, it creates its own seed to use. So if you do not\n",
    "explicitly call the `np.random.seed` function in your code, your results will \n",
    "likely not be reproducible.\n",
    "And finally, be careful to set the seed *only once* at the beginning of a data\n",
    "analysis. Each time you set the seed, you are inserting your own human input,\n",
    "thereby influencing the analysis. If you use `np.random.choice` many times\n",
    "throughout your analysis, the randomness that Python uses will not look \n",
    "as random as it should.\n",
    "\n",
    "In summary: if you want your analysis to be reproducible, i.e., produce *the same result* each time you\n",
    "run it, make sure to use `np.random.seed` exactly once at the beginning of the analysis.\n",
    "Different argument values in `np.random.seed` lead to different patterns of randomness, but as long as \n",
    "you pick the same argument value your result will be the same. \n",
    "In the remainder of the textbook, we will set the seed once at the beginning of each chapter."
   ]
  },
  {
   "cell_type": "code",
   "execution_count": 8,
   "id": "27dfeaf5",
   "metadata": {
    "tags": [
     "remove-cell"
    ]
   },
   "outputs": [],
   "source": [
    "# In other words, even though the sequences of numbers that R is generating *look*\n",
    "# random, they are totally determined when we set a seed value! \n",
    "\n",
    "# So what does this mean for data analysis? Well, `sample` is certainly\n",
    "# not the only function that uses randomness in R. Many of the functions \n",
    "# that we use in `tidymodels`, `tidyverse`, and beyond use randomness&mdash;many of them\n",
    "# without even telling you about it. So at the beginning of every data analysis you\n",
    "# do, right after loading packages, you should call the `set.seed` function and\n",
    "# pass it an integer that you pick.\n",
    "# Also note that when R starts up, it creates its own seed to use. So if you do not\n",
    "# explicitly call the `set.seed` function in your code, your results will \n",
    "# likely not be reproducible.\n",
    "# And finally, be careful to set the seed *only once* at the beginning of a data\n",
    "# analysis. Each time you set the seed, you are inserting your own human input,\n",
    "# thereby influencing the analysis. If you use `set.seed` many times\n",
    "# throughout your analysis, the randomness that R uses will not look \n",
    "# as random as it should.\n",
    "\n",
    "# In summary: if you want your analysis to be reproducible, i.e., produce *the same result* each time you\n",
    "# run it, make sure to use `set.seed` exactly once at the beginning of the analysis.\n",
    "# Different argument values in `set.seed` lead to different patterns of randomness, but as long as \n",
    "# you pick the same argument value your result will be the same. \n",
    "# In the remainder of the textbook, we will set the seed once at the beginning of each chapter."
   ]
  },
  {
   "cell_type": "markdown",
   "id": "7984f1f0",
   "metadata": {},
   "source": [
    "## Evaluating accuracy with `scikit-learn`\n",
    "Back to evaluating classifiers now!\n",
    "In R, we can use the `tidymodels` package \\index{tidymodels} not only to perform $K$-nearest neighbors\n",
    "classification, but also to assess how well our classification worked. \n",
    "Let's work through an example of how to use tools from `tidymodels` to evaluate a classifier\n",
    " using the breast cancer data set from the previous chapter.\n",
    "We begin the analysis by loading the packages we require,\n",
    "reading in the breast cancer data,\n",
    "and then making a quick scatter plot visualization \\index{visualization!scatter} of\n",
    "tumor cell concavity versus smoothness colored by diagnosis in {numref}`fig:06-precode`.\n",
    "You will also notice that we set the random seed here at the beginning of the analysis\n",
    "using the `set.seed` function, as described in Section {ref}`randomseeds`."
   ]
  },
  {
   "cell_type": "code",
   "execution_count": 9,
   "id": "b42d8f0f",
   "metadata": {},
   "outputs": [
    {
     "data": {
      "text/html": [
       "\n",
       "<div id=\"altair-viz-1496140e11cc4fa0845cc1a84d61ebb1\"></div>\n",
       "<script type=\"text/javascript\">\n",
       "  var VEGA_DEBUG = (typeof VEGA_DEBUG == \"undefined\") ? {} : VEGA_DEBUG;\n",
       "  (function(spec, embedOpt){\n",
       "    let outputDiv = document.currentScript.previousElementSibling;\n",
       "    if (outputDiv.id !== \"altair-viz-1496140e11cc4fa0845cc1a84d61ebb1\") {\n",
       "      outputDiv = document.getElementById(\"altair-viz-1496140e11cc4fa0845cc1a84d61ebb1\");\n",
       "    }\n",
       "    const paths = {\n",
       "      \"vega\": \"https://cdn.jsdelivr.net/npm//vega@5?noext\",\n",
       "      \"vega-lib\": \"https://cdn.jsdelivr.net/npm//vega-lib?noext\",\n",
       "      \"vega-lite\": \"https://cdn.jsdelivr.net/npm//vega-lite@4.17.0?noext\",\n",
       "      \"vega-embed\": \"https://cdn.jsdelivr.net/npm//vega-embed@6?noext\",\n",
       "    };\n",
       "\n",
       "    function maybeLoadScript(lib, version) {\n",
       "      var key = `${lib.replace(\"-\", \"\")}_version`;\n",
       "      return (VEGA_DEBUG[key] == version) ?\n",
       "        Promise.resolve(paths[lib]) :\n",
       "        new Promise(function(resolve, reject) {\n",
       "          var s = document.createElement('script');\n",
       "          document.getElementsByTagName(\"head\")[0].appendChild(s);\n",
       "          s.async = true;\n",
       "          s.onload = () => {\n",
       "            VEGA_DEBUG[key] = version;\n",
       "            return resolve(paths[lib]);\n",
       "          };\n",
       "          s.onerror = () => reject(`Error loading script: ${paths[lib]}`);\n",
       "          s.src = paths[lib];\n",
       "        });\n",
       "    }\n",
       "\n",
       "    function showError(err) {\n",
       "      outputDiv.innerHTML = `<div class=\"error\" style=\"color:red;\">${err}</div>`;\n",
       "      throw err;\n",
       "    }\n",
       "\n",
       "    function displayChart(vegaEmbed) {\n",
       "      vegaEmbed(outputDiv, spec, embedOpt)\n",
       "        .catch(err => showError(`Javascript Error: ${err.message}<br>This usually means there's a typo in your chart specification. See the javascript console for the full traceback.`));\n",
       "    }\n",
       "\n",
       "    if(typeof define === \"function\" && define.amd) {\n",
       "      requirejs.config({paths});\n",
       "      require([\"vega-embed\"], displayChart, err => showError(`Error loading script: ${err.message}`));\n",
       "    } else {\n",
       "      maybeLoadScript(\"vega\", \"5\")\n",
       "        .then(() => maybeLoadScript(\"vega-lite\", \"4.17.0\"))\n",
       "        .then(() => maybeLoadScript(\"vega-embed\", \"6\"))\n",
       "        .catch(showError)\n",
       "        .then(() => displayChart(vegaEmbed));\n",
       "    }\n",
       "  })({\"config\": {\"view\": {\"continuousWidth\": 400, \"continuousHeight\": 300}}, \"data\": {\"name\": \"data-df574bff6f1de850e63cb83002499299\"}, \"mark\": {\"type\": \"point\", \"filled\": true, \"opacity\": 0.6, \"size\": 40}, \"encoding\": {\"color\": {\"field\": \"Class\", \"scale\": {\"range\": [\"#86bfef\", \"#efb13f\"]}, \"title\": \"Diagnosis\", \"type\": \"nominal\"}, \"x\": {\"field\": \"Smoothness\", \"type\": \"quantitative\"}, \"y\": {\"field\": \"Concavity\", \"type\": \"quantitative\"}}, \"$schema\": \"https://vega.github.io/schema/vega-lite/v4.17.0.json\", \"datasets\": {\"data-df574bff6f1de850e63cb83002499299\": [{\"ID\": 842302, \"Class\": \"Malignant\", \"Radius\": 17.99, \"Texture\": 10.38, \"Perimeter\": 122.8, \"Area\": 1001.0, \"Smoothness\": 0.1184, \"Compactness\": 0.2776, \"Concavity\": 0.3001, \"Concave_Points\": 0.1471, \"Symmetry\": 0.2419, \"Fractal_Dimension\": 0.07871}, {\"ID\": 842517, \"Class\": \"Malignant\", \"Radius\": 20.57, \"Texture\": 17.77, \"Perimeter\": 132.9, \"Area\": 1326.0, \"Smoothness\": 0.08474, \"Compactness\": 0.07864, \"Concavity\": 0.0869, \"Concave_Points\": 0.07017, \"Symmetry\": 0.1812, \"Fractal_Dimension\": 0.05667}, {\"ID\": 84300903, \"Class\": \"Malignant\", \"Radius\": 19.69, \"Texture\": 21.25, \"Perimeter\": 130.0, \"Area\": 1203.0, \"Smoothness\": 0.1096, \"Compactness\": 0.1599, \"Concavity\": 0.1974, \"Concave_Points\": 0.1279, \"Symmetry\": 0.2069, \"Fractal_Dimension\": 0.05999}, {\"ID\": 84348301, \"Class\": \"Malignant\", \"Radius\": 11.42, \"Texture\": 20.38, \"Perimeter\": 77.58, \"Area\": 386.1, \"Smoothness\": 0.1425, \"Compactness\": 0.2839, \"Concavity\": 0.2414, \"Concave_Points\": 0.1052, \"Symmetry\": 0.2597, \"Fractal_Dimension\": 0.09744}, {\"ID\": 84358402, \"Class\": \"Malignant\", \"Radius\": 20.29, \"Texture\": 14.34, \"Perimeter\": 135.1, \"Area\": 1297.0, \"Smoothness\": 0.1003, \"Compactness\": 0.1328, \"Concavity\": 0.198, \"Concave_Points\": 0.1043, \"Symmetry\": 0.1809, \"Fractal_Dimension\": 0.05883}, {\"ID\": 843786, \"Class\": \"Malignant\", \"Radius\": 12.45, \"Texture\": 15.7, \"Perimeter\": 82.57, \"Area\": 477.1, \"Smoothness\": 0.1278, \"Compactness\": 0.17, \"Concavity\": 0.1578, \"Concave_Points\": 0.08089, \"Symmetry\": 0.2087, \"Fractal_Dimension\": 0.07613}, {\"ID\": 844359, \"Class\": \"Malignant\", \"Radius\": 18.25, \"Texture\": 19.98, \"Perimeter\": 119.6, \"Area\": 1040.0, \"Smoothness\": 0.09463, \"Compactness\": 0.109, \"Concavity\": 0.1127, \"Concave_Points\": 0.074, \"Symmetry\": 0.1794, \"Fractal_Dimension\": 0.05742}, {\"ID\": 84458202, \"Class\": \"Malignant\", \"Radius\": 13.71, \"Texture\": 20.83, \"Perimeter\": 90.2, \"Area\": 577.9, \"Smoothness\": 0.1189, \"Compactness\": 0.1645, \"Concavity\": 0.09366, \"Concave_Points\": 0.05985, \"Symmetry\": 0.2196, \"Fractal_Dimension\": 0.07451}, {\"ID\": 844981, \"Class\": \"Malignant\", \"Radius\": 13.0, \"Texture\": 21.82, \"Perimeter\": 87.5, \"Area\": 519.8, \"Smoothness\": 0.1273, \"Compactness\": 0.1932, \"Concavity\": 0.1859, \"Concave_Points\": 0.09353, \"Symmetry\": 0.235, \"Fractal_Dimension\": 0.07389}, {\"ID\": 84501001, \"Class\": \"Malignant\", \"Radius\": 12.46, \"Texture\": 24.04, \"Perimeter\": 83.97, \"Area\": 475.9, \"Smoothness\": 0.1186, \"Compactness\": 0.2396, \"Concavity\": 0.2273, \"Concave_Points\": 0.08543, \"Symmetry\": 0.203, \"Fractal_Dimension\": 0.08243}, {\"ID\": 845636, \"Class\": \"Malignant\", \"Radius\": 16.02, \"Texture\": 23.24, \"Perimeter\": 102.7, \"Area\": 797.8, \"Smoothness\": 0.08206, \"Compactness\": 0.06669, \"Concavity\": 0.03299, \"Concave_Points\": 0.03323, \"Symmetry\": 0.1528, \"Fractal_Dimension\": 0.05697}, {\"ID\": 84610002, \"Class\": \"Malignant\", \"Radius\": 15.78, \"Texture\": 17.89, \"Perimeter\": 103.6, \"Area\": 781.0, \"Smoothness\": 0.0971, \"Compactness\": 0.1292, \"Concavity\": 0.09954, \"Concave_Points\": 0.06606, \"Symmetry\": 0.1842, \"Fractal_Dimension\": 0.06082}, {\"ID\": 846226, \"Class\": \"Malignant\", \"Radius\": 19.17, \"Texture\": 24.8, \"Perimeter\": 132.4, \"Area\": 1123.0, \"Smoothness\": 0.0974, \"Compactness\": 0.2458, \"Concavity\": 0.2065, \"Concave_Points\": 0.1118, \"Symmetry\": 0.2397, \"Fractal_Dimension\": 0.078}, {\"ID\": 846381, \"Class\": \"Malignant\", \"Radius\": 15.85, \"Texture\": 23.95, \"Perimeter\": 103.7, \"Area\": 782.7, \"Smoothness\": 0.08401, \"Compactness\": 0.1002, \"Concavity\": 0.09938, \"Concave_Points\": 0.05364, \"Symmetry\": 0.1847, \"Fractal_Dimension\": 0.05338}, {\"ID\": 84667401, \"Class\": \"Malignant\", \"Radius\": 13.73, \"Texture\": 22.61, \"Perimeter\": 93.6, \"Area\": 578.3, \"Smoothness\": 0.1131, \"Compactness\": 0.2293, \"Concavity\": 0.2128, \"Concave_Points\": 0.08025, \"Symmetry\": 0.2069, \"Fractal_Dimension\": 0.07682}, {\"ID\": 84799002, \"Class\": \"Malignant\", \"Radius\": 14.54, \"Texture\": 27.54, \"Perimeter\": 96.73, \"Area\": 658.8, \"Smoothness\": 0.1139, \"Compactness\": 0.1595, \"Concavity\": 0.1639, \"Concave_Points\": 0.07364, \"Symmetry\": 0.2303, \"Fractal_Dimension\": 0.07077}, {\"ID\": 848406, \"Class\": \"Malignant\", \"Radius\": 14.68, \"Texture\": 20.13, \"Perimeter\": 94.74, \"Area\": 684.5, \"Smoothness\": 0.09867, \"Compactness\": 0.072, \"Concavity\": 0.07395, \"Concave_Points\": 0.05259, \"Symmetry\": 0.1586, \"Fractal_Dimension\": 0.05922}, {\"ID\": 84862001, \"Class\": \"Malignant\", \"Radius\": 16.13, \"Texture\": 20.68, \"Perimeter\": 108.1, \"Area\": 798.8, \"Smoothness\": 0.117, \"Compactness\": 0.2022, \"Concavity\": 0.1722, \"Concave_Points\": 0.1028, \"Symmetry\": 0.2164, \"Fractal_Dimension\": 0.07356}, {\"ID\": 849014, \"Class\": \"Malignant\", \"Radius\": 19.81, \"Texture\": 22.15, \"Perimeter\": 130.0, \"Area\": 1260.0, \"Smoothness\": 0.09831, \"Compactness\": 0.1027, \"Concavity\": 0.1479, \"Concave_Points\": 0.09498, \"Symmetry\": 0.1582, \"Fractal_Dimension\": 0.05395}, {\"ID\": 8510426, \"Class\": \"Benign\", \"Radius\": 13.54, \"Texture\": 14.36, \"Perimeter\": 87.46, \"Area\": 566.3, \"Smoothness\": 0.09779, \"Compactness\": 0.08129, \"Concavity\": 0.06664, \"Concave_Points\": 0.04781, \"Symmetry\": 0.1885, \"Fractal_Dimension\": 0.05766}, {\"ID\": 8510653, \"Class\": \"Benign\", \"Radius\": 13.08, \"Texture\": 15.71, \"Perimeter\": 85.63, \"Area\": 520.0, \"Smoothness\": 0.1075, \"Compactness\": 0.127, \"Concavity\": 0.04568, \"Concave_Points\": 0.0311, \"Symmetry\": 0.1967, \"Fractal_Dimension\": 0.06811}, {\"ID\": 8510824, \"Class\": \"Benign\", \"Radius\": 9.504, \"Texture\": 12.44, \"Perimeter\": 60.34, \"Area\": 273.9, \"Smoothness\": 0.1024, \"Compactness\": 0.06492, \"Concavity\": 0.02956, \"Concave_Points\": 0.02076, \"Symmetry\": 0.1815, \"Fractal_Dimension\": 0.06905}, {\"ID\": 8511133, \"Class\": \"Malignant\", \"Radius\": 15.34, \"Texture\": 14.26, \"Perimeter\": 102.5, \"Area\": 704.4, \"Smoothness\": 0.1073, \"Compactness\": 0.2135, \"Concavity\": 0.2077, \"Concave_Points\": 0.09756, \"Symmetry\": 0.2521, \"Fractal_Dimension\": 0.07032}, {\"ID\": 851509, \"Class\": \"Malignant\", \"Radius\": 21.16, \"Texture\": 23.04, \"Perimeter\": 137.2, \"Area\": 1404.0, \"Smoothness\": 0.09428, \"Compactness\": 0.1022, \"Concavity\": 0.1097, \"Concave_Points\": 0.08632, \"Symmetry\": 0.1769, \"Fractal_Dimension\": 0.05278}, {\"ID\": 852552, \"Class\": \"Malignant\", \"Radius\": 16.65, \"Texture\": 21.38, \"Perimeter\": 110.0, \"Area\": 904.6, \"Smoothness\": 0.1121, \"Compactness\": 0.1457, \"Concavity\": 0.1525, \"Concave_Points\": 0.0917, \"Symmetry\": 0.1995, \"Fractal_Dimension\": 0.0633}, {\"ID\": 852631, \"Class\": \"Malignant\", \"Radius\": 17.14, \"Texture\": 16.4, \"Perimeter\": 116.0, \"Area\": 912.7, \"Smoothness\": 0.1186, \"Compactness\": 0.2276, \"Concavity\": 0.2229, \"Concave_Points\": 0.1401, \"Symmetry\": 0.304, \"Fractal_Dimension\": 0.07413}, {\"ID\": 852763, \"Class\": \"Malignant\", \"Radius\": 14.58, \"Texture\": 21.53, \"Perimeter\": 97.41, \"Area\": 644.8, \"Smoothness\": 0.1054, \"Compactness\": 0.1868, \"Concavity\": 0.1425, \"Concave_Points\": 0.08783, \"Symmetry\": 0.2252, \"Fractal_Dimension\": 0.06924}, {\"ID\": 852781, \"Class\": \"Malignant\", \"Radius\": 18.61, \"Texture\": 20.25, \"Perimeter\": 122.1, \"Area\": 1094.0, \"Smoothness\": 0.0944, \"Compactness\": 0.1066, \"Concavity\": 0.149, \"Concave_Points\": 0.07731, \"Symmetry\": 0.1697, \"Fractal_Dimension\": 0.05699}, {\"ID\": 852973, \"Class\": \"Malignant\", \"Radius\": 15.3, \"Texture\": 25.27, \"Perimeter\": 102.4, \"Area\": 732.4, \"Smoothness\": 0.1082, \"Compactness\": 0.1697, \"Concavity\": 0.1683, \"Concave_Points\": 0.08751, \"Symmetry\": 0.1926, \"Fractal_Dimension\": 0.0654}, {\"ID\": 853201, \"Class\": \"Malignant\", \"Radius\": 17.57, \"Texture\": 15.05, \"Perimeter\": 115.0, \"Area\": 955.1, \"Smoothness\": 0.09847, \"Compactness\": 0.1157, \"Concavity\": 0.09875, \"Concave_Points\": 0.07953, \"Symmetry\": 0.1739, \"Fractal_Dimension\": 0.06149}, {\"ID\": 853401, \"Class\": \"Malignant\", \"Radius\": 18.63, \"Texture\": 25.11, \"Perimeter\": 124.8, \"Area\": 1088.0, \"Smoothness\": 0.1064, \"Compactness\": 0.1887, \"Concavity\": 0.2319, \"Concave_Points\": 0.1244, \"Symmetry\": 0.2183, \"Fractal_Dimension\": 0.06197}, {\"ID\": 853612, \"Class\": \"Malignant\", \"Radius\": 11.84, \"Texture\": 18.7, \"Perimeter\": 77.93, \"Area\": 440.6, \"Smoothness\": 0.1109, \"Compactness\": 0.1516, \"Concavity\": 0.1218, \"Concave_Points\": 0.05182, \"Symmetry\": 0.2301, \"Fractal_Dimension\": 0.07799}, {\"ID\": 85382601, \"Class\": \"Malignant\", \"Radius\": 17.02, \"Texture\": 23.98, \"Perimeter\": 112.8, \"Area\": 899.3, \"Smoothness\": 0.1197, \"Compactness\": 0.1496, \"Concavity\": 0.2417, \"Concave_Points\": 0.1203, \"Symmetry\": 0.2248, \"Fractal_Dimension\": 0.06382}, {\"ID\": 854002, \"Class\": \"Malignant\", \"Radius\": 19.27, \"Texture\": 26.47, \"Perimeter\": 127.9, \"Area\": 1162.0, \"Smoothness\": 0.09401, \"Compactness\": 0.1719, \"Concavity\": 0.1657, \"Concave_Points\": 0.07593, \"Symmetry\": 0.1853, \"Fractal_Dimension\": 0.06261}, {\"ID\": 854039, \"Class\": \"Malignant\", \"Radius\": 16.13, \"Texture\": 17.88, \"Perimeter\": 107.0, \"Area\": 807.2, \"Smoothness\": 0.104, \"Compactness\": 0.1559, \"Concavity\": 0.1354, \"Concave_Points\": 0.07752, \"Symmetry\": 0.1998, \"Fractal_Dimension\": 0.06515}, {\"ID\": 854253, \"Class\": \"Malignant\", \"Radius\": 16.74, \"Texture\": 21.59, \"Perimeter\": 110.1, \"Area\": 869.5, \"Smoothness\": 0.0961, \"Compactness\": 0.1336, \"Concavity\": 0.1348, \"Concave_Points\": 0.06018, \"Symmetry\": 0.1896, \"Fractal_Dimension\": 0.05656}, {\"ID\": 854268, \"Class\": \"Malignant\", \"Radius\": 14.25, \"Texture\": 21.72, \"Perimeter\": 93.63, \"Area\": 633.0, \"Smoothness\": 0.09823, \"Compactness\": 0.1098, \"Concavity\": 0.1319, \"Concave_Points\": 0.05598, \"Symmetry\": 0.1885, \"Fractal_Dimension\": 0.06125}, {\"ID\": 854941, \"Class\": \"Benign\", \"Radius\": 13.03, \"Texture\": 18.42, \"Perimeter\": 82.61, \"Area\": 523.8, \"Smoothness\": 0.08983, \"Compactness\": 0.03766, \"Concavity\": 0.02562, \"Concave_Points\": 0.02923, \"Symmetry\": 0.1467, \"Fractal_Dimension\": 0.05863}, {\"ID\": 855133, \"Class\": \"Malignant\", \"Radius\": 14.99, \"Texture\": 25.2, \"Perimeter\": 95.54, \"Area\": 698.8, \"Smoothness\": 0.09387, \"Compactness\": 0.05131, \"Concavity\": 0.02398, \"Concave_Points\": 0.02899, \"Symmetry\": 0.1565, \"Fractal_Dimension\": 0.05504}, {\"ID\": 855138, \"Class\": \"Malignant\", \"Radius\": 13.48, \"Texture\": 20.82, \"Perimeter\": 88.4, \"Area\": 559.2, \"Smoothness\": 0.1016, \"Compactness\": 0.1255, \"Concavity\": 0.1063, \"Concave_Points\": 0.05439, \"Symmetry\": 0.172, \"Fractal_Dimension\": 0.06419}, {\"ID\": 855167, \"Class\": \"Malignant\", \"Radius\": 13.44, \"Texture\": 21.58, \"Perimeter\": 86.18, \"Area\": 563.0, \"Smoothness\": 0.08162, \"Compactness\": 0.06031, \"Concavity\": 0.0311, \"Concave_Points\": 0.02031, \"Symmetry\": 0.1784, \"Fractal_Dimension\": 0.05587}, {\"ID\": 855563, \"Class\": \"Malignant\", \"Radius\": 10.95, \"Texture\": 21.35, \"Perimeter\": 71.9, \"Area\": 371.1, \"Smoothness\": 0.1227, \"Compactness\": 0.1218, \"Concavity\": 0.1044, \"Concave_Points\": 0.05669, \"Symmetry\": 0.1895, \"Fractal_Dimension\": 0.0687}, {\"ID\": 855625, \"Class\": \"Malignant\", \"Radius\": 19.07, \"Texture\": 24.81, \"Perimeter\": 128.3, \"Area\": 1104.0, \"Smoothness\": 0.09081, \"Compactness\": 0.219, \"Concavity\": 0.2107, \"Concave_Points\": 0.09961, \"Symmetry\": 0.231, \"Fractal_Dimension\": 0.06343}, {\"ID\": 856106, \"Class\": \"Malignant\", \"Radius\": 13.28, \"Texture\": 20.28, \"Perimeter\": 87.32, \"Area\": 545.2, \"Smoothness\": 0.1041, \"Compactness\": 0.1436, \"Concavity\": 0.09847, \"Concave_Points\": 0.06158, \"Symmetry\": 0.1974, \"Fractal_Dimension\": 0.06782}, {\"ID\": 85638502, \"Class\": \"Malignant\", \"Radius\": 13.17, \"Texture\": 21.81, \"Perimeter\": 85.42, \"Area\": 531.5, \"Smoothness\": 0.09714, \"Compactness\": 0.1047, \"Concavity\": 0.08259, \"Concave_Points\": 0.05252, \"Symmetry\": 0.1746, \"Fractal_Dimension\": 0.06177}, {\"ID\": 857010, \"Class\": \"Malignant\", \"Radius\": 18.65, \"Texture\": 17.6, \"Perimeter\": 123.7, \"Area\": 1076.0, \"Smoothness\": 0.1099, \"Compactness\": 0.1686, \"Concavity\": 0.1974, \"Concave_Points\": 0.1009, \"Symmetry\": 0.1907, \"Fractal_Dimension\": 0.06049}, {\"ID\": 85713702, \"Class\": \"Benign\", \"Radius\": 8.196, \"Texture\": 16.84, \"Perimeter\": 51.71, \"Area\": 201.9, \"Smoothness\": 0.086, \"Compactness\": 0.05943, \"Concavity\": 0.01588, \"Concave_Points\": 0.005917, \"Symmetry\": 0.1769, \"Fractal_Dimension\": 0.06503}, {\"ID\": 85715, \"Class\": \"Malignant\", \"Radius\": 13.17, \"Texture\": 18.66, \"Perimeter\": 85.98, \"Area\": 534.6, \"Smoothness\": 0.1158, \"Compactness\": 0.1231, \"Concavity\": 0.1226, \"Concave_Points\": 0.0734, \"Symmetry\": 0.2128, \"Fractal_Dimension\": 0.06777}, {\"ID\": 857155, \"Class\": \"Benign\", \"Radius\": 12.05, \"Texture\": 14.63, \"Perimeter\": 78.04, \"Area\": 449.3, \"Smoothness\": 0.1031, \"Compactness\": 0.09092, \"Concavity\": 0.06592, \"Concave_Points\": 0.02749, \"Symmetry\": 0.1675, \"Fractal_Dimension\": 0.06043}, {\"ID\": 857156, \"Class\": \"Benign\", \"Radius\": 13.49, \"Texture\": 22.3, \"Perimeter\": 86.91, \"Area\": 561.0, \"Smoothness\": 0.08752, \"Compactness\": 0.07698, \"Concavity\": 0.04751, \"Concave_Points\": 0.03384, \"Symmetry\": 0.1809, \"Fractal_Dimension\": 0.05718}, {\"ID\": 857343, \"Class\": \"Benign\", \"Radius\": 11.76, \"Texture\": 21.6, \"Perimeter\": 74.72, \"Area\": 427.9, \"Smoothness\": 0.08637, \"Compactness\": 0.04966, \"Concavity\": 0.01657, \"Concave_Points\": 0.01115, \"Symmetry\": 0.1495, \"Fractal_Dimension\": 0.05888}, {\"ID\": 857373, \"Class\": \"Benign\", \"Radius\": 13.64, \"Texture\": 16.34, \"Perimeter\": 87.21, \"Area\": 571.8, \"Smoothness\": 0.07685, \"Compactness\": 0.06059, \"Concavity\": 0.01857, \"Concave_Points\": 0.01723, \"Symmetry\": 0.1353, \"Fractal_Dimension\": 0.05953}, {\"ID\": 857374, \"Class\": \"Benign\", \"Radius\": 11.94, \"Texture\": 18.24, \"Perimeter\": 75.71, \"Area\": 437.6, \"Smoothness\": 0.08261, \"Compactness\": 0.04751, \"Concavity\": 0.01972, \"Concave_Points\": 0.01349, \"Symmetry\": 0.1868, \"Fractal_Dimension\": 0.0611}, {\"ID\": 857392, \"Class\": \"Malignant\", \"Radius\": 18.22, \"Texture\": 18.7, \"Perimeter\": 120.3, \"Area\": 1033.0, \"Smoothness\": 0.1148, \"Compactness\": 0.1485, \"Concavity\": 0.1772, \"Concave_Points\": 0.106, \"Symmetry\": 0.2092, \"Fractal_Dimension\": 0.0631}, {\"ID\": 857438, \"Class\": \"Malignant\", \"Radius\": 15.1, \"Texture\": 22.02, \"Perimeter\": 97.26, \"Area\": 712.8, \"Smoothness\": 0.09056, \"Compactness\": 0.07081, \"Concavity\": 0.05253, \"Concave_Points\": 0.03334, \"Symmetry\": 0.1616, \"Fractal_Dimension\": 0.05684}, {\"ID\": 85759902, \"Class\": \"Benign\", \"Radius\": 11.52, \"Texture\": 18.75, \"Perimeter\": 73.34, \"Area\": 409.0, \"Smoothness\": 0.09524, \"Compactness\": 0.05473, \"Concavity\": 0.03036, \"Concave_Points\": 0.02278, \"Symmetry\": 0.192, \"Fractal_Dimension\": 0.05907}, {\"ID\": 857637, \"Class\": \"Malignant\", \"Radius\": 19.21, \"Texture\": 18.57, \"Perimeter\": 125.5, \"Area\": 1152.0, \"Smoothness\": 0.1053, \"Compactness\": 0.1267, \"Concavity\": 0.1323, \"Concave_Points\": 0.08994, \"Symmetry\": 0.1917, \"Fractal_Dimension\": 0.05961}, {\"ID\": 857793, \"Class\": \"Malignant\", \"Radius\": 14.71, \"Texture\": 21.59, \"Perimeter\": 95.55, \"Area\": 656.9, \"Smoothness\": 0.1137, \"Compactness\": 0.1365, \"Concavity\": 0.1293, \"Concave_Points\": 0.08123, \"Symmetry\": 0.2027, \"Fractal_Dimension\": 0.06758}, {\"ID\": 857810, \"Class\": \"Benign\", \"Radius\": 13.05, \"Texture\": 19.31, \"Perimeter\": 82.61, \"Area\": 527.2, \"Smoothness\": 0.0806, \"Compactness\": 0.03789, \"Concavity\": 0.000692, \"Concave_Points\": 0.004167, \"Symmetry\": 0.1819, \"Fractal_Dimension\": 0.05501}, {\"ID\": 858477, \"Class\": \"Benign\", \"Radius\": 8.618, \"Texture\": 11.79, \"Perimeter\": 54.34, \"Area\": 224.5, \"Smoothness\": 0.09752, \"Compactness\": 0.05272, \"Concavity\": 0.02061, \"Concave_Points\": 0.007799, \"Symmetry\": 0.1683, \"Fractal_Dimension\": 0.07187}, {\"ID\": 858970, \"Class\": \"Benign\", \"Radius\": 10.17, \"Texture\": 14.88, \"Perimeter\": 64.55, \"Area\": 311.9, \"Smoothness\": 0.1134, \"Compactness\": 0.08061, \"Concavity\": 0.01084, \"Concave_Points\": 0.0129, \"Symmetry\": 0.2743, \"Fractal_Dimension\": 0.0696}, {\"ID\": 858981, \"Class\": \"Benign\", \"Radius\": 8.598, \"Texture\": 20.98, \"Perimeter\": 54.66, \"Area\": 221.8, \"Smoothness\": 0.1243, \"Compactness\": 0.08963, \"Concavity\": 0.03, \"Concave_Points\": 0.009259, \"Symmetry\": 0.1828, \"Fractal_Dimension\": 0.06757}, {\"ID\": 858986, \"Class\": \"Malignant\", \"Radius\": 14.25, \"Texture\": 22.15, \"Perimeter\": 96.42, \"Area\": 645.7, \"Smoothness\": 0.1049, \"Compactness\": 0.2008, \"Concavity\": 0.2135, \"Concave_Points\": 0.08653, \"Symmetry\": 0.1949, \"Fractal_Dimension\": 0.07292}, {\"ID\": 859196, \"Class\": \"Benign\", \"Radius\": 9.173, \"Texture\": 13.86, \"Perimeter\": 59.2, \"Area\": 260.9, \"Smoothness\": 0.07721, \"Compactness\": 0.08751, \"Concavity\": 0.05988, \"Concave_Points\": 0.0218, \"Symmetry\": 0.2341, \"Fractal_Dimension\": 0.06963}, {\"ID\": 85922302, \"Class\": \"Malignant\", \"Radius\": 12.68, \"Texture\": 23.84, \"Perimeter\": 82.69, \"Area\": 499.0, \"Smoothness\": 0.1122, \"Compactness\": 0.1262, \"Concavity\": 0.1128, \"Concave_Points\": 0.06873, \"Symmetry\": 0.1905, \"Fractal_Dimension\": 0.0659}, {\"ID\": 859283, \"Class\": \"Malignant\", \"Radius\": 14.78, \"Texture\": 23.94, \"Perimeter\": 97.4, \"Area\": 668.3, \"Smoothness\": 0.1172, \"Compactness\": 0.1479, \"Concavity\": 0.1267, \"Concave_Points\": 0.09029, \"Symmetry\": 0.1953, \"Fractal_Dimension\": 0.06654}, {\"ID\": 859464, \"Class\": \"Benign\", \"Radius\": 9.465, \"Texture\": 21.01, \"Perimeter\": 60.11, \"Area\": 269.4, \"Smoothness\": 0.1044, \"Compactness\": 0.07773, \"Concavity\": 0.02172, \"Concave_Points\": 0.01504, \"Symmetry\": 0.1717, \"Fractal_Dimension\": 0.06899}, {\"ID\": 859465, \"Class\": \"Benign\", \"Radius\": 11.31, \"Texture\": 19.04, \"Perimeter\": 71.8, \"Area\": 394.1, \"Smoothness\": 0.08139, \"Compactness\": 0.04701, \"Concavity\": 0.03709, \"Concave_Points\": 0.0223, \"Symmetry\": 0.1516, \"Fractal_Dimension\": 0.05667}, {\"ID\": 859471, \"Class\": \"Benign\", \"Radius\": 9.029, \"Texture\": 17.33, \"Perimeter\": 58.79, \"Area\": 250.5, \"Smoothness\": 0.1066, \"Compactness\": 0.1413, \"Concavity\": 0.313, \"Concave_Points\": 0.04375, \"Symmetry\": 0.2111, \"Fractal_Dimension\": 0.08046}, {\"ID\": 859487, \"Class\": \"Benign\", \"Radius\": 12.78, \"Texture\": 16.49, \"Perimeter\": 81.37, \"Area\": 502.5, \"Smoothness\": 0.09831, \"Compactness\": 0.05234, \"Concavity\": 0.03653, \"Concave_Points\": 0.02864, \"Symmetry\": 0.159, \"Fractal_Dimension\": 0.05653}, {\"ID\": 859575, \"Class\": \"Malignant\", \"Radius\": 18.94, \"Texture\": 21.31, \"Perimeter\": 123.6, \"Area\": 1130.0, \"Smoothness\": 0.09009, \"Compactness\": 0.1029, \"Concavity\": 0.108, \"Concave_Points\": 0.07951, \"Symmetry\": 0.1582, \"Fractal_Dimension\": 0.05461}, {\"ID\": 859711, \"Class\": \"Benign\", \"Radius\": 8.888, \"Texture\": 14.64, \"Perimeter\": 58.79, \"Area\": 244.0, \"Smoothness\": 0.09783, \"Compactness\": 0.1531, \"Concavity\": 0.08606, \"Concave_Points\": 0.02872, \"Symmetry\": 0.1902, \"Fractal_Dimension\": 0.0898}, {\"ID\": 859717, \"Class\": \"Malignant\", \"Radius\": 17.2, \"Texture\": 24.52, \"Perimeter\": 114.2, \"Area\": 929.4, \"Smoothness\": 0.1071, \"Compactness\": 0.183, \"Concavity\": 0.1692, \"Concave_Points\": 0.07944, \"Symmetry\": 0.1927, \"Fractal_Dimension\": 0.06487}, {\"ID\": 859983, \"Class\": \"Malignant\", \"Radius\": 13.8, \"Texture\": 15.79, \"Perimeter\": 90.43, \"Area\": 584.1, \"Smoothness\": 0.1007, \"Compactness\": 0.128, \"Concavity\": 0.07789, \"Concave_Points\": 0.05069, \"Symmetry\": 0.1662, \"Fractal_Dimension\": 0.06566}, {\"ID\": 8610175, \"Class\": \"Benign\", \"Radius\": 12.31, \"Texture\": 16.52, \"Perimeter\": 79.19, \"Area\": 470.9, \"Smoothness\": 0.09172, \"Compactness\": 0.06829, \"Concavity\": 0.03372, \"Concave_Points\": 0.02272, \"Symmetry\": 0.172, \"Fractal_Dimension\": 0.05914}, {\"ID\": 8610404, \"Class\": \"Malignant\", \"Radius\": 16.07, \"Texture\": 19.65, \"Perimeter\": 104.1, \"Area\": 817.7, \"Smoothness\": 0.09168, \"Compactness\": 0.08424, \"Concavity\": 0.09769, \"Concave_Points\": 0.06638, \"Symmetry\": 0.1798, \"Fractal_Dimension\": 0.05391}, {\"ID\": 8610629, \"Class\": \"Benign\", \"Radius\": 13.53, \"Texture\": 10.94, \"Perimeter\": 87.91, \"Area\": 559.2, \"Smoothness\": 0.1291, \"Compactness\": 0.1047, \"Concavity\": 0.06877, \"Concave_Points\": 0.06556, \"Symmetry\": 0.2403, \"Fractal_Dimension\": 0.06641}, {\"ID\": 8610637, \"Class\": \"Malignant\", \"Radius\": 18.05, \"Texture\": 16.15, \"Perimeter\": 120.2, \"Area\": 1006.0, \"Smoothness\": 0.1065, \"Compactness\": 0.2146, \"Concavity\": 0.1684, \"Concave_Points\": 0.108, \"Symmetry\": 0.2152, \"Fractal_Dimension\": 0.06673}, {\"ID\": 8610862, \"Class\": \"Malignant\", \"Radius\": 20.18, \"Texture\": 23.97, \"Perimeter\": 143.7, \"Area\": 1245.0, \"Smoothness\": 0.1286, \"Compactness\": 0.3454, \"Concavity\": 0.3754, \"Concave_Points\": 0.1604, \"Symmetry\": 0.2906, \"Fractal_Dimension\": 0.08142}, {\"ID\": 8610908, \"Class\": \"Benign\", \"Radius\": 12.86, \"Texture\": 18.0, \"Perimeter\": 83.19, \"Area\": 506.3, \"Smoothness\": 0.09934, \"Compactness\": 0.09546, \"Concavity\": 0.03889, \"Concave_Points\": 0.02315, \"Symmetry\": 0.1718, \"Fractal_Dimension\": 0.05997}, {\"ID\": 861103, \"Class\": \"Benign\", \"Radius\": 11.45, \"Texture\": 20.97, \"Perimeter\": 73.81, \"Area\": 401.5, \"Smoothness\": 0.1102, \"Compactness\": 0.09362, \"Concavity\": 0.04591, \"Concave_Points\": 0.02233, \"Symmetry\": 0.1842, \"Fractal_Dimension\": 0.07005}, {\"ID\": 8611161, \"Class\": \"Benign\", \"Radius\": 13.34, \"Texture\": 15.86, \"Perimeter\": 86.49, \"Area\": 520.0, \"Smoothness\": 0.1078, \"Compactness\": 0.1535, \"Concavity\": 0.1169, \"Concave_Points\": 0.06987, \"Symmetry\": 0.1942, \"Fractal_Dimension\": 0.06902}, {\"ID\": 8611555, \"Class\": \"Malignant\", \"Radius\": 25.22, \"Texture\": 24.91, \"Perimeter\": 171.5, \"Area\": 1878.0, \"Smoothness\": 0.1063, \"Compactness\": 0.2665, \"Concavity\": 0.3339, \"Concave_Points\": 0.1845, \"Symmetry\": 0.1829, \"Fractal_Dimension\": 0.06782}, {\"ID\": 8611792, \"Class\": \"Malignant\", \"Radius\": 19.1, \"Texture\": 26.29, \"Perimeter\": 129.1, \"Area\": 1132.0, \"Smoothness\": 0.1215, \"Compactness\": 0.1791, \"Concavity\": 0.1937, \"Concave_Points\": 0.1469, \"Symmetry\": 0.1634, \"Fractal_Dimension\": 0.07224}, {\"ID\": 8612080, \"Class\": \"Benign\", \"Radius\": 12.0, \"Texture\": 15.65, \"Perimeter\": 76.95, \"Area\": 443.3, \"Smoothness\": 0.09723, \"Compactness\": 0.07165, \"Concavity\": 0.04151, \"Concave_Points\": 0.01863, \"Symmetry\": 0.2079, \"Fractal_Dimension\": 0.05968}, {\"ID\": 8612399, \"Class\": \"Malignant\", \"Radius\": 18.46, \"Texture\": 18.52, \"Perimeter\": 121.1, \"Area\": 1075.0, \"Smoothness\": 0.09874, \"Compactness\": 0.1053, \"Concavity\": 0.1335, \"Concave_Points\": 0.08795, \"Symmetry\": 0.2132, \"Fractal_Dimension\": 0.06022}, {\"ID\": 86135501, \"Class\": \"Malignant\", \"Radius\": 14.48, \"Texture\": 21.46, \"Perimeter\": 94.25, \"Area\": 648.2, \"Smoothness\": 0.09444, \"Compactness\": 0.09947, \"Concavity\": 0.1204, \"Concave_Points\": 0.04938, \"Symmetry\": 0.2075, \"Fractal_Dimension\": 0.05636}, {\"ID\": 86135502, \"Class\": \"Malignant\", \"Radius\": 19.02, \"Texture\": 24.59, \"Perimeter\": 122.0, \"Area\": 1076.0, \"Smoothness\": 0.09029, \"Compactness\": 0.1206, \"Concavity\": 0.1468, \"Concave_Points\": 0.08271, \"Symmetry\": 0.1953, \"Fractal_Dimension\": 0.05629}, {\"ID\": 861597, \"Class\": \"Benign\", \"Radius\": 12.36, \"Texture\": 21.8, \"Perimeter\": 79.78, \"Area\": 466.1, \"Smoothness\": 0.08772, \"Compactness\": 0.09445, \"Concavity\": 0.06015, \"Concave_Points\": 0.03745, \"Symmetry\": 0.193, \"Fractal_Dimension\": 0.06404}, {\"ID\": 861598, \"Class\": \"Benign\", \"Radius\": 14.64, \"Texture\": 15.24, \"Perimeter\": 95.77, \"Area\": 651.9, \"Smoothness\": 0.1132, \"Compactness\": 0.1339, \"Concavity\": 0.09966, \"Concave_Points\": 0.07064, \"Symmetry\": 0.2116, \"Fractal_Dimension\": 0.06346}, {\"ID\": 861648, \"Class\": \"Benign\", \"Radius\": 14.62, \"Texture\": 24.02, \"Perimeter\": 94.57, \"Area\": 662.7, \"Smoothness\": 0.08974, \"Compactness\": 0.08606, \"Concavity\": 0.03102, \"Concave_Points\": 0.02957, \"Symmetry\": 0.1685, \"Fractal_Dimension\": 0.05866}, {\"ID\": 861799, \"Class\": \"Malignant\", \"Radius\": 15.37, \"Texture\": 22.76, \"Perimeter\": 100.2, \"Area\": 728.2, \"Smoothness\": 0.092, \"Compactness\": 0.1036, \"Concavity\": 0.1122, \"Concave_Points\": 0.07483, \"Symmetry\": 0.1717, \"Fractal_Dimension\": 0.06097}, {\"ID\": 861853, \"Class\": \"Benign\", \"Radius\": 13.27, \"Texture\": 14.76, \"Perimeter\": 84.74, \"Area\": 551.7, \"Smoothness\": 0.07355, \"Compactness\": 0.05055, \"Concavity\": 0.03261, \"Concave_Points\": 0.02648, \"Symmetry\": 0.1386, \"Fractal_Dimension\": 0.05318}, {\"ID\": 862009, \"Class\": \"Benign\", \"Radius\": 13.45, \"Texture\": 18.3, \"Perimeter\": 86.6, \"Area\": 555.1, \"Smoothness\": 0.1022, \"Compactness\": 0.08165, \"Concavity\": 0.03974, \"Concave_Points\": 0.0278, \"Symmetry\": 0.1638, \"Fractal_Dimension\": 0.0571}, {\"ID\": 862028, \"Class\": \"Malignant\", \"Radius\": 15.06, \"Texture\": 19.83, \"Perimeter\": 100.3, \"Area\": 705.6, \"Smoothness\": 0.1039, \"Compactness\": 0.1553, \"Concavity\": 0.17, \"Concave_Points\": 0.08815, \"Symmetry\": 0.1855, \"Fractal_Dimension\": 0.06284}, {\"ID\": 86208, \"Class\": \"Malignant\", \"Radius\": 20.26, \"Texture\": 23.03, \"Perimeter\": 132.4, \"Area\": 1264.0, \"Smoothness\": 0.09078, \"Compactness\": 0.1313, \"Concavity\": 0.1465, \"Concave_Points\": 0.08683, \"Symmetry\": 0.2095, \"Fractal_Dimension\": 0.05649}, {\"ID\": 86211, \"Class\": \"Benign\", \"Radius\": 12.18, \"Texture\": 17.84, \"Perimeter\": 77.79, \"Area\": 451.1, \"Smoothness\": 0.1045, \"Compactness\": 0.07057, \"Concavity\": 0.0249, \"Concave_Points\": 0.02941, \"Symmetry\": 0.19, \"Fractal_Dimension\": 0.06635}, {\"ID\": 862261, \"Class\": \"Benign\", \"Radius\": 9.787, \"Texture\": 19.94, \"Perimeter\": 62.11, \"Area\": 294.5, \"Smoothness\": 0.1024, \"Compactness\": 0.05301, \"Concavity\": 0.006829, \"Concave_Points\": 0.007937, \"Symmetry\": 0.135, \"Fractal_Dimension\": 0.0689}, {\"ID\": 862485, \"Class\": \"Benign\", \"Radius\": 11.6, \"Texture\": 12.84, \"Perimeter\": 74.34, \"Area\": 412.6, \"Smoothness\": 0.08983, \"Compactness\": 0.07525, \"Concavity\": 0.04196, \"Concave_Points\": 0.0335, \"Symmetry\": 0.162, \"Fractal_Dimension\": 0.06582}, {\"ID\": 862548, \"Class\": \"Malignant\", \"Radius\": 14.42, \"Texture\": 19.77, \"Perimeter\": 94.48, \"Area\": 642.5, \"Smoothness\": 0.09752, \"Compactness\": 0.1141, \"Concavity\": 0.09388, \"Concave_Points\": 0.05839, \"Symmetry\": 0.1879, \"Fractal_Dimension\": 0.0639}, {\"ID\": 862717, \"Class\": \"Malignant\", \"Radius\": 13.61, \"Texture\": 24.98, \"Perimeter\": 88.05, \"Area\": 582.7, \"Smoothness\": 0.09488, \"Compactness\": 0.08511, \"Concavity\": 0.08625, \"Concave_Points\": 0.04489, \"Symmetry\": 0.1609, \"Fractal_Dimension\": 0.05871}, {\"ID\": 862722, \"Class\": \"Benign\", \"Radius\": 6.981, \"Texture\": 13.43, \"Perimeter\": 43.79, \"Area\": 143.5, \"Smoothness\": 0.117, \"Compactness\": 0.07568, \"Concavity\": 0.0, \"Concave_Points\": 0.0, \"Symmetry\": 0.193, \"Fractal_Dimension\": 0.07818}, {\"ID\": 862965, \"Class\": \"Benign\", \"Radius\": 12.18, \"Texture\": 20.52, \"Perimeter\": 77.22, \"Area\": 458.7, \"Smoothness\": 0.08013, \"Compactness\": 0.04038, \"Concavity\": 0.02383, \"Concave_Points\": 0.0177, \"Symmetry\": 0.1739, \"Fractal_Dimension\": 0.05677}, {\"ID\": 862980, \"Class\": \"Benign\", \"Radius\": 9.876, \"Texture\": 19.4, \"Perimeter\": 63.95, \"Area\": 298.3, \"Smoothness\": 0.1005, \"Compactness\": 0.09697, \"Concavity\": 0.06154, \"Concave_Points\": 0.03029, \"Symmetry\": 0.1945, \"Fractal_Dimension\": 0.06322}, {\"ID\": 862989, \"Class\": \"Benign\", \"Radius\": 10.49, \"Texture\": 19.29, \"Perimeter\": 67.41, \"Area\": 336.1, \"Smoothness\": 0.09989, \"Compactness\": 0.08578, \"Concavity\": 0.02995, \"Concave_Points\": 0.01201, \"Symmetry\": 0.2217, \"Fractal_Dimension\": 0.06481}, {\"ID\": 863030, \"Class\": \"Malignant\", \"Radius\": 13.11, \"Texture\": 15.56, \"Perimeter\": 87.21, \"Area\": 530.2, \"Smoothness\": 0.1398, \"Compactness\": 0.1765, \"Concavity\": 0.2071, \"Concave_Points\": 0.09601, \"Symmetry\": 0.1925, \"Fractal_Dimension\": 0.07692}, {\"ID\": 863031, \"Class\": \"Benign\", \"Radius\": 11.64, \"Texture\": 18.33, \"Perimeter\": 75.17, \"Area\": 412.5, \"Smoothness\": 0.1142, \"Compactness\": 0.1017, \"Concavity\": 0.0707, \"Concave_Points\": 0.03485, \"Symmetry\": 0.1801, \"Fractal_Dimension\": 0.0652}, {\"ID\": 863270, \"Class\": \"Benign\", \"Radius\": 12.36, \"Texture\": 18.54, \"Perimeter\": 79.01, \"Area\": 466.7, \"Smoothness\": 0.08477, \"Compactness\": 0.06815, \"Concavity\": 0.02643, \"Concave_Points\": 0.01921, \"Symmetry\": 0.1602, \"Fractal_Dimension\": 0.06066}, {\"ID\": 86355, \"Class\": \"Malignant\", \"Radius\": 22.27, \"Texture\": 19.67, \"Perimeter\": 152.8, \"Area\": 1509.0, \"Smoothness\": 0.1326, \"Compactness\": 0.2768, \"Concavity\": 0.4264, \"Concave_Points\": 0.1823, \"Symmetry\": 0.2556, \"Fractal_Dimension\": 0.07039}, {\"ID\": 864018, \"Class\": \"Benign\", \"Radius\": 11.34, \"Texture\": 21.26, \"Perimeter\": 72.48, \"Area\": 396.5, \"Smoothness\": 0.08759, \"Compactness\": 0.06575, \"Concavity\": 0.05133, \"Concave_Points\": 0.01899, \"Symmetry\": 0.1487, \"Fractal_Dimension\": 0.06529}, {\"ID\": 864033, \"Class\": \"Benign\", \"Radius\": 9.777, \"Texture\": 16.99, \"Perimeter\": 62.5, \"Area\": 290.2, \"Smoothness\": 0.1037, \"Compactness\": 0.08404, \"Concavity\": 0.04334, \"Concave_Points\": 0.01778, \"Symmetry\": 0.1584, \"Fractal_Dimension\": 0.07065}, {\"ID\": 86408, \"Class\": \"Benign\", \"Radius\": 12.63, \"Texture\": 20.76, \"Perimeter\": 82.15, \"Area\": 480.4, \"Smoothness\": 0.09933, \"Compactness\": 0.1209, \"Concavity\": 0.1065, \"Concave_Points\": 0.06021, \"Symmetry\": 0.1735, \"Fractal_Dimension\": 0.0707}, {\"ID\": 86409, \"Class\": \"Benign\", \"Radius\": 14.26, \"Texture\": 19.65, \"Perimeter\": 97.83, \"Area\": 629.9, \"Smoothness\": 0.07837, \"Compactness\": 0.2233, \"Concavity\": 0.3003, \"Concave_Points\": 0.07798, \"Symmetry\": 0.1704, \"Fractal_Dimension\": 0.07769}, {\"ID\": 864292, \"Class\": \"Benign\", \"Radius\": 10.51, \"Texture\": 20.19, \"Perimeter\": 68.64, \"Area\": 334.2, \"Smoothness\": 0.1122, \"Compactness\": 0.1303, \"Concavity\": 0.06476, \"Concave_Points\": 0.03068, \"Symmetry\": 0.1922, \"Fractal_Dimension\": 0.07782}, {\"ID\": 864496, \"Class\": \"Benign\", \"Radius\": 8.726, \"Texture\": 15.83, \"Perimeter\": 55.84, \"Area\": 230.9, \"Smoothness\": 0.115, \"Compactness\": 0.08201, \"Concavity\": 0.04132, \"Concave_Points\": 0.01924, \"Symmetry\": 0.1649, \"Fractal_Dimension\": 0.07633}, {\"ID\": 864685, \"Class\": \"Benign\", \"Radius\": 11.93, \"Texture\": 21.53, \"Perimeter\": 76.53, \"Area\": 438.6, \"Smoothness\": 0.09768, \"Compactness\": 0.07849, \"Concavity\": 0.03328, \"Concave_Points\": 0.02008, \"Symmetry\": 0.1688, \"Fractal_Dimension\": 0.06194}, {\"ID\": 864726, \"Class\": \"Benign\", \"Radius\": 8.95, \"Texture\": 15.76, \"Perimeter\": 58.74, \"Area\": 245.2, \"Smoothness\": 0.09462, \"Compactness\": 0.1243, \"Concavity\": 0.09263, \"Concave_Points\": 0.02308, \"Symmetry\": 0.1305, \"Fractal_Dimension\": 0.07163}, {\"ID\": 864729, \"Class\": \"Malignant\", \"Radius\": 14.87, \"Texture\": 16.67, \"Perimeter\": 98.64, \"Area\": 682.5, \"Smoothness\": 0.1162, \"Compactness\": 0.1649, \"Concavity\": 0.169, \"Concave_Points\": 0.08923, \"Symmetry\": 0.2157, \"Fractal_Dimension\": 0.06768}, {\"ID\": 864877, \"Class\": \"Malignant\", \"Radius\": 15.78, \"Texture\": 22.91, \"Perimeter\": 105.7, \"Area\": 782.6, \"Smoothness\": 0.1155, \"Compactness\": 0.1752, \"Concavity\": 0.2133, \"Concave_Points\": 0.09479, \"Symmetry\": 0.2096, \"Fractal_Dimension\": 0.07331}, {\"ID\": 865128, \"Class\": \"Malignant\", \"Radius\": 17.95, \"Texture\": 20.01, \"Perimeter\": 114.2, \"Area\": 982.0, \"Smoothness\": 0.08402, \"Compactness\": 0.06722, \"Concavity\": 0.07293, \"Concave_Points\": 0.05596, \"Symmetry\": 0.2129, \"Fractal_Dimension\": 0.05025}, {\"ID\": 865137, \"Class\": \"Benign\", \"Radius\": 11.41, \"Texture\": 10.82, \"Perimeter\": 73.34, \"Area\": 403.3, \"Smoothness\": 0.09373, \"Compactness\": 0.06685, \"Concavity\": 0.03512, \"Concave_Points\": 0.02623, \"Symmetry\": 0.1667, \"Fractal_Dimension\": 0.06113}, {\"ID\": 86517, \"Class\": \"Malignant\", \"Radius\": 18.66, \"Texture\": 17.12, \"Perimeter\": 121.4, \"Area\": 1077.0, \"Smoothness\": 0.1054, \"Compactness\": 0.11, \"Concavity\": 0.1457, \"Concave_Points\": 0.08665, \"Symmetry\": 0.1966, \"Fractal_Dimension\": 0.06213}, {\"ID\": 865423, \"Class\": \"Malignant\", \"Radius\": 24.25, \"Texture\": 20.2, \"Perimeter\": 166.2, \"Area\": 1761.0, \"Smoothness\": 0.1447, \"Compactness\": 0.2867, \"Concavity\": 0.4268, \"Concave_Points\": 0.2012, \"Symmetry\": 0.2655, \"Fractal_Dimension\": 0.06877}, {\"ID\": 865432, \"Class\": \"Benign\", \"Radius\": 14.5, \"Texture\": 10.89, \"Perimeter\": 94.28, \"Area\": 640.7, \"Smoothness\": 0.1101, \"Compactness\": 0.1099, \"Concavity\": 0.08842, \"Concave_Points\": 0.05778, \"Symmetry\": 0.1856, \"Fractal_Dimension\": 0.06402}, {\"ID\": 865468, \"Class\": \"Benign\", \"Radius\": 13.37, \"Texture\": 16.39, \"Perimeter\": 86.1, \"Area\": 553.5, \"Smoothness\": 0.07115, \"Compactness\": 0.07325, \"Concavity\": 0.08092, \"Concave_Points\": 0.028, \"Symmetry\": 0.1422, \"Fractal_Dimension\": 0.05823}, {\"ID\": 86561, \"Class\": \"Benign\", \"Radius\": 13.85, \"Texture\": 17.21, \"Perimeter\": 88.44, \"Area\": 588.7, \"Smoothness\": 0.08785, \"Compactness\": 0.06136, \"Concavity\": 0.0142, \"Concave_Points\": 0.01141, \"Symmetry\": 0.1614, \"Fractal_Dimension\": 0.0589}, {\"ID\": 866083, \"Class\": \"Malignant\", \"Radius\": 13.61, \"Texture\": 24.69, \"Perimeter\": 87.76, \"Area\": 572.6, \"Smoothness\": 0.09258, \"Compactness\": 0.07862, \"Concavity\": 0.05285, \"Concave_Points\": 0.03085, \"Symmetry\": 0.1761, \"Fractal_Dimension\": 0.0613}, {\"ID\": 866203, \"Class\": \"Malignant\", \"Radius\": 19.0, \"Texture\": 18.91, \"Perimeter\": 123.4, \"Area\": 1138.0, \"Smoothness\": 0.08217, \"Compactness\": 0.08028, \"Concavity\": 0.09271, \"Concave_Points\": 0.05627, \"Symmetry\": 0.1946, \"Fractal_Dimension\": 0.05044}, {\"ID\": 866458, \"Class\": \"Benign\", \"Radius\": 15.1, \"Texture\": 16.39, \"Perimeter\": 99.58, \"Area\": 674.5, \"Smoothness\": 0.115, \"Compactness\": 0.1807, \"Concavity\": 0.1138, \"Concave_Points\": 0.08534, \"Symmetry\": 0.2001, \"Fractal_Dimension\": 0.06467}, {\"ID\": 866674, \"Class\": \"Malignant\", \"Radius\": 19.79, \"Texture\": 25.12, \"Perimeter\": 130.4, \"Area\": 1192.0, \"Smoothness\": 0.1015, \"Compactness\": 0.1589, \"Concavity\": 0.2545, \"Concave_Points\": 0.1149, \"Symmetry\": 0.2202, \"Fractal_Dimension\": 0.06113}, {\"ID\": 866714, \"Class\": \"Benign\", \"Radius\": 12.19, \"Texture\": 13.29, \"Perimeter\": 79.08, \"Area\": 455.8, \"Smoothness\": 0.1066, \"Compactness\": 0.09509, \"Concavity\": 0.02855, \"Concave_Points\": 0.02882, \"Symmetry\": 0.188, \"Fractal_Dimension\": 0.06471}, {\"ID\": 8670, \"Class\": \"Malignant\", \"Radius\": 15.46, \"Texture\": 19.48, \"Perimeter\": 101.7, \"Area\": 748.9, \"Smoothness\": 0.1092, \"Compactness\": 0.1223, \"Concavity\": 0.1466, \"Concave_Points\": 0.08087, \"Symmetry\": 0.1931, \"Fractal_Dimension\": 0.05796}, {\"ID\": 86730502, \"Class\": \"Malignant\", \"Radius\": 16.16, \"Texture\": 21.54, \"Perimeter\": 106.2, \"Area\": 809.8, \"Smoothness\": 0.1008, \"Compactness\": 0.1284, \"Concavity\": 0.1043, \"Concave_Points\": 0.05613, \"Symmetry\": 0.216, \"Fractal_Dimension\": 0.05891}, {\"ID\": 867387, \"Class\": \"Benign\", \"Radius\": 15.71, \"Texture\": 13.93, \"Perimeter\": 102.0, \"Area\": 761.7, \"Smoothness\": 0.09462, \"Compactness\": 0.09462, \"Concavity\": 0.07135, \"Concave_Points\": 0.05933, \"Symmetry\": 0.1816, \"Fractal_Dimension\": 0.05723}, {\"ID\": 867739, \"Class\": \"Malignant\", \"Radius\": 18.45, \"Texture\": 21.91, \"Perimeter\": 120.2, \"Area\": 1075.0, \"Smoothness\": 0.0943, \"Compactness\": 0.09709, \"Concavity\": 0.1153, \"Concave_Points\": 0.06847, \"Symmetry\": 0.1692, \"Fractal_Dimension\": 0.05727}, {\"ID\": 868202, \"Class\": \"Malignant\", \"Radius\": 12.77, \"Texture\": 22.47, \"Perimeter\": 81.72, \"Area\": 506.3, \"Smoothness\": 0.09055, \"Compactness\": 0.05761, \"Concavity\": 0.04711, \"Concave_Points\": 0.02704, \"Symmetry\": 0.1585, \"Fractal_Dimension\": 0.06065}, {\"ID\": 868223, \"Class\": \"Benign\", \"Radius\": 11.71, \"Texture\": 16.67, \"Perimeter\": 74.72, \"Area\": 423.6, \"Smoothness\": 0.1051, \"Compactness\": 0.06095, \"Concavity\": 0.03592, \"Concave_Points\": 0.026, \"Symmetry\": 0.1339, \"Fractal_Dimension\": 0.05945}, {\"ID\": 868682, \"Class\": \"Benign\", \"Radius\": 11.43, \"Texture\": 15.39, \"Perimeter\": 73.06, \"Area\": 399.8, \"Smoothness\": 0.09639, \"Compactness\": 0.06889, \"Concavity\": 0.03503, \"Concave_Points\": 0.02875, \"Symmetry\": 0.1734, \"Fractal_Dimension\": 0.05865}, {\"ID\": 868826, \"Class\": \"Malignant\", \"Radius\": 14.95, \"Texture\": 17.57, \"Perimeter\": 96.85, \"Area\": 678.1, \"Smoothness\": 0.1167, \"Compactness\": 0.1305, \"Concavity\": 0.1539, \"Concave_Points\": 0.08624, \"Symmetry\": 0.1957, \"Fractal_Dimension\": 0.06216}, {\"ID\": 868871, \"Class\": \"Benign\", \"Radius\": 11.28, \"Texture\": 13.39, \"Perimeter\": 73.0, \"Area\": 384.8, \"Smoothness\": 0.1164, \"Compactness\": 0.1136, \"Concavity\": 0.04635, \"Concave_Points\": 0.04796, \"Symmetry\": 0.1771, \"Fractal_Dimension\": 0.06072}, {\"ID\": 868999, \"Class\": \"Benign\", \"Radius\": 9.738, \"Texture\": 11.97, \"Perimeter\": 61.24, \"Area\": 288.5, \"Smoothness\": 0.0925, \"Compactness\": 0.04102, \"Concavity\": 0.0, \"Concave_Points\": 0.0, \"Symmetry\": 0.1903, \"Fractal_Dimension\": 0.06422}, {\"ID\": 869104, \"Class\": \"Malignant\", \"Radius\": 16.11, \"Texture\": 18.05, \"Perimeter\": 105.1, \"Area\": 813.0, \"Smoothness\": 0.09721, \"Compactness\": 0.1137, \"Concavity\": 0.09447, \"Concave_Points\": 0.05943, \"Symmetry\": 0.1861, \"Fractal_Dimension\": 0.06248}, {\"ID\": 869218, \"Class\": \"Benign\", \"Radius\": 11.43, \"Texture\": 17.31, \"Perimeter\": 73.66, \"Area\": 398.0, \"Smoothness\": 0.1092, \"Compactness\": 0.09486, \"Concavity\": 0.02031, \"Concave_Points\": 0.01861, \"Symmetry\": 0.1645, \"Fractal_Dimension\": 0.06562}, {\"ID\": 869224, \"Class\": \"Benign\", \"Radius\": 12.9, \"Texture\": 15.92, \"Perimeter\": 83.74, \"Area\": 512.2, \"Smoothness\": 0.08677, \"Compactness\": 0.09509, \"Concavity\": 0.04894, \"Concave_Points\": 0.03088, \"Symmetry\": 0.1778, \"Fractal_Dimension\": 0.06235}, {\"ID\": 869254, \"Class\": \"Benign\", \"Radius\": 10.75, \"Texture\": 14.97, \"Perimeter\": 68.26, \"Area\": 355.3, \"Smoothness\": 0.07793, \"Compactness\": 0.05139, \"Concavity\": 0.02251, \"Concave_Points\": 0.007875, \"Symmetry\": 0.1399, \"Fractal_Dimension\": 0.05688}, {\"ID\": 869476, \"Class\": \"Benign\", \"Radius\": 11.9, \"Texture\": 14.65, \"Perimeter\": 78.11, \"Area\": 432.8, \"Smoothness\": 0.1152, \"Compactness\": 0.1296, \"Concavity\": 0.0371, \"Concave_Points\": 0.03003, \"Symmetry\": 0.1995, \"Fractal_Dimension\": 0.07839}, {\"ID\": 869691, \"Class\": \"Malignant\", \"Radius\": 11.8, \"Texture\": 16.58, \"Perimeter\": 78.99, \"Area\": 432.0, \"Smoothness\": 0.1091, \"Compactness\": 0.17, \"Concavity\": 0.1659, \"Concave_Points\": 0.07415, \"Symmetry\": 0.2678, \"Fractal_Dimension\": 0.07371}, {\"ID\": 86973701, \"Class\": \"Benign\", \"Radius\": 14.95, \"Texture\": 18.77, \"Perimeter\": 97.84, \"Area\": 689.5, \"Smoothness\": 0.08138, \"Compactness\": 0.1167, \"Concavity\": 0.0905, \"Concave_Points\": 0.03562, \"Symmetry\": 0.1744, \"Fractal_Dimension\": 0.06493}, {\"ID\": 86973702, \"Class\": \"Benign\", \"Radius\": 14.44, \"Texture\": 15.18, \"Perimeter\": 93.97, \"Area\": 640.1, \"Smoothness\": 0.0997, \"Compactness\": 0.1021, \"Concavity\": 0.08487, \"Concave_Points\": 0.05532, \"Symmetry\": 0.1724, \"Fractal_Dimension\": 0.06081}, {\"ID\": 869931, \"Class\": \"Benign\", \"Radius\": 13.74, \"Texture\": 17.91, \"Perimeter\": 88.12, \"Area\": 585.0, \"Smoothness\": 0.07944, \"Compactness\": 0.06376, \"Concavity\": 0.02881, \"Concave_Points\": 0.01329, \"Symmetry\": 0.1473, \"Fractal_Dimension\": 0.0558}, {\"ID\": 871001501, \"Class\": \"Benign\", \"Radius\": 13.0, \"Texture\": 20.78, \"Perimeter\": 83.51, \"Area\": 519.4, \"Smoothness\": 0.1135, \"Compactness\": 0.07589, \"Concavity\": 0.03136, \"Concave_Points\": 0.02645, \"Symmetry\": 0.254, \"Fractal_Dimension\": 0.06087}, {\"ID\": 871001502, \"Class\": \"Benign\", \"Radius\": 8.219, \"Texture\": 20.7, \"Perimeter\": 53.27, \"Area\": 203.9, \"Smoothness\": 0.09405, \"Compactness\": 0.1305, \"Concavity\": 0.1321, \"Concave_Points\": 0.02168, \"Symmetry\": 0.2222, \"Fractal_Dimension\": 0.08261}, {\"ID\": 8710441, \"Class\": \"Benign\", \"Radius\": 9.731, \"Texture\": 15.34, \"Perimeter\": 63.78, \"Area\": 300.2, \"Smoothness\": 0.1072, \"Compactness\": 0.1599, \"Concavity\": 0.4108, \"Concave_Points\": 0.07857, \"Symmetry\": 0.2548, \"Fractal_Dimension\": 0.09296}, {\"ID\": 87106, \"Class\": \"Benign\", \"Radius\": 11.15, \"Texture\": 13.08, \"Perimeter\": 70.87, \"Area\": 381.9, \"Smoothness\": 0.09754, \"Compactness\": 0.05113, \"Concavity\": 0.01982, \"Concave_Points\": 0.01786, \"Symmetry\": 0.183, \"Fractal_Dimension\": 0.06105}, {\"ID\": 8711002, \"Class\": \"Benign\", \"Radius\": 13.15, \"Texture\": 15.34, \"Perimeter\": 85.31, \"Area\": 538.9, \"Smoothness\": 0.09384, \"Compactness\": 0.08498, \"Concavity\": 0.09293, \"Concave_Points\": 0.03483, \"Symmetry\": 0.1822, \"Fractal_Dimension\": 0.06207}, {\"ID\": 8711003, \"Class\": \"Benign\", \"Radius\": 12.25, \"Texture\": 17.94, \"Perimeter\": 78.27, \"Area\": 460.3, \"Smoothness\": 0.08654, \"Compactness\": 0.06679, \"Concavity\": 0.03885, \"Concave_Points\": 0.02331, \"Symmetry\": 0.197, \"Fractal_Dimension\": 0.06228}, {\"ID\": 8711202, \"Class\": \"Malignant\", \"Radius\": 17.68, \"Texture\": 20.74, \"Perimeter\": 117.4, \"Area\": 963.7, \"Smoothness\": 0.1115, \"Compactness\": 0.1665, \"Concavity\": 0.1855, \"Concave_Points\": 0.1054, \"Symmetry\": 0.1971, \"Fractal_Dimension\": 0.06166}, {\"ID\": 8711216, \"Class\": \"Benign\", \"Radius\": 16.84, \"Texture\": 19.46, \"Perimeter\": 108.4, \"Area\": 880.2, \"Smoothness\": 0.07445, \"Compactness\": 0.07223, \"Concavity\": 0.0515, \"Concave_Points\": 0.02771, \"Symmetry\": 0.1844, \"Fractal_Dimension\": 0.05268}, {\"ID\": 871122, \"Class\": \"Benign\", \"Radius\": 12.06, \"Texture\": 12.74, \"Perimeter\": 76.84, \"Area\": 448.6, \"Smoothness\": 0.09311, \"Compactness\": 0.05241, \"Concavity\": 0.01972, \"Concave_Points\": 0.01963, \"Symmetry\": 0.159, \"Fractal_Dimension\": 0.05907}, {\"ID\": 871149, \"Class\": \"Benign\", \"Radius\": 10.9, \"Texture\": 12.96, \"Perimeter\": 68.69, \"Area\": 366.8, \"Smoothness\": 0.07515, \"Compactness\": 0.03718, \"Concavity\": 0.00309, \"Concave_Points\": 0.006588, \"Symmetry\": 0.1442, \"Fractal_Dimension\": 0.05743}, {\"ID\": 8711561, \"Class\": \"Benign\", \"Radius\": 11.75, \"Texture\": 20.18, \"Perimeter\": 76.1, \"Area\": 419.8, \"Smoothness\": 0.1089, \"Compactness\": 0.1141, \"Concavity\": 0.06843, \"Concave_Points\": 0.03738, \"Symmetry\": 0.1993, \"Fractal_Dimension\": 0.06453}, {\"ID\": 8711803, \"Class\": \"Malignant\", \"Radius\": 19.19, \"Texture\": 15.94, \"Perimeter\": 126.3, \"Area\": 1157.0, \"Smoothness\": 0.08694, \"Compactness\": 0.1185, \"Concavity\": 0.1193, \"Concave_Points\": 0.09667, \"Symmetry\": 0.1741, \"Fractal_Dimension\": 0.05176}, {\"ID\": 871201, \"Class\": \"Malignant\", \"Radius\": 19.59, \"Texture\": 18.15, \"Perimeter\": 130.7, \"Area\": 1214.0, \"Smoothness\": 0.112, \"Compactness\": 0.1666, \"Concavity\": 0.2508, \"Concave_Points\": 0.1286, \"Symmetry\": 0.2027, \"Fractal_Dimension\": 0.06082}, {\"ID\": 8712064, \"Class\": \"Benign\", \"Radius\": 12.34, \"Texture\": 22.22, \"Perimeter\": 79.85, \"Area\": 464.5, \"Smoothness\": 0.1012, \"Compactness\": 0.1015, \"Concavity\": 0.0537, \"Concave_Points\": 0.02822, \"Symmetry\": 0.1551, \"Fractal_Dimension\": 0.06761}, {\"ID\": 8712289, \"Class\": \"Malignant\", \"Radius\": 23.27, \"Texture\": 22.04, \"Perimeter\": 152.1, \"Area\": 1686.0, \"Smoothness\": 0.08439, \"Compactness\": 0.1145, \"Concavity\": 0.1324, \"Concave_Points\": 0.09702, \"Symmetry\": 0.1801, \"Fractal_Dimension\": 0.05553}, {\"ID\": 8712291, \"Class\": \"Benign\", \"Radius\": 14.97, \"Texture\": 19.76, \"Perimeter\": 95.5, \"Area\": 690.2, \"Smoothness\": 0.08421, \"Compactness\": 0.05352, \"Concavity\": 0.01947, \"Concave_Points\": 0.01939, \"Symmetry\": 0.1515, \"Fractal_Dimension\": 0.05266}, {\"ID\": 87127, \"Class\": \"Benign\", \"Radius\": 10.8, \"Texture\": 9.71, \"Perimeter\": 68.77, \"Area\": 357.6, \"Smoothness\": 0.09594, \"Compactness\": 0.05736, \"Concavity\": 0.02531, \"Concave_Points\": 0.01698, \"Symmetry\": 0.1381, \"Fractal_Dimension\": 0.064}, {\"ID\": 8712729, \"Class\": \"Malignant\", \"Radius\": 16.78, \"Texture\": 18.8, \"Perimeter\": 109.3, \"Area\": 886.3, \"Smoothness\": 0.08865, \"Compactness\": 0.09182, \"Concavity\": 0.08422, \"Concave_Points\": 0.06576, \"Symmetry\": 0.1893, \"Fractal_Dimension\": 0.05534}, {\"ID\": 8712766, \"Class\": \"Malignant\", \"Radius\": 17.47, \"Texture\": 24.68, \"Perimeter\": 116.1, \"Area\": 984.6, \"Smoothness\": 0.1049, \"Compactness\": 0.1603, \"Concavity\": 0.2159, \"Concave_Points\": 0.1043, \"Symmetry\": 0.1538, \"Fractal_Dimension\": 0.06365}, {\"ID\": 8712853, \"Class\": \"Benign\", \"Radius\": 14.97, \"Texture\": 16.95, \"Perimeter\": 96.22, \"Area\": 685.9, \"Smoothness\": 0.09855, \"Compactness\": 0.07885, \"Concavity\": 0.02602, \"Concave_Points\": 0.03781, \"Symmetry\": 0.178, \"Fractal_Dimension\": 0.0565}, {\"ID\": 87139402, \"Class\": \"Benign\", \"Radius\": 12.32, \"Texture\": 12.39, \"Perimeter\": 78.85, \"Area\": 464.1, \"Smoothness\": 0.1028, \"Compactness\": 0.06981, \"Concavity\": 0.03987, \"Concave_Points\": 0.037, \"Symmetry\": 0.1959, \"Fractal_Dimension\": 0.05955}, {\"ID\": 87163, \"Class\": \"Malignant\", \"Radius\": 13.43, \"Texture\": 19.63, \"Perimeter\": 85.84, \"Area\": 565.4, \"Smoothness\": 0.09048, \"Compactness\": 0.06288, \"Concavity\": 0.05858, \"Concave_Points\": 0.03438, \"Symmetry\": 0.1598, \"Fractal_Dimension\": 0.05671}, {\"ID\": 87164, \"Class\": \"Malignant\", \"Radius\": 15.46, \"Texture\": 11.89, \"Perimeter\": 102.5, \"Area\": 736.9, \"Smoothness\": 0.1257, \"Compactness\": 0.1555, \"Concavity\": 0.2032, \"Concave_Points\": 0.1097, \"Symmetry\": 0.1966, \"Fractal_Dimension\": 0.07069}, {\"ID\": 871641, \"Class\": \"Benign\", \"Radius\": 11.08, \"Texture\": 14.71, \"Perimeter\": 70.21, \"Area\": 372.7, \"Smoothness\": 0.1006, \"Compactness\": 0.05743, \"Concavity\": 0.02363, \"Concave_Points\": 0.02583, \"Symmetry\": 0.1566, \"Fractal_Dimension\": 0.06669}, {\"ID\": 871642, \"Class\": \"Benign\", \"Radius\": 10.66, \"Texture\": 15.15, \"Perimeter\": 67.49, \"Area\": 349.6, \"Smoothness\": 0.08792, \"Compactness\": 0.04302, \"Concavity\": 0.0, \"Concave_Points\": 0.0, \"Symmetry\": 0.1928, \"Fractal_Dimension\": 0.05975}, {\"ID\": 872113, \"Class\": \"Benign\", \"Radius\": 8.671, \"Texture\": 14.45, \"Perimeter\": 54.42, \"Area\": 227.2, \"Smoothness\": 0.09138, \"Compactness\": 0.04276, \"Concavity\": 0.0, \"Concave_Points\": 0.0, \"Symmetry\": 0.1722, \"Fractal_Dimension\": 0.06724}, {\"ID\": 872608, \"Class\": \"Benign\", \"Radius\": 9.904, \"Texture\": 18.06, \"Perimeter\": 64.6, \"Area\": 302.4, \"Smoothness\": 0.09699, \"Compactness\": 0.1294, \"Concavity\": 0.1307, \"Concave_Points\": 0.03716, \"Symmetry\": 0.1669, \"Fractal_Dimension\": 0.08116}, {\"ID\": 87281702, \"Class\": \"Malignant\", \"Radius\": 16.46, \"Texture\": 20.11, \"Perimeter\": 109.3, \"Area\": 832.9, \"Smoothness\": 0.09831, \"Compactness\": 0.1556, \"Concavity\": 0.1793, \"Concave_Points\": 0.08866, \"Symmetry\": 0.1794, \"Fractal_Dimension\": 0.06323}, {\"ID\": 873357, \"Class\": \"Benign\", \"Radius\": 13.01, \"Texture\": 22.22, \"Perimeter\": 82.01, \"Area\": 526.4, \"Smoothness\": 0.06251, \"Compactness\": 0.01938, \"Concavity\": 0.001595, \"Concave_Points\": 0.001852, \"Symmetry\": 0.1395, \"Fractal_Dimension\": 0.05234}, {\"ID\": 873586, \"Class\": \"Benign\", \"Radius\": 12.81, \"Texture\": 13.06, \"Perimeter\": 81.29, \"Area\": 508.8, \"Smoothness\": 0.08739, \"Compactness\": 0.03774, \"Concavity\": 0.009193, \"Concave_Points\": 0.0133, \"Symmetry\": 0.1466, \"Fractal_Dimension\": 0.06133}, {\"ID\": 873592, \"Class\": \"Malignant\", \"Radius\": 27.22, \"Texture\": 21.87, \"Perimeter\": 182.1, \"Area\": 2250.0, \"Smoothness\": 0.1094, \"Compactness\": 0.1914, \"Concavity\": 0.2871, \"Concave_Points\": 0.1878, \"Symmetry\": 0.18, \"Fractal_Dimension\": 0.0577}, {\"ID\": 873593, \"Class\": \"Malignant\", \"Radius\": 21.09, \"Texture\": 26.57, \"Perimeter\": 142.7, \"Area\": 1311.0, \"Smoothness\": 0.1141, \"Compactness\": 0.2832, \"Concavity\": 0.2487, \"Concave_Points\": 0.1496, \"Symmetry\": 0.2395, \"Fractal_Dimension\": 0.07398}, {\"ID\": 873701, \"Class\": \"Malignant\", \"Radius\": 15.7, \"Texture\": 20.31, \"Perimeter\": 101.2, \"Area\": 766.6, \"Smoothness\": 0.09597, \"Compactness\": 0.08799, \"Concavity\": 0.06593, \"Concave_Points\": 0.05189, \"Symmetry\": 0.1618, \"Fractal_Dimension\": 0.05549}, {\"ID\": 873843, \"Class\": \"Benign\", \"Radius\": 11.41, \"Texture\": 14.92, \"Perimeter\": 73.53, \"Area\": 402.0, \"Smoothness\": 0.09059, \"Compactness\": 0.08155, \"Concavity\": 0.06181, \"Concave_Points\": 0.02361, \"Symmetry\": 0.1167, \"Fractal_Dimension\": 0.06217}, {\"ID\": 873885, \"Class\": \"Malignant\", \"Radius\": 15.28, \"Texture\": 22.41, \"Perimeter\": 98.92, \"Area\": 710.6, \"Smoothness\": 0.09057, \"Compactness\": 0.1052, \"Concavity\": 0.05375, \"Concave_Points\": 0.03263, \"Symmetry\": 0.1727, \"Fractal_Dimension\": 0.06317}, {\"ID\": 874158, \"Class\": \"Benign\", \"Radius\": 10.08, \"Texture\": 15.11, \"Perimeter\": 63.76, \"Area\": 317.5, \"Smoothness\": 0.09267, \"Compactness\": 0.04695, \"Concavity\": 0.001597, \"Concave_Points\": 0.002404, \"Symmetry\": 0.1703, \"Fractal_Dimension\": 0.06048}, {\"ID\": 874217, \"Class\": \"Malignant\", \"Radius\": 18.31, \"Texture\": 18.58, \"Perimeter\": 118.6, \"Area\": 1041.0, \"Smoothness\": 0.08588, \"Compactness\": 0.08468, \"Concavity\": 0.08169, \"Concave_Points\": 0.05814, \"Symmetry\": 0.1621, \"Fractal_Dimension\": 0.05425}, {\"ID\": 874373, \"Class\": \"Benign\", \"Radius\": 11.71, \"Texture\": 17.19, \"Perimeter\": 74.68, \"Area\": 420.3, \"Smoothness\": 0.09774, \"Compactness\": 0.06141, \"Concavity\": 0.03809, \"Concave_Points\": 0.03239, \"Symmetry\": 0.1516, \"Fractal_Dimension\": 0.06095}, {\"ID\": 874662, \"Class\": \"Benign\", \"Radius\": 11.81, \"Texture\": 17.39, \"Perimeter\": 75.27, \"Area\": 428.9, \"Smoothness\": 0.1007, \"Compactness\": 0.05562, \"Concavity\": 0.02353, \"Concave_Points\": 0.01553, \"Symmetry\": 0.1718, \"Fractal_Dimension\": 0.0578}, {\"ID\": 874839, \"Class\": \"Benign\", \"Radius\": 12.3, \"Texture\": 15.9, \"Perimeter\": 78.83, \"Area\": 463.7, \"Smoothness\": 0.0808, \"Compactness\": 0.07253, \"Concavity\": 0.03844, \"Concave_Points\": 0.01654, \"Symmetry\": 0.1667, \"Fractal_Dimension\": 0.05474}, {\"ID\": 874858, \"Class\": \"Malignant\", \"Radius\": 14.22, \"Texture\": 23.12, \"Perimeter\": 94.37, \"Area\": 609.9, \"Smoothness\": 0.1075, \"Compactness\": 0.2413, \"Concavity\": 0.1981, \"Concave_Points\": 0.06618, \"Symmetry\": 0.2384, \"Fractal_Dimension\": 0.07542}, {\"ID\": 875093, \"Class\": \"Benign\", \"Radius\": 12.77, \"Texture\": 21.41, \"Perimeter\": 82.02, \"Area\": 507.4, \"Smoothness\": 0.08749, \"Compactness\": 0.06601, \"Concavity\": 0.03112, \"Concave_Points\": 0.02864, \"Symmetry\": 0.1694, \"Fractal_Dimension\": 0.06287}, {\"ID\": 875099, \"Class\": \"Benign\", \"Radius\": 9.72, \"Texture\": 18.22, \"Perimeter\": 60.73, \"Area\": 288.1, \"Smoothness\": 0.0695, \"Compactness\": 0.02344, \"Concavity\": 0.0, \"Concave_Points\": 0.0, \"Symmetry\": 0.1653, \"Fractal_Dimension\": 0.06447}, {\"ID\": 875263, \"Class\": \"Malignant\", \"Radius\": 12.34, \"Texture\": 26.86, \"Perimeter\": 81.15, \"Area\": 477.4, \"Smoothness\": 0.1034, \"Compactness\": 0.1353, \"Concavity\": 0.1085, \"Concave_Points\": 0.04562, \"Symmetry\": 0.1943, \"Fractal_Dimension\": 0.06937}, {\"ID\": 87556202, \"Class\": \"Malignant\", \"Radius\": 14.86, \"Texture\": 23.21, \"Perimeter\": 100.4, \"Area\": 671.4, \"Smoothness\": 0.1044, \"Compactness\": 0.198, \"Concavity\": 0.1697, \"Concave_Points\": 0.08878, \"Symmetry\": 0.1737, \"Fractal_Dimension\": 0.06672}, {\"ID\": 875878, \"Class\": \"Benign\", \"Radius\": 12.91, \"Texture\": 16.33, \"Perimeter\": 82.53, \"Area\": 516.4, \"Smoothness\": 0.07941, \"Compactness\": 0.05366, \"Concavity\": 0.03873, \"Concave_Points\": 0.02377, \"Symmetry\": 0.1829, \"Fractal_Dimension\": 0.05667}, {\"ID\": 875938, \"Class\": \"Malignant\", \"Radius\": 13.77, \"Texture\": 22.29, \"Perimeter\": 90.63, \"Area\": 588.9, \"Smoothness\": 0.12, \"Compactness\": 0.1267, \"Concavity\": 0.1385, \"Concave_Points\": 0.06526, \"Symmetry\": 0.1834, \"Fractal_Dimension\": 0.06877}, {\"ID\": 877159, \"Class\": \"Malignant\", \"Radius\": 18.08, \"Texture\": 21.84, \"Perimeter\": 117.4, \"Area\": 1024.0, \"Smoothness\": 0.07371, \"Compactness\": 0.08642, \"Concavity\": 0.1103, \"Concave_Points\": 0.05778, \"Symmetry\": 0.177, \"Fractal_Dimension\": 0.0534}, {\"ID\": 877486, \"Class\": \"Malignant\", \"Radius\": 19.18, \"Texture\": 22.49, \"Perimeter\": 127.5, \"Area\": 1148.0, \"Smoothness\": 0.08523, \"Compactness\": 0.1428, \"Concavity\": 0.1114, \"Concave_Points\": 0.06772, \"Symmetry\": 0.1767, \"Fractal_Dimension\": 0.05529}, {\"ID\": 877500, \"Class\": \"Malignant\", \"Radius\": 14.45, \"Texture\": 20.22, \"Perimeter\": 94.49, \"Area\": 642.7, \"Smoothness\": 0.09872, \"Compactness\": 0.1206, \"Concavity\": 0.118, \"Concave_Points\": 0.0598, \"Symmetry\": 0.195, \"Fractal_Dimension\": 0.06466}, {\"ID\": 877501, \"Class\": \"Benign\", \"Radius\": 12.23, \"Texture\": 19.56, \"Perimeter\": 78.54, \"Area\": 461.0, \"Smoothness\": 0.09586, \"Compactness\": 0.08087, \"Concavity\": 0.04187, \"Concave_Points\": 0.04107, \"Symmetry\": 0.1979, \"Fractal_Dimension\": 0.06013}, {\"ID\": 877989, \"Class\": \"Malignant\", \"Radius\": 17.54, \"Texture\": 19.32, \"Perimeter\": 115.1, \"Area\": 951.6, \"Smoothness\": 0.08968, \"Compactness\": 0.1198, \"Concavity\": 0.1036, \"Concave_Points\": 0.07488, \"Symmetry\": 0.1506, \"Fractal_Dimension\": 0.05491}, {\"ID\": 878796, \"Class\": \"Malignant\", \"Radius\": 23.29, \"Texture\": 26.67, \"Perimeter\": 158.9, \"Area\": 1685.0, \"Smoothness\": 0.1141, \"Compactness\": 0.2084, \"Concavity\": 0.3523, \"Concave_Points\": 0.162, \"Symmetry\": 0.22, \"Fractal_Dimension\": 0.06229}, {\"ID\": 87880, \"Class\": \"Malignant\", \"Radius\": 13.81, \"Texture\": 23.75, \"Perimeter\": 91.56, \"Area\": 597.8, \"Smoothness\": 0.1323, \"Compactness\": 0.1768, \"Concavity\": 0.1558, \"Concave_Points\": 0.09176, \"Symmetry\": 0.2251, \"Fractal_Dimension\": 0.07421}, {\"ID\": 87930, \"Class\": \"Benign\", \"Radius\": 12.47, \"Texture\": 18.6, \"Perimeter\": 81.09, \"Area\": 481.9, \"Smoothness\": 0.09965, \"Compactness\": 0.1058, \"Concavity\": 0.08005, \"Concave_Points\": 0.03821, \"Symmetry\": 0.1925, \"Fractal_Dimension\": 0.06373}, {\"ID\": 879523, \"Class\": \"Malignant\", \"Radius\": 15.12, \"Texture\": 16.68, \"Perimeter\": 98.78, \"Area\": 716.6, \"Smoothness\": 0.08876, \"Compactness\": 0.09588, \"Concavity\": 0.0755, \"Concave_Points\": 0.04079, \"Symmetry\": 0.1594, \"Fractal_Dimension\": 0.05986}, {\"ID\": 879804, \"Class\": \"Benign\", \"Radius\": 9.876, \"Texture\": 17.27, \"Perimeter\": 62.92, \"Area\": 295.4, \"Smoothness\": 0.1089, \"Compactness\": 0.07232, \"Concavity\": 0.01756, \"Concave_Points\": 0.01952, \"Symmetry\": 0.1934, \"Fractal_Dimension\": 0.06285}, {\"ID\": 879830, \"Class\": \"Malignant\", \"Radius\": 17.01, \"Texture\": 20.26, \"Perimeter\": 109.7, \"Area\": 904.3, \"Smoothness\": 0.08772, \"Compactness\": 0.07304, \"Concavity\": 0.0695, \"Concave_Points\": 0.0539, \"Symmetry\": 0.2026, \"Fractal_Dimension\": 0.05223}, {\"ID\": 8810158, \"Class\": \"Benign\", \"Radius\": 13.11, \"Texture\": 22.54, \"Perimeter\": 87.02, \"Area\": 529.4, \"Smoothness\": 0.1002, \"Compactness\": 0.1483, \"Concavity\": 0.08705, \"Concave_Points\": 0.05102, \"Symmetry\": 0.185, \"Fractal_Dimension\": 0.0731}, {\"ID\": 8810436, \"Class\": \"Benign\", \"Radius\": 15.27, \"Texture\": 12.91, \"Perimeter\": 98.17, \"Area\": 725.5, \"Smoothness\": 0.08182, \"Compactness\": 0.0623, \"Concavity\": 0.05892, \"Concave_Points\": 0.03157, \"Symmetry\": 0.1359, \"Fractal_Dimension\": 0.05526}, {\"ID\": 881046502, \"Class\": \"Malignant\", \"Radius\": 20.58, \"Texture\": 22.14, \"Perimeter\": 134.7, \"Area\": 1290.0, \"Smoothness\": 0.0909, \"Compactness\": 0.1348, \"Concavity\": 0.164, \"Concave_Points\": 0.09561, \"Symmetry\": 0.1765, \"Fractal_Dimension\": 0.05024}, {\"ID\": 8810528, \"Class\": \"Benign\", \"Radius\": 11.84, \"Texture\": 18.94, \"Perimeter\": 75.51, \"Area\": 428.0, \"Smoothness\": 0.08871, \"Compactness\": 0.069, \"Concavity\": 0.02669, \"Concave_Points\": 0.01393, \"Symmetry\": 0.1533, \"Fractal_Dimension\": 0.06057}, {\"ID\": 8810703, \"Class\": \"Malignant\", \"Radius\": 28.11, \"Texture\": 18.47, \"Perimeter\": 188.5, \"Area\": 2499.0, \"Smoothness\": 0.1142, \"Compactness\": 0.1516, \"Concavity\": 0.3201, \"Concave_Points\": 0.1595, \"Symmetry\": 0.1648, \"Fractal_Dimension\": 0.05525}, {\"ID\": 881094802, \"Class\": \"Malignant\", \"Radius\": 17.42, \"Texture\": 25.56, \"Perimeter\": 114.5, \"Area\": 948.0, \"Smoothness\": 0.1006, \"Compactness\": 0.1146, \"Concavity\": 0.1682, \"Concave_Points\": 0.06597, \"Symmetry\": 0.1308, \"Fractal_Dimension\": 0.05866}, {\"ID\": 8810955, \"Class\": \"Malignant\", \"Radius\": 14.19, \"Texture\": 23.81, \"Perimeter\": 92.87, \"Area\": 610.7, \"Smoothness\": 0.09463, \"Compactness\": 0.1306, \"Concavity\": 0.1115, \"Concave_Points\": 0.06462, \"Symmetry\": 0.2235, \"Fractal_Dimension\": 0.06433}, {\"ID\": 8810987, \"Class\": \"Malignant\", \"Radius\": 13.86, \"Texture\": 16.93, \"Perimeter\": 90.96, \"Area\": 578.9, \"Smoothness\": 0.1026, \"Compactness\": 0.1517, \"Concavity\": 0.09901, \"Concave_Points\": 0.05602, \"Symmetry\": 0.2106, \"Fractal_Dimension\": 0.06916}, {\"ID\": 8811523, \"Class\": \"Benign\", \"Radius\": 11.89, \"Texture\": 18.35, \"Perimeter\": 77.32, \"Area\": 432.2, \"Smoothness\": 0.09363, \"Compactness\": 0.1154, \"Concavity\": 0.06636, \"Concave_Points\": 0.03142, \"Symmetry\": 0.1967, \"Fractal_Dimension\": 0.06314}, {\"ID\": 8811779, \"Class\": \"Benign\", \"Radius\": 10.2, \"Texture\": 17.48, \"Perimeter\": 65.05, \"Area\": 321.2, \"Smoothness\": 0.08054, \"Compactness\": 0.05907, \"Concavity\": 0.05774, \"Concave_Points\": 0.01071, \"Symmetry\": 0.1964, \"Fractal_Dimension\": 0.06315}, {\"ID\": 8811842, \"Class\": \"Malignant\", \"Radius\": 19.8, \"Texture\": 21.56, \"Perimeter\": 129.7, \"Area\": 1230.0, \"Smoothness\": 0.09383, \"Compactness\": 0.1306, \"Concavity\": 0.1272, \"Concave_Points\": 0.08691, \"Symmetry\": 0.2094, \"Fractal_Dimension\": 0.05581}, {\"ID\": 88119002, \"Class\": \"Malignant\", \"Radius\": 19.53, \"Texture\": 32.47, \"Perimeter\": 128.0, \"Area\": 1223.0, \"Smoothness\": 0.0842, \"Compactness\": 0.113, \"Concavity\": 0.1145, \"Concave_Points\": 0.06637, \"Symmetry\": 0.1428, \"Fractal_Dimension\": 0.05313}, {\"ID\": 8812816, \"Class\": \"Benign\", \"Radius\": 13.65, \"Texture\": 13.16, \"Perimeter\": 87.88, \"Area\": 568.9, \"Smoothness\": 0.09646, \"Compactness\": 0.08711, \"Concavity\": 0.03888, \"Concave_Points\": 0.02563, \"Symmetry\": 0.136, \"Fractal_Dimension\": 0.06344}, {\"ID\": 8812818, \"Class\": \"Benign\", \"Radius\": 13.56, \"Texture\": 13.9, \"Perimeter\": 88.59, \"Area\": 561.3, \"Smoothness\": 0.1051, \"Compactness\": 0.1192, \"Concavity\": 0.0786, \"Concave_Points\": 0.04451, \"Symmetry\": 0.1962, \"Fractal_Dimension\": 0.06303}, {\"ID\": 8812844, \"Class\": \"Benign\", \"Radius\": 10.18, \"Texture\": 17.53, \"Perimeter\": 65.12, \"Area\": 313.1, \"Smoothness\": 0.1061, \"Compactness\": 0.08502, \"Concavity\": 0.01768, \"Concave_Points\": 0.01915, \"Symmetry\": 0.191, \"Fractal_Dimension\": 0.06908}, {\"ID\": 8812877, \"Class\": \"Malignant\", \"Radius\": 15.75, \"Texture\": 20.25, \"Perimeter\": 102.6, \"Area\": 761.3, \"Smoothness\": 0.1025, \"Compactness\": 0.1204, \"Concavity\": 0.1147, \"Concave_Points\": 0.06462, \"Symmetry\": 0.1935, \"Fractal_Dimension\": 0.06303}, {\"ID\": 8813129, \"Class\": \"Benign\", \"Radius\": 13.27, \"Texture\": 17.02, \"Perimeter\": 84.55, \"Area\": 546.4, \"Smoothness\": 0.08445, \"Compactness\": 0.04994, \"Concavity\": 0.03554, \"Concave_Points\": 0.02456, \"Symmetry\": 0.1496, \"Fractal_Dimension\": 0.05674}, {\"ID\": 88143502, \"Class\": \"Benign\", \"Radius\": 14.34, \"Texture\": 13.47, \"Perimeter\": 92.51, \"Area\": 641.2, \"Smoothness\": 0.09906, \"Compactness\": 0.07624, \"Concavity\": 0.05724, \"Concave_Points\": 0.04603, \"Symmetry\": 0.2075, \"Fractal_Dimension\": 0.05448}, {\"ID\": 88147101, \"Class\": \"Benign\", \"Radius\": 10.44, \"Texture\": 15.46, \"Perimeter\": 66.62, \"Area\": 329.6, \"Smoothness\": 0.1053, \"Compactness\": 0.07722, \"Concavity\": 0.006643, \"Concave_Points\": 0.01216, \"Symmetry\": 0.1788, \"Fractal_Dimension\": 0.0645}, {\"ID\": 88147102, \"Class\": \"Benign\", \"Radius\": 15.0, \"Texture\": 15.51, \"Perimeter\": 97.45, \"Area\": 684.5, \"Smoothness\": 0.08371, \"Compactness\": 0.1096, \"Concavity\": 0.06505, \"Concave_Points\": 0.0378, \"Symmetry\": 0.1881, \"Fractal_Dimension\": 0.05907}, {\"ID\": 88147202, \"Class\": \"Benign\", \"Radius\": 12.62, \"Texture\": 23.97, \"Perimeter\": 81.35, \"Area\": 496.4, \"Smoothness\": 0.07903, \"Compactness\": 0.07529, \"Concavity\": 0.05438, \"Concave_Points\": 0.02036, \"Symmetry\": 0.1514, \"Fractal_Dimension\": 0.06019}, {\"ID\": 881861, \"Class\": \"Malignant\", \"Radius\": 12.83, \"Texture\": 22.33, \"Perimeter\": 85.26, \"Area\": 503.2, \"Smoothness\": 0.1088, \"Compactness\": 0.1799, \"Concavity\": 0.1695, \"Concave_Points\": 0.06861, \"Symmetry\": 0.2123, \"Fractal_Dimension\": 0.07254}, {\"ID\": 881972, \"Class\": \"Malignant\", \"Radius\": 17.05, \"Texture\": 19.08, \"Perimeter\": 113.4, \"Area\": 895.0, \"Smoothness\": 0.1141, \"Compactness\": 0.1572, \"Concavity\": 0.191, \"Concave_Points\": 0.109, \"Symmetry\": 0.2131, \"Fractal_Dimension\": 0.06325}, {\"ID\": 88199202, \"Class\": \"Benign\", \"Radius\": 11.32, \"Texture\": 27.08, \"Perimeter\": 71.76, \"Area\": 395.7, \"Smoothness\": 0.06883, \"Compactness\": 0.03813, \"Concavity\": 0.01633, \"Concave_Points\": 0.003125, \"Symmetry\": 0.1869, \"Fractal_Dimension\": 0.05628}, {\"ID\": 88203002, \"Class\": \"Benign\", \"Radius\": 11.22, \"Texture\": 33.81, \"Perimeter\": 70.79, \"Area\": 386.8, \"Smoothness\": 0.0778, \"Compactness\": 0.03574, \"Concavity\": 0.004967, \"Concave_Points\": 0.006434, \"Symmetry\": 0.1845, \"Fractal_Dimension\": 0.05828}, {\"ID\": 88206102, \"Class\": \"Malignant\", \"Radius\": 20.51, \"Texture\": 27.81, \"Perimeter\": 134.4, \"Area\": 1319.0, \"Smoothness\": 0.09159, \"Compactness\": 0.1074, \"Concavity\": 0.1554, \"Concave_Points\": 0.0834, \"Symmetry\": 0.1448, \"Fractal_Dimension\": 0.05592}, {\"ID\": 882488, \"Class\": \"Benign\", \"Radius\": 9.567, \"Texture\": 15.91, \"Perimeter\": 60.21, \"Area\": 279.6, \"Smoothness\": 0.08464, \"Compactness\": 0.04087, \"Concavity\": 0.01652, \"Concave_Points\": 0.01667, \"Symmetry\": 0.1551, \"Fractal_Dimension\": 0.06403}, {\"ID\": 88249602, \"Class\": \"Benign\", \"Radius\": 14.03, \"Texture\": 21.25, \"Perimeter\": 89.79, \"Area\": 603.4, \"Smoothness\": 0.0907, \"Compactness\": 0.06945, \"Concavity\": 0.01462, \"Concave_Points\": 0.01896, \"Symmetry\": 0.1517, \"Fractal_Dimension\": 0.05835}, {\"ID\": 88299702, \"Class\": \"Malignant\", \"Radius\": 23.21, \"Texture\": 26.97, \"Perimeter\": 153.5, \"Area\": 1670.0, \"Smoothness\": 0.09509, \"Compactness\": 0.1682, \"Concavity\": 0.195, \"Concave_Points\": 0.1237, \"Symmetry\": 0.1909, \"Fractal_Dimension\": 0.06309}, {\"ID\": 883263, \"Class\": \"Malignant\", \"Radius\": 20.48, \"Texture\": 21.46, \"Perimeter\": 132.5, \"Area\": 1306.0, \"Smoothness\": 0.08355, \"Compactness\": 0.08348, \"Concavity\": 0.09042, \"Concave_Points\": 0.06022, \"Symmetry\": 0.1467, \"Fractal_Dimension\": 0.05177}, {\"ID\": 883270, \"Class\": \"Benign\", \"Radius\": 14.22, \"Texture\": 27.85, \"Perimeter\": 92.55, \"Area\": 623.9, \"Smoothness\": 0.08223, \"Compactness\": 0.1039, \"Concavity\": 0.1103, \"Concave_Points\": 0.04408, \"Symmetry\": 0.1342, \"Fractal_Dimension\": 0.06129}, {\"ID\": 88330202, \"Class\": \"Malignant\", \"Radius\": 17.46, \"Texture\": 39.28, \"Perimeter\": 113.4, \"Area\": 920.6, \"Smoothness\": 0.09812, \"Compactness\": 0.1298, \"Concavity\": 0.1417, \"Concave_Points\": 0.08811, \"Symmetry\": 0.1809, \"Fractal_Dimension\": 0.05966}, {\"ID\": 88350402, \"Class\": \"Benign\", \"Radius\": 13.64, \"Texture\": 15.6, \"Perimeter\": 87.38, \"Area\": 575.3, \"Smoothness\": 0.09423, \"Compactness\": 0.0663, \"Concavity\": 0.04705, \"Concave_Points\": 0.03731, \"Symmetry\": 0.1717, \"Fractal_Dimension\": 0.0566}, {\"ID\": 883539, \"Class\": \"Benign\", \"Radius\": 12.42, \"Texture\": 15.04, \"Perimeter\": 78.61, \"Area\": 476.5, \"Smoothness\": 0.07926, \"Compactness\": 0.03393, \"Concavity\": 0.01053, \"Concave_Points\": 0.01108, \"Symmetry\": 0.1546, \"Fractal_Dimension\": 0.05754}, {\"ID\": 883852, \"Class\": \"Benign\", \"Radius\": 11.3, \"Texture\": 18.19, \"Perimeter\": 73.93, \"Area\": 389.4, \"Smoothness\": 0.09592, \"Compactness\": 0.1325, \"Concavity\": 0.1548, \"Concave_Points\": 0.02854, \"Symmetry\": 0.2054, \"Fractal_Dimension\": 0.07669}, {\"ID\": 88411702, \"Class\": \"Benign\", \"Radius\": 13.75, \"Texture\": 23.77, \"Perimeter\": 88.54, \"Area\": 590.0, \"Smoothness\": 0.08043, \"Compactness\": 0.06807, \"Concavity\": 0.04697, \"Concave_Points\": 0.02344, \"Symmetry\": 0.1773, \"Fractal_Dimension\": 0.05429}, {\"ID\": 884180, \"Class\": \"Malignant\", \"Radius\": 19.4, \"Texture\": 23.5, \"Perimeter\": 129.1, \"Area\": 1155.0, \"Smoothness\": 0.1027, \"Compactness\": 0.1558, \"Concavity\": 0.2049, \"Concave_Points\": 0.08886, \"Symmetry\": 0.1978, \"Fractal_Dimension\": 0.06}, {\"ID\": 884437, \"Class\": \"Benign\", \"Radius\": 10.48, \"Texture\": 19.86, \"Perimeter\": 66.72, \"Area\": 337.7, \"Smoothness\": 0.107, \"Compactness\": 0.05971, \"Concavity\": 0.04831, \"Concave_Points\": 0.0307, \"Symmetry\": 0.1737, \"Fractal_Dimension\": 0.0644}, {\"ID\": 884448, \"Class\": \"Benign\", \"Radius\": 13.2, \"Texture\": 17.43, \"Perimeter\": 84.13, \"Area\": 541.6, \"Smoothness\": 0.07215, \"Compactness\": 0.04524, \"Concavity\": 0.04336, \"Concave_Points\": 0.01105, \"Symmetry\": 0.1487, \"Fractal_Dimension\": 0.05635}, {\"ID\": 884626, \"Class\": \"Benign\", \"Radius\": 12.89, \"Texture\": 14.11, \"Perimeter\": 84.95, \"Area\": 512.2, \"Smoothness\": 0.0876, \"Compactness\": 0.1346, \"Concavity\": 0.1374, \"Concave_Points\": 0.0398, \"Symmetry\": 0.1596, \"Fractal_Dimension\": 0.06409}, {\"ID\": 88466802, \"Class\": \"Benign\", \"Radius\": 10.65, \"Texture\": 25.22, \"Perimeter\": 68.01, \"Area\": 347.0, \"Smoothness\": 0.09657, \"Compactness\": 0.07234, \"Concavity\": 0.02379, \"Concave_Points\": 0.01615, \"Symmetry\": 0.1897, \"Fractal_Dimension\": 0.06329}, {\"ID\": 884689, \"Class\": \"Benign\", \"Radius\": 11.52, \"Texture\": 14.93, \"Perimeter\": 73.87, \"Area\": 406.3, \"Smoothness\": 0.1013, \"Compactness\": 0.07808, \"Concavity\": 0.04328, \"Concave_Points\": 0.02929, \"Symmetry\": 0.1883, \"Fractal_Dimension\": 0.06168}, {\"ID\": 884948, \"Class\": \"Malignant\", \"Radius\": 20.94, \"Texture\": 23.56, \"Perimeter\": 138.9, \"Area\": 1364.0, \"Smoothness\": 0.1007, \"Compactness\": 0.1606, \"Concavity\": 0.2712, \"Concave_Points\": 0.131, \"Symmetry\": 0.2205, \"Fractal_Dimension\": 0.05898}, {\"ID\": 88518501, \"Class\": \"Benign\", \"Radius\": 11.5, \"Texture\": 18.45, \"Perimeter\": 73.28, \"Area\": 407.4, \"Smoothness\": 0.09345, \"Compactness\": 0.05991, \"Concavity\": 0.02638, \"Concave_Points\": 0.02069, \"Symmetry\": 0.1834, \"Fractal_Dimension\": 0.05934}, {\"ID\": 885429, \"Class\": \"Malignant\", \"Radius\": 19.73, \"Texture\": 19.82, \"Perimeter\": 130.7, \"Area\": 1206.0, \"Smoothness\": 0.1062, \"Compactness\": 0.1849, \"Concavity\": 0.2417, \"Concave_Points\": 0.0974, \"Symmetry\": 0.1733, \"Fractal_Dimension\": 0.06697}, {\"ID\": 8860702, \"Class\": \"Malignant\", \"Radius\": 17.3, \"Texture\": 17.08, \"Perimeter\": 113.0, \"Area\": 928.2, \"Smoothness\": 0.1008, \"Compactness\": 0.1041, \"Concavity\": 0.1266, \"Concave_Points\": 0.08353, \"Symmetry\": 0.1813, \"Fractal_Dimension\": 0.05613}, {\"ID\": 886226, \"Class\": \"Malignant\", \"Radius\": 19.45, \"Texture\": 19.33, \"Perimeter\": 126.5, \"Area\": 1169.0, \"Smoothness\": 0.1035, \"Compactness\": 0.1188, \"Concavity\": 0.1379, \"Concave_Points\": 0.08591, \"Symmetry\": 0.1776, \"Fractal_Dimension\": 0.05647}, {\"ID\": 886452, \"Class\": \"Malignant\", \"Radius\": 13.96, \"Texture\": 17.05, \"Perimeter\": 91.43, \"Area\": 602.4, \"Smoothness\": 0.1096, \"Compactness\": 0.1279, \"Concavity\": 0.09789, \"Concave_Points\": 0.05246, \"Symmetry\": 0.1908, \"Fractal_Dimension\": 0.0613}, {\"ID\": 88649001, \"Class\": \"Malignant\", \"Radius\": 19.55, \"Texture\": 28.77, \"Perimeter\": 133.6, \"Area\": 1207.0, \"Smoothness\": 0.0926, \"Compactness\": 0.2063, \"Concavity\": 0.1784, \"Concave_Points\": 0.1144, \"Symmetry\": 0.1893, \"Fractal_Dimension\": 0.06232}, {\"ID\": 886776, \"Class\": \"Malignant\", \"Radius\": 15.32, \"Texture\": 17.27, \"Perimeter\": 103.2, \"Area\": 713.3, \"Smoothness\": 0.1335, \"Compactness\": 0.2284, \"Concavity\": 0.2448, \"Concave_Points\": 0.1242, \"Symmetry\": 0.2398, \"Fractal_Dimension\": 0.07596}, {\"ID\": 887181, \"Class\": \"Malignant\", \"Radius\": 15.66, \"Texture\": 23.2, \"Perimeter\": 110.2, \"Area\": 773.5, \"Smoothness\": 0.1109, \"Compactness\": 0.3114, \"Concavity\": 0.3176, \"Concave_Points\": 0.1377, \"Symmetry\": 0.2495, \"Fractal_Dimension\": 0.08104}, {\"ID\": 88725602, \"Class\": \"Malignant\", \"Radius\": 15.53, \"Texture\": 33.56, \"Perimeter\": 103.7, \"Area\": 744.9, \"Smoothness\": 0.1063, \"Compactness\": 0.1639, \"Concavity\": 0.1751, \"Concave_Points\": 0.08399, \"Symmetry\": 0.2091, \"Fractal_Dimension\": 0.0665}, {\"ID\": 887549, \"Class\": \"Malignant\", \"Radius\": 20.31, \"Texture\": 27.06, \"Perimeter\": 132.9, \"Area\": 1288.0, \"Smoothness\": 0.1, \"Compactness\": 0.1088, \"Concavity\": 0.1519, \"Concave_Points\": 0.09333, \"Symmetry\": 0.1814, \"Fractal_Dimension\": 0.05572}, {\"ID\": 888264, \"Class\": \"Malignant\", \"Radius\": 17.35, \"Texture\": 23.06, \"Perimeter\": 111.0, \"Area\": 933.1, \"Smoothness\": 0.08662, \"Compactness\": 0.0629, \"Concavity\": 0.02891, \"Concave_Points\": 0.02837, \"Symmetry\": 0.1564, \"Fractal_Dimension\": 0.05307}, {\"ID\": 888570, \"Class\": \"Malignant\", \"Radius\": 17.29, \"Texture\": 22.13, \"Perimeter\": 114.4, \"Area\": 947.8, \"Smoothness\": 0.08999, \"Compactness\": 0.1273, \"Concavity\": 0.09697, \"Concave_Points\": 0.07507, \"Symmetry\": 0.2108, \"Fractal_Dimension\": 0.05464}, {\"ID\": 889403, \"Class\": \"Malignant\", \"Radius\": 15.61, \"Texture\": 19.38, \"Perimeter\": 100.0, \"Area\": 758.6, \"Smoothness\": 0.0784, \"Compactness\": 0.05616, \"Concavity\": 0.04209, \"Concave_Points\": 0.02847, \"Symmetry\": 0.1547, \"Fractal_Dimension\": 0.05443}, {\"ID\": 889719, \"Class\": \"Malignant\", \"Radius\": 17.19, \"Texture\": 22.07, \"Perimeter\": 111.6, \"Area\": 928.3, \"Smoothness\": 0.09726, \"Compactness\": 0.08995, \"Concavity\": 0.09061, \"Concave_Points\": 0.06527, \"Symmetry\": 0.1867, \"Fractal_Dimension\": 0.0558}, {\"ID\": 88995002, \"Class\": \"Malignant\", \"Radius\": 20.73, \"Texture\": 31.12, \"Perimeter\": 135.7, \"Area\": 1419.0, \"Smoothness\": 0.09469, \"Compactness\": 0.1143, \"Concavity\": 0.1367, \"Concave_Points\": 0.08646, \"Symmetry\": 0.1769, \"Fractal_Dimension\": 0.05674}, {\"ID\": 8910251, \"Class\": \"Benign\", \"Radius\": 10.6, \"Texture\": 18.95, \"Perimeter\": 69.28, \"Area\": 346.4, \"Smoothness\": 0.09688, \"Compactness\": 0.1147, \"Concavity\": 0.06387, \"Concave_Points\": 0.02642, \"Symmetry\": 0.1922, \"Fractal_Dimension\": 0.06491}, {\"ID\": 8910499, \"Class\": \"Benign\", \"Radius\": 13.59, \"Texture\": 21.84, \"Perimeter\": 87.16, \"Area\": 561.0, \"Smoothness\": 0.07956, \"Compactness\": 0.08259, \"Concavity\": 0.04072, \"Concave_Points\": 0.02142, \"Symmetry\": 0.1635, \"Fractal_Dimension\": 0.05859}, {\"ID\": 8910506, \"Class\": \"Benign\", \"Radius\": 12.87, \"Texture\": 16.21, \"Perimeter\": 82.38, \"Area\": 512.2, \"Smoothness\": 0.09425, \"Compactness\": 0.06219, \"Concavity\": 0.039, \"Concave_Points\": 0.01615, \"Symmetry\": 0.201, \"Fractal_Dimension\": 0.05769}, {\"ID\": 8910720, \"Class\": \"Benign\", \"Radius\": 10.71, \"Texture\": 20.39, \"Perimeter\": 69.5, \"Area\": 344.9, \"Smoothness\": 0.1082, \"Compactness\": 0.1289, \"Concavity\": 0.08448, \"Concave_Points\": 0.02867, \"Symmetry\": 0.1668, \"Fractal_Dimension\": 0.06862}, {\"ID\": 8910721, \"Class\": \"Benign\", \"Radius\": 14.29, \"Texture\": 16.82, \"Perimeter\": 90.3, \"Area\": 632.6, \"Smoothness\": 0.06429, \"Compactness\": 0.02675, \"Concavity\": 0.00725, \"Concave_Points\": 0.00625, \"Symmetry\": 0.1508, \"Fractal_Dimension\": 0.05376}, {\"ID\": 8910748, \"Class\": \"Benign\", \"Radius\": 11.29, \"Texture\": 13.04, \"Perimeter\": 72.23, \"Area\": 388.0, \"Smoothness\": 0.09834, \"Compactness\": 0.07608, \"Concavity\": 0.03265, \"Concave_Points\": 0.02755, \"Symmetry\": 0.1769, \"Fractal_Dimension\": 0.0627}, {\"ID\": 8910988, \"Class\": \"Malignant\", \"Radius\": 21.75, \"Texture\": 20.99, \"Perimeter\": 147.3, \"Area\": 1491.0, \"Smoothness\": 0.09401, \"Compactness\": 0.1961, \"Concavity\": 0.2195, \"Concave_Points\": 0.1088, \"Symmetry\": 0.1721, \"Fractal_Dimension\": 0.06194}, {\"ID\": 8910996, \"Class\": \"Benign\", \"Radius\": 9.742, \"Texture\": 15.67, \"Perimeter\": 61.5, \"Area\": 289.9, \"Smoothness\": 0.09037, \"Compactness\": 0.04689, \"Concavity\": 0.01103, \"Concave_Points\": 0.01407, \"Symmetry\": 0.2081, \"Fractal_Dimension\": 0.06312}, {\"ID\": 8911163, \"Class\": \"Malignant\", \"Radius\": 17.93, \"Texture\": 24.48, \"Perimeter\": 115.2, \"Area\": 998.9, \"Smoothness\": 0.08855, \"Compactness\": 0.07027, \"Concavity\": 0.05699, \"Concave_Points\": 0.04744, \"Symmetry\": 0.1538, \"Fractal_Dimension\": 0.0551}, {\"ID\": 8911164, \"Class\": \"Benign\", \"Radius\": 11.89, \"Texture\": 17.36, \"Perimeter\": 76.2, \"Area\": 435.6, \"Smoothness\": 0.1225, \"Compactness\": 0.0721, \"Concavity\": 0.05929, \"Concave_Points\": 0.07404, \"Symmetry\": 0.2015, \"Fractal_Dimension\": 0.05875}, {\"ID\": 8911230, \"Class\": \"Benign\", \"Radius\": 11.33, \"Texture\": 14.16, \"Perimeter\": 71.79, \"Area\": 396.6, \"Smoothness\": 0.09379, \"Compactness\": 0.03872, \"Concavity\": 0.001487, \"Concave_Points\": 0.003333, \"Symmetry\": 0.1954, \"Fractal_Dimension\": 0.05821}, {\"ID\": 8911670, \"Class\": \"Malignant\", \"Radius\": 18.81, \"Texture\": 19.98, \"Perimeter\": 120.9, \"Area\": 1102.0, \"Smoothness\": 0.08923, \"Compactness\": 0.05884, \"Concavity\": 0.0802, \"Concave_Points\": 0.05843, \"Symmetry\": 0.155, \"Fractal_Dimension\": 0.04996}, {\"ID\": 8911800, \"Class\": \"Benign\", \"Radius\": 13.59, \"Texture\": 17.84, \"Perimeter\": 86.24, \"Area\": 572.3, \"Smoothness\": 0.07948, \"Compactness\": 0.04052, \"Concavity\": 0.01997, \"Concave_Points\": 0.01238, \"Symmetry\": 0.1573, \"Fractal_Dimension\": 0.0552}, {\"ID\": 8911834, \"Class\": \"Benign\", \"Radius\": 13.85, \"Texture\": 15.18, \"Perimeter\": 88.99, \"Area\": 587.4, \"Smoothness\": 0.09516, \"Compactness\": 0.07688, \"Concavity\": 0.04479, \"Concave_Points\": 0.03711, \"Symmetry\": 0.211, \"Fractal_Dimension\": 0.05853}, {\"ID\": 8912049, \"Class\": \"Malignant\", \"Radius\": 19.16, \"Texture\": 26.6, \"Perimeter\": 126.2, \"Area\": 1138.0, \"Smoothness\": 0.102, \"Compactness\": 0.1453, \"Concavity\": 0.1921, \"Concave_Points\": 0.09664, \"Symmetry\": 0.1902, \"Fractal_Dimension\": 0.0622}, {\"ID\": 8912055, \"Class\": \"Benign\", \"Radius\": 11.74, \"Texture\": 14.02, \"Perimeter\": 74.24, \"Area\": 427.3, \"Smoothness\": 0.07813, \"Compactness\": 0.0434, \"Concavity\": 0.02245, \"Concave_Points\": 0.02763, \"Symmetry\": 0.2101, \"Fractal_Dimension\": 0.06113}, {\"ID\": 89122, \"Class\": \"Malignant\", \"Radius\": 19.4, \"Texture\": 18.18, \"Perimeter\": 127.2, \"Area\": 1145.0, \"Smoothness\": 0.1037, \"Compactness\": 0.1442, \"Concavity\": 0.1626, \"Concave_Points\": 0.09464, \"Symmetry\": 0.1893, \"Fractal_Dimension\": 0.05892}, {\"ID\": 8912280, \"Class\": \"Malignant\", \"Radius\": 16.24, \"Texture\": 18.77, \"Perimeter\": 108.8, \"Area\": 805.1, \"Smoothness\": 0.1066, \"Compactness\": 0.1802, \"Concavity\": 0.1948, \"Concave_Points\": 0.09052, \"Symmetry\": 0.1876, \"Fractal_Dimension\": 0.06684}, {\"ID\": 8912284, \"Class\": \"Benign\", \"Radius\": 12.89, \"Texture\": 15.7, \"Perimeter\": 84.08, \"Area\": 516.6, \"Smoothness\": 0.07818, \"Compactness\": 0.0958, \"Concavity\": 0.1115, \"Concave_Points\": 0.0339, \"Symmetry\": 0.1432, \"Fractal_Dimension\": 0.05935}, {\"ID\": 8912521, \"Class\": \"Benign\", \"Radius\": 12.58, \"Texture\": 18.4, \"Perimeter\": 79.83, \"Area\": 489.0, \"Smoothness\": 0.08393, \"Compactness\": 0.04216, \"Concavity\": 0.00186, \"Concave_Points\": 0.002924, \"Symmetry\": 0.1697, \"Fractal_Dimension\": 0.05855}, {\"ID\": 8912909, \"Class\": \"Benign\", \"Radius\": 11.94, \"Texture\": 20.76, \"Perimeter\": 77.87, \"Area\": 441.0, \"Smoothness\": 0.08605, \"Compactness\": 0.1011, \"Concavity\": 0.06574, \"Concave_Points\": 0.03791, \"Symmetry\": 0.1588, \"Fractal_Dimension\": 0.06766}, {\"ID\": 8913, \"Class\": \"Benign\", \"Radius\": 12.89, \"Texture\": 13.12, \"Perimeter\": 81.89, \"Area\": 515.9, \"Smoothness\": 0.06955, \"Compactness\": 0.03729, \"Concavity\": 0.0226, \"Concave_Points\": 0.01171, \"Symmetry\": 0.1337, \"Fractal_Dimension\": 0.05581}, {\"ID\": 8913049, \"Class\": \"Benign\", \"Radius\": 11.26, \"Texture\": 19.96, \"Perimeter\": 73.72, \"Area\": 394.1, \"Smoothness\": 0.0802, \"Compactness\": 0.1181, \"Concavity\": 0.09274, \"Concave_Points\": 0.05588, \"Symmetry\": 0.2595, \"Fractal_Dimension\": 0.06233}, {\"ID\": 89143601, \"Class\": \"Benign\", \"Radius\": 11.37, \"Texture\": 18.89, \"Perimeter\": 72.17, \"Area\": 396.0, \"Smoothness\": 0.08713, \"Compactness\": 0.05008, \"Concavity\": 0.02399, \"Concave_Points\": 0.02173, \"Symmetry\": 0.2013, \"Fractal_Dimension\": 0.05955}, {\"ID\": 89143602, \"Class\": \"Benign\", \"Radius\": 14.41, \"Texture\": 19.73, \"Perimeter\": 96.03, \"Area\": 651.0, \"Smoothness\": 0.08757, \"Compactness\": 0.1676, \"Concavity\": 0.1362, \"Concave_Points\": 0.06602, \"Symmetry\": 0.1714, \"Fractal_Dimension\": 0.07192}, {\"ID\": 8915, \"Class\": \"Benign\", \"Radius\": 14.96, \"Texture\": 19.1, \"Perimeter\": 97.03, \"Area\": 687.3, \"Smoothness\": 0.08992, \"Compactness\": 0.09823, \"Concavity\": 0.0594, \"Concave_Points\": 0.04819, \"Symmetry\": 0.1879, \"Fractal_Dimension\": 0.05852}, {\"ID\": 891670, \"Class\": \"Benign\", \"Radius\": 12.95, \"Texture\": 16.02, \"Perimeter\": 83.14, \"Area\": 513.7, \"Smoothness\": 0.1005, \"Compactness\": 0.07943, \"Concavity\": 0.06155, \"Concave_Points\": 0.0337, \"Symmetry\": 0.173, \"Fractal_Dimension\": 0.0647}, {\"ID\": 891703, \"Class\": \"Benign\", \"Radius\": 11.85, \"Texture\": 17.46, \"Perimeter\": 75.54, \"Area\": 432.7, \"Smoothness\": 0.08372, \"Compactness\": 0.05642, \"Concavity\": 0.02688, \"Concave_Points\": 0.0228, \"Symmetry\": 0.1875, \"Fractal_Dimension\": 0.05715}, {\"ID\": 891716, \"Class\": \"Benign\", \"Radius\": 12.72, \"Texture\": 13.78, \"Perimeter\": 81.78, \"Area\": 492.1, \"Smoothness\": 0.09667, \"Compactness\": 0.08393, \"Concavity\": 0.01288, \"Concave_Points\": 0.01924, \"Symmetry\": 0.1638, \"Fractal_Dimension\": 0.061}, {\"ID\": 891923, \"Class\": \"Benign\", \"Radius\": 13.77, \"Texture\": 13.27, \"Perimeter\": 88.06, \"Area\": 582.7, \"Smoothness\": 0.09198, \"Compactness\": 0.06221, \"Concavity\": 0.01063, \"Concave_Points\": 0.01917, \"Symmetry\": 0.1592, \"Fractal_Dimension\": 0.05912}, {\"ID\": 891936, \"Class\": \"Benign\", \"Radius\": 10.91, \"Texture\": 12.35, \"Perimeter\": 69.14, \"Area\": 363.7, \"Smoothness\": 0.08518, \"Compactness\": 0.04721, \"Concavity\": 0.01236, \"Concave_Points\": 0.01369, \"Symmetry\": 0.1449, \"Fractal_Dimension\": 0.06031}, {\"ID\": 892189, \"Class\": \"Malignant\", \"Radius\": 11.76, \"Texture\": 18.14, \"Perimeter\": 75.0, \"Area\": 431.1, \"Smoothness\": 0.09968, \"Compactness\": 0.05914, \"Concavity\": 0.02685, \"Concave_Points\": 0.03515, \"Symmetry\": 0.1619, \"Fractal_Dimension\": 0.06287}, {\"ID\": 892214, \"Class\": \"Benign\", \"Radius\": 14.26, \"Texture\": 18.17, \"Perimeter\": 91.22, \"Area\": 633.1, \"Smoothness\": 0.06576, \"Compactness\": 0.0522, \"Concavity\": 0.02475, \"Concave_Points\": 0.01374, \"Symmetry\": 0.1635, \"Fractal_Dimension\": 0.05586}, {\"ID\": 892399, \"Class\": \"Benign\", \"Radius\": 10.51, \"Texture\": 23.09, \"Perimeter\": 66.85, \"Area\": 334.2, \"Smoothness\": 0.1015, \"Compactness\": 0.06797, \"Concavity\": 0.02495, \"Concave_Points\": 0.01875, \"Symmetry\": 0.1695, \"Fractal_Dimension\": 0.06556}, {\"ID\": 892438, \"Class\": \"Malignant\", \"Radius\": 19.53, \"Texture\": 18.9, \"Perimeter\": 129.5, \"Area\": 1217.0, \"Smoothness\": 0.115, \"Compactness\": 0.1642, \"Concavity\": 0.2197, \"Concave_Points\": 0.1062, \"Symmetry\": 0.1792, \"Fractal_Dimension\": 0.06552}, {\"ID\": 892604, \"Class\": \"Benign\", \"Radius\": 12.46, \"Texture\": 19.89, \"Perimeter\": 80.43, \"Area\": 471.3, \"Smoothness\": 0.08451, \"Compactness\": 0.1014, \"Concavity\": 0.0683, \"Concave_Points\": 0.03099, \"Symmetry\": 0.1781, \"Fractal_Dimension\": 0.06249}, {\"ID\": 89263202, \"Class\": \"Malignant\", \"Radius\": 20.09, \"Texture\": 23.86, \"Perimeter\": 134.7, \"Area\": 1247.0, \"Smoothness\": 0.108, \"Compactness\": 0.1838, \"Concavity\": 0.2283, \"Concave_Points\": 0.128, \"Symmetry\": 0.2249, \"Fractal_Dimension\": 0.07469}, {\"ID\": 892657, \"Class\": \"Benign\", \"Radius\": 10.49, \"Texture\": 18.61, \"Perimeter\": 66.86, \"Area\": 334.3, \"Smoothness\": 0.1068, \"Compactness\": 0.06678, \"Concavity\": 0.02297, \"Concave_Points\": 0.0178, \"Symmetry\": 0.1482, \"Fractal_Dimension\": 0.066}, {\"ID\": 89296, \"Class\": \"Benign\", \"Radius\": 11.46, \"Texture\": 18.16, \"Perimeter\": 73.59, \"Area\": 403.1, \"Smoothness\": 0.08853, \"Compactness\": 0.07694, \"Concavity\": 0.03344, \"Concave_Points\": 0.01502, \"Symmetry\": 0.1411, \"Fractal_Dimension\": 0.06243}, {\"ID\": 893061, \"Class\": \"Benign\", \"Radius\": 11.6, \"Texture\": 24.49, \"Perimeter\": 74.23, \"Area\": 417.2, \"Smoothness\": 0.07474, \"Compactness\": 0.05688, \"Concavity\": 0.01974, \"Concave_Points\": 0.01313, \"Symmetry\": 0.1935, \"Fractal_Dimension\": 0.05878}, {\"ID\": 89344, \"Class\": \"Benign\", \"Radius\": 13.2, \"Texture\": 15.82, \"Perimeter\": 84.07, \"Area\": 537.3, \"Smoothness\": 0.08511, \"Compactness\": 0.05251, \"Concavity\": 0.001461, \"Concave_Points\": 0.003261, \"Symmetry\": 0.1632, \"Fractal_Dimension\": 0.05894}, {\"ID\": 89346, \"Class\": \"Benign\", \"Radius\": 9.0, \"Texture\": 14.4, \"Perimeter\": 56.36, \"Area\": 246.3, \"Smoothness\": 0.07005, \"Compactness\": 0.03116, \"Concavity\": 0.003681, \"Concave_Points\": 0.003472, \"Symmetry\": 0.1788, \"Fractal_Dimension\": 0.06833}, {\"ID\": 893526, \"Class\": \"Benign\", \"Radius\": 13.5, \"Texture\": 12.71, \"Perimeter\": 85.69, \"Area\": 566.2, \"Smoothness\": 0.07376, \"Compactness\": 0.03614, \"Concavity\": 0.002758, \"Concave_Points\": 0.004419, \"Symmetry\": 0.1365, \"Fractal_Dimension\": 0.05335}, {\"ID\": 893548, \"Class\": \"Benign\", \"Radius\": 13.05, \"Texture\": 13.84, \"Perimeter\": 82.71, \"Area\": 530.6, \"Smoothness\": 0.08352, \"Compactness\": 0.03735, \"Concavity\": 0.004559, \"Concave_Points\": 0.008829, \"Symmetry\": 0.1453, \"Fractal_Dimension\": 0.05518}, {\"ID\": 893783, \"Class\": \"Benign\", \"Radius\": 11.7, \"Texture\": 19.11, \"Perimeter\": 74.33, \"Area\": 418.7, \"Smoothness\": 0.08814, \"Compactness\": 0.05253, \"Concavity\": 0.01583, \"Concave_Points\": 0.01148, \"Symmetry\": 0.1936, \"Fractal_Dimension\": 0.06128}, {\"ID\": 89382601, \"Class\": \"Benign\", \"Radius\": 14.61, \"Texture\": 15.69, \"Perimeter\": 92.68, \"Area\": 664.9, \"Smoothness\": 0.07618, \"Compactness\": 0.03515, \"Concavity\": 0.01447, \"Concave_Points\": 0.01877, \"Symmetry\": 0.1632, \"Fractal_Dimension\": 0.05255}, {\"ID\": 89382602, \"Class\": \"Benign\", \"Radius\": 12.76, \"Texture\": 13.37, \"Perimeter\": 82.29, \"Area\": 504.1, \"Smoothness\": 0.08794, \"Compactness\": 0.07948, \"Concavity\": 0.04052, \"Concave_Points\": 0.02548, \"Symmetry\": 0.1601, \"Fractal_Dimension\": 0.0614}, {\"ID\": 893988, \"Class\": \"Benign\", \"Radius\": 11.54, \"Texture\": 10.72, \"Perimeter\": 73.73, \"Area\": 409.1, \"Smoothness\": 0.08597, \"Compactness\": 0.05969, \"Concavity\": 0.01367, \"Concave_Points\": 0.008907, \"Symmetry\": 0.1833, \"Fractal_Dimension\": 0.061}, {\"ID\": 894047, \"Class\": \"Benign\", \"Radius\": 8.597, \"Texture\": 18.6, \"Perimeter\": 54.09, \"Area\": 221.2, \"Smoothness\": 0.1074, \"Compactness\": 0.05847, \"Concavity\": 0.0, \"Concave_Points\": 0.0, \"Symmetry\": 0.2163, \"Fractal_Dimension\": 0.07359}, {\"ID\": 894089, \"Class\": \"Benign\", \"Radius\": 12.49, \"Texture\": 16.85, \"Perimeter\": 79.19, \"Area\": 481.6, \"Smoothness\": 0.08511, \"Compactness\": 0.03834, \"Concavity\": 0.004473, \"Concave_Points\": 0.006423, \"Symmetry\": 0.1215, \"Fractal_Dimension\": 0.05673}, {\"ID\": 894090, \"Class\": \"Benign\", \"Radius\": 12.18, \"Texture\": 14.08, \"Perimeter\": 77.25, \"Area\": 461.4, \"Smoothness\": 0.07734, \"Compactness\": 0.03212, \"Concavity\": 0.01123, \"Concave_Points\": 0.005051, \"Symmetry\": 0.1673, \"Fractal_Dimension\": 0.05649}, {\"ID\": 894326, \"Class\": \"Malignant\", \"Radius\": 18.22, \"Texture\": 18.87, \"Perimeter\": 118.7, \"Area\": 1027.0, \"Smoothness\": 0.09746, \"Compactness\": 0.1117, \"Concavity\": 0.113, \"Concave_Points\": 0.0795, \"Symmetry\": 0.1807, \"Fractal_Dimension\": 0.05664}, {\"ID\": 894329, \"Class\": \"Benign\", \"Radius\": 9.042, \"Texture\": 18.9, \"Perimeter\": 60.07, \"Area\": 244.5, \"Smoothness\": 0.09968, \"Compactness\": 0.1972, \"Concavity\": 0.1975, \"Concave_Points\": 0.04908, \"Symmetry\": 0.233, \"Fractal_Dimension\": 0.08743}, {\"ID\": 894335, \"Class\": \"Benign\", \"Radius\": 12.43, \"Texture\": 17.0, \"Perimeter\": 78.6, \"Area\": 477.3, \"Smoothness\": 0.07557, \"Compactness\": 0.03454, \"Concavity\": 0.01342, \"Concave_Points\": 0.01699, \"Symmetry\": 0.1472, \"Fractal_Dimension\": 0.05561}, {\"ID\": 894604, \"Class\": \"Benign\", \"Radius\": 10.25, \"Texture\": 16.18, \"Perimeter\": 66.52, \"Area\": 324.2, \"Smoothness\": 0.1061, \"Compactness\": 0.1111, \"Concavity\": 0.06726, \"Concave_Points\": 0.03965, \"Symmetry\": 0.1743, \"Fractal_Dimension\": 0.07279}, {\"ID\": 894618, \"Class\": \"Malignant\", \"Radius\": 20.16, \"Texture\": 19.66, \"Perimeter\": 131.1, \"Area\": 1274.0, \"Smoothness\": 0.0802, \"Compactness\": 0.08564, \"Concavity\": 0.1155, \"Concave_Points\": 0.07726, \"Symmetry\": 0.1928, \"Fractal_Dimension\": 0.05096}, {\"ID\": 894855, \"Class\": \"Benign\", \"Radius\": 12.86, \"Texture\": 13.32, \"Perimeter\": 82.82, \"Area\": 504.8, \"Smoothness\": 0.1134, \"Compactness\": 0.08834, \"Concavity\": 0.038, \"Concave_Points\": 0.034, \"Symmetry\": 0.1543, \"Fractal_Dimension\": 0.06476}, {\"ID\": 895100, \"Class\": \"Malignant\", \"Radius\": 20.34, \"Texture\": 21.51, \"Perimeter\": 135.9, \"Area\": 1264.0, \"Smoothness\": 0.117, \"Compactness\": 0.1875, \"Concavity\": 0.2565, \"Concave_Points\": 0.1504, \"Symmetry\": 0.2569, \"Fractal_Dimension\": 0.0667}, {\"ID\": 89511501, \"Class\": \"Benign\", \"Radius\": 12.2, \"Texture\": 15.21, \"Perimeter\": 78.01, \"Area\": 457.9, \"Smoothness\": 0.08673, \"Compactness\": 0.06545, \"Concavity\": 0.01994, \"Concave_Points\": 0.01692, \"Symmetry\": 0.1638, \"Fractal_Dimension\": 0.06129}, {\"ID\": 89511502, \"Class\": \"Benign\", \"Radius\": 12.67, \"Texture\": 17.3, \"Perimeter\": 81.25, \"Area\": 489.9, \"Smoothness\": 0.1028, \"Compactness\": 0.07664, \"Concavity\": 0.03193, \"Concave_Points\": 0.02107, \"Symmetry\": 0.1707, \"Fractal_Dimension\": 0.05984}, {\"ID\": 89524, \"Class\": \"Benign\", \"Radius\": 14.11, \"Texture\": 12.88, \"Perimeter\": 90.03, \"Area\": 616.5, \"Smoothness\": 0.09309, \"Compactness\": 0.05306, \"Concavity\": 0.01765, \"Concave_Points\": 0.02733, \"Symmetry\": 0.1373, \"Fractal_Dimension\": 0.057}, {\"ID\": 895299, \"Class\": \"Benign\", \"Radius\": 12.03, \"Texture\": 17.93, \"Perimeter\": 76.09, \"Area\": 446.0, \"Smoothness\": 0.07683, \"Compactness\": 0.03892, \"Concavity\": 0.001546, \"Concave_Points\": 0.005592, \"Symmetry\": 0.1382, \"Fractal_Dimension\": 0.0607}, {\"ID\": 8953902, \"Class\": \"Malignant\", \"Radius\": 16.27, \"Texture\": 20.71, \"Perimeter\": 106.9, \"Area\": 813.7, \"Smoothness\": 0.1169, \"Compactness\": 0.1319, \"Concavity\": 0.1478, \"Concave_Points\": 0.08488, \"Symmetry\": 0.1948, \"Fractal_Dimension\": 0.06277}, {\"ID\": 895633, \"Class\": \"Malignant\", \"Radius\": 16.26, \"Texture\": 21.88, \"Perimeter\": 107.5, \"Area\": 826.8, \"Smoothness\": 0.1165, \"Compactness\": 0.1283, \"Concavity\": 0.1799, \"Concave_Points\": 0.07981, \"Symmetry\": 0.1869, \"Fractal_Dimension\": 0.06532}, {\"ID\": 896839, \"Class\": \"Malignant\", \"Radius\": 16.03, \"Texture\": 15.51, \"Perimeter\": 105.8, \"Area\": 793.2, \"Smoothness\": 0.09491, \"Compactness\": 0.1371, \"Concavity\": 0.1204, \"Concave_Points\": 0.07041, \"Symmetry\": 0.1782, \"Fractal_Dimension\": 0.05976}, {\"ID\": 896864, \"Class\": \"Benign\", \"Radius\": 12.98, \"Texture\": 19.35, \"Perimeter\": 84.52, \"Area\": 514.0, \"Smoothness\": 0.09579, \"Compactness\": 0.1125, \"Concavity\": 0.07107, \"Concave_Points\": 0.0295, \"Symmetry\": 0.1761, \"Fractal_Dimension\": 0.0654}, {\"ID\": 897132, \"Class\": \"Benign\", \"Radius\": 11.22, \"Texture\": 19.86, \"Perimeter\": 71.94, \"Area\": 387.3, \"Smoothness\": 0.1054, \"Compactness\": 0.06779, \"Concavity\": 0.005006, \"Concave_Points\": 0.007583, \"Symmetry\": 0.194, \"Fractal_Dimension\": 0.06028}, {\"ID\": 897137, \"Class\": \"Benign\", \"Radius\": 11.25, \"Texture\": 14.78, \"Perimeter\": 71.38, \"Area\": 390.0, \"Smoothness\": 0.08306, \"Compactness\": 0.04458, \"Concavity\": 0.0009737, \"Concave_Points\": 0.002941, \"Symmetry\": 0.1773, \"Fractal_Dimension\": 0.06081}, {\"ID\": 897374, \"Class\": \"Benign\", \"Radius\": 12.3, \"Texture\": 19.02, \"Perimeter\": 77.88, \"Area\": 464.4, \"Smoothness\": 0.08313, \"Compactness\": 0.04202, \"Concavity\": 0.007756, \"Concave_Points\": 0.008535, \"Symmetry\": 0.1539, \"Fractal_Dimension\": 0.05945}, {\"ID\": 89742801, \"Class\": \"Malignant\", \"Radius\": 17.06, \"Texture\": 21.0, \"Perimeter\": 111.8, \"Area\": 918.6, \"Smoothness\": 0.1119, \"Compactness\": 0.1056, \"Concavity\": 0.1508, \"Concave_Points\": 0.09934, \"Symmetry\": 0.1727, \"Fractal_Dimension\": 0.06071}, {\"ID\": 897604, \"Class\": \"Benign\", \"Radius\": 12.99, \"Texture\": 14.23, \"Perimeter\": 84.08, \"Area\": 514.3, \"Smoothness\": 0.09462, \"Compactness\": 0.09965, \"Concavity\": 0.03738, \"Concave_Points\": 0.02098, \"Symmetry\": 0.1652, \"Fractal_Dimension\": 0.07238}, {\"ID\": 897630, \"Class\": \"Malignant\", \"Radius\": 18.77, \"Texture\": 21.43, \"Perimeter\": 122.9, \"Area\": 1092.0, \"Smoothness\": 0.09116, \"Compactness\": 0.1402, \"Concavity\": 0.106, \"Concave_Points\": 0.0609, \"Symmetry\": 0.1953, \"Fractal_Dimension\": 0.06083}, {\"ID\": 897880, \"Class\": \"Benign\", \"Radius\": 10.05, \"Texture\": 17.53, \"Perimeter\": 64.41, \"Area\": 310.8, \"Smoothness\": 0.1007, \"Compactness\": 0.07326, \"Concavity\": 0.02511, \"Concave_Points\": 0.01775, \"Symmetry\": 0.189, \"Fractal_Dimension\": 0.06331}, {\"ID\": 89812, \"Class\": \"Malignant\", \"Radius\": 23.51, \"Texture\": 24.27, \"Perimeter\": 155.1, \"Area\": 1747.0, \"Smoothness\": 0.1069, \"Compactness\": 0.1283, \"Concavity\": 0.2308, \"Concave_Points\": 0.141, \"Symmetry\": 0.1797, \"Fractal_Dimension\": 0.05506}, {\"ID\": 89813, \"Class\": \"Benign\", \"Radius\": 14.42, \"Texture\": 16.54, \"Perimeter\": 94.15, \"Area\": 641.2, \"Smoothness\": 0.09751, \"Compactness\": 0.1139, \"Concavity\": 0.08007, \"Concave_Points\": 0.04223, \"Symmetry\": 0.1912, \"Fractal_Dimension\": 0.06412}, {\"ID\": 898143, \"Class\": \"Benign\", \"Radius\": 9.606, \"Texture\": 16.84, \"Perimeter\": 61.64, \"Area\": 280.5, \"Smoothness\": 0.08481, \"Compactness\": 0.09228, \"Concavity\": 0.08422, \"Concave_Points\": 0.02292, \"Symmetry\": 0.2036, \"Fractal_Dimension\": 0.07125}, {\"ID\": 89827, \"Class\": \"Benign\", \"Radius\": 11.06, \"Texture\": 14.96, \"Perimeter\": 71.49, \"Area\": 373.9, \"Smoothness\": 0.1033, \"Compactness\": 0.09097, \"Concavity\": 0.05397, \"Concave_Points\": 0.03341, \"Symmetry\": 0.1776, \"Fractal_Dimension\": 0.06907}, {\"ID\": 898431, \"Class\": \"Malignant\", \"Radius\": 19.68, \"Texture\": 21.68, \"Perimeter\": 129.9, \"Area\": 1194.0, \"Smoothness\": 0.09797, \"Compactness\": 0.1339, \"Concavity\": 0.1863, \"Concave_Points\": 0.1103, \"Symmetry\": 0.2082, \"Fractal_Dimension\": 0.05715}, {\"ID\": 89864002, \"Class\": \"Benign\", \"Radius\": 11.71, \"Texture\": 15.45, \"Perimeter\": 75.03, \"Area\": 420.3, \"Smoothness\": 0.115, \"Compactness\": 0.07281, \"Concavity\": 0.04006, \"Concave_Points\": 0.0325, \"Symmetry\": 0.2009, \"Fractal_Dimension\": 0.06506}, {\"ID\": 898677, \"Class\": \"Benign\", \"Radius\": 10.26, \"Texture\": 14.71, \"Perimeter\": 66.2, \"Area\": 321.6, \"Smoothness\": 0.09882, \"Compactness\": 0.09159, \"Concavity\": 0.03581, \"Concave_Points\": 0.02037, \"Symmetry\": 0.1633, \"Fractal_Dimension\": 0.07005}, {\"ID\": 898678, \"Class\": \"Benign\", \"Radius\": 12.06, \"Texture\": 18.9, \"Perimeter\": 76.66, \"Area\": 445.3, \"Smoothness\": 0.08386, \"Compactness\": 0.05794, \"Concavity\": 0.00751, \"Concave_Points\": 0.008488, \"Symmetry\": 0.1555, \"Fractal_Dimension\": 0.06048}, {\"ID\": 89869, \"Class\": \"Benign\", \"Radius\": 14.76, \"Texture\": 14.74, \"Perimeter\": 94.87, \"Area\": 668.7, \"Smoothness\": 0.08875, \"Compactness\": 0.0778, \"Concavity\": 0.04608, \"Concave_Points\": 0.03528, \"Symmetry\": 0.1521, \"Fractal_Dimension\": 0.05912}, {\"ID\": 898690, \"Class\": \"Benign\", \"Radius\": 11.47, \"Texture\": 16.03, \"Perimeter\": 73.02, \"Area\": 402.7, \"Smoothness\": 0.09076, \"Compactness\": 0.05886, \"Concavity\": 0.02587, \"Concave_Points\": 0.02322, \"Symmetry\": 0.1634, \"Fractal_Dimension\": 0.06372}, {\"ID\": 899147, \"Class\": \"Benign\", \"Radius\": 11.95, \"Texture\": 14.96, \"Perimeter\": 77.23, \"Area\": 426.7, \"Smoothness\": 0.1158, \"Compactness\": 0.1206, \"Concavity\": 0.01171, \"Concave_Points\": 0.01787, \"Symmetry\": 0.2459, \"Fractal_Dimension\": 0.06581}, {\"ID\": 899187, \"Class\": \"Benign\", \"Radius\": 11.66, \"Texture\": 17.07, \"Perimeter\": 73.7, \"Area\": 421.0, \"Smoothness\": 0.07561, \"Compactness\": 0.0363, \"Concavity\": 0.008306, \"Concave_Points\": 0.01162, \"Symmetry\": 0.1671, \"Fractal_Dimension\": 0.05731}, {\"ID\": 899667, \"Class\": \"Malignant\", \"Radius\": 15.75, \"Texture\": 19.22, \"Perimeter\": 107.1, \"Area\": 758.6, \"Smoothness\": 0.1243, \"Compactness\": 0.2364, \"Concavity\": 0.2914, \"Concave_Points\": 0.1242, \"Symmetry\": 0.2375, \"Fractal_Dimension\": 0.07603}, {\"ID\": 899987, \"Class\": \"Malignant\", \"Radius\": 25.73, \"Texture\": 17.46, \"Perimeter\": 174.2, \"Area\": 2010.0, \"Smoothness\": 0.1149, \"Compactness\": 0.2363, \"Concavity\": 0.3368, \"Concave_Points\": 0.1913, \"Symmetry\": 0.1956, \"Fractal_Dimension\": 0.06121}, {\"ID\": 9010018, \"Class\": \"Malignant\", \"Radius\": 15.08, \"Texture\": 25.74, \"Perimeter\": 98.0, \"Area\": 716.6, \"Smoothness\": 0.1024, \"Compactness\": 0.09769, \"Concavity\": 0.1235, \"Concave_Points\": 0.06553, \"Symmetry\": 0.1647, \"Fractal_Dimension\": 0.06464}, {\"ID\": 901011, \"Class\": \"Benign\", \"Radius\": 11.14, \"Texture\": 14.07, \"Perimeter\": 71.24, \"Area\": 384.6, \"Smoothness\": 0.07274, \"Compactness\": 0.06064, \"Concavity\": 0.04505, \"Concave_Points\": 0.01471, \"Symmetry\": 0.169, \"Fractal_Dimension\": 0.06083}, {\"ID\": 9010258, \"Class\": \"Benign\", \"Radius\": 12.56, \"Texture\": 19.07, \"Perimeter\": 81.92, \"Area\": 485.8, \"Smoothness\": 0.0876, \"Compactness\": 0.1038, \"Concavity\": 0.103, \"Concave_Points\": 0.04391, \"Symmetry\": 0.1533, \"Fractal_Dimension\": 0.06184}, {\"ID\": 9010259, \"Class\": \"Benign\", \"Radius\": 13.05, \"Texture\": 18.59, \"Perimeter\": 85.09, \"Area\": 512.0, \"Smoothness\": 0.1082, \"Compactness\": 0.1304, \"Concavity\": 0.09603, \"Concave_Points\": 0.05603, \"Symmetry\": 0.2035, \"Fractal_Dimension\": 0.06501}, {\"ID\": 901028, \"Class\": \"Benign\", \"Radius\": 13.87, \"Texture\": 16.21, \"Perimeter\": 88.52, \"Area\": 593.7, \"Smoothness\": 0.08743, \"Compactness\": 0.05492, \"Concavity\": 0.01502, \"Concave_Points\": 0.02088, \"Symmetry\": 0.1424, \"Fractal_Dimension\": 0.05883}, {\"ID\": 9010333, \"Class\": \"Benign\", \"Radius\": 8.878, \"Texture\": 15.49, \"Perimeter\": 56.74, \"Area\": 241.0, \"Smoothness\": 0.08293, \"Compactness\": 0.07698, \"Concavity\": 0.04721, \"Concave_Points\": 0.02381, \"Symmetry\": 0.193, \"Fractal_Dimension\": 0.06621}, {\"ID\": 901034301, \"Class\": \"Benign\", \"Radius\": 9.436, \"Texture\": 18.32, \"Perimeter\": 59.82, \"Area\": 278.6, \"Smoothness\": 0.1009, \"Compactness\": 0.05956, \"Concavity\": 0.0271, \"Concave_Points\": 0.01406, \"Symmetry\": 0.1506, \"Fractal_Dimension\": 0.06959}, {\"ID\": 901034302, \"Class\": \"Benign\", \"Radius\": 12.54, \"Texture\": 18.07, \"Perimeter\": 79.42, \"Area\": 491.9, \"Smoothness\": 0.07436, \"Compactness\": 0.0265, \"Concavity\": 0.001194, \"Concave_Points\": 0.005449, \"Symmetry\": 0.1528, \"Fractal_Dimension\": 0.05185}, {\"ID\": 901041, \"Class\": \"Benign\", \"Radius\": 13.3, \"Texture\": 21.57, \"Perimeter\": 85.24, \"Area\": 546.1, \"Smoothness\": 0.08582, \"Compactness\": 0.06373, \"Concavity\": 0.03344, \"Concave_Points\": 0.02424, \"Symmetry\": 0.1815, \"Fractal_Dimension\": 0.05696}, {\"ID\": 9010598, \"Class\": \"Benign\", \"Radius\": 12.76, \"Texture\": 18.84, \"Perimeter\": 81.87, \"Area\": 496.6, \"Smoothness\": 0.09676, \"Compactness\": 0.07952, \"Concavity\": 0.02688, \"Concave_Points\": 0.01781, \"Symmetry\": 0.1759, \"Fractal_Dimension\": 0.06183}, {\"ID\": 9010872, \"Class\": \"Benign\", \"Radius\": 16.5, \"Texture\": 18.29, \"Perimeter\": 106.6, \"Area\": 838.1, \"Smoothness\": 0.09686, \"Compactness\": 0.08468, \"Concavity\": 0.05862, \"Concave_Points\": 0.04835, \"Symmetry\": 0.1495, \"Fractal_Dimension\": 0.05593}, {\"ID\": 9010877, \"Class\": \"Benign\", \"Radius\": 13.4, \"Texture\": 16.95, \"Perimeter\": 85.48, \"Area\": 552.4, \"Smoothness\": 0.07937, \"Compactness\": 0.05696, \"Concavity\": 0.02181, \"Concave_Points\": 0.01473, \"Symmetry\": 0.165, \"Fractal_Dimension\": 0.05701}, {\"ID\": 901088, \"Class\": \"Malignant\", \"Radius\": 20.44, \"Texture\": 21.78, \"Perimeter\": 133.8, \"Area\": 1293.0, \"Smoothness\": 0.0915, \"Compactness\": 0.1131, \"Concavity\": 0.09799, \"Concave_Points\": 0.07785, \"Symmetry\": 0.1618, \"Fractal_Dimension\": 0.05557}, {\"ID\": 9011494, \"Class\": \"Malignant\", \"Radius\": 20.2, \"Texture\": 26.83, \"Perimeter\": 133.7, \"Area\": 1234.0, \"Smoothness\": 0.09905, \"Compactness\": 0.1669, \"Concavity\": 0.1641, \"Concave_Points\": 0.1265, \"Symmetry\": 0.1875, \"Fractal_Dimension\": 0.0602}, {\"ID\": 9011495, \"Class\": \"Benign\", \"Radius\": 12.21, \"Texture\": 18.02, \"Perimeter\": 78.31, \"Area\": 458.4, \"Smoothness\": 0.09231, \"Compactness\": 0.07175, \"Concavity\": 0.04392, \"Concave_Points\": 0.02027, \"Symmetry\": 0.1695, \"Fractal_Dimension\": 0.05916}, {\"ID\": 9011971, \"Class\": \"Malignant\", \"Radius\": 21.71, \"Texture\": 17.25, \"Perimeter\": 140.9, \"Area\": 1546.0, \"Smoothness\": 0.09384, \"Compactness\": 0.08562, \"Concavity\": 0.1168, \"Concave_Points\": 0.08465, \"Symmetry\": 0.1717, \"Fractal_Dimension\": 0.05054}, {\"ID\": 9012000, \"Class\": \"Malignant\", \"Radius\": 22.01, \"Texture\": 21.9, \"Perimeter\": 147.2, \"Area\": 1482.0, \"Smoothness\": 0.1063, \"Compactness\": 0.1954, \"Concavity\": 0.2448, \"Concave_Points\": 0.1501, \"Symmetry\": 0.1824, \"Fractal_Dimension\": 0.0614}, {\"ID\": 9012315, \"Class\": \"Malignant\", \"Radius\": 16.35, \"Texture\": 23.29, \"Perimeter\": 109.0, \"Area\": 840.4, \"Smoothness\": 0.09742, \"Compactness\": 0.1497, \"Concavity\": 0.1811, \"Concave_Points\": 0.08773, \"Symmetry\": 0.2175, \"Fractal_Dimension\": 0.06218}, {\"ID\": 9012568, \"Class\": \"Benign\", \"Radius\": 15.19, \"Texture\": 13.21, \"Perimeter\": 97.65, \"Area\": 711.8, \"Smoothness\": 0.07963, \"Compactness\": 0.06934, \"Concavity\": 0.03393, \"Concave_Points\": 0.02657, \"Symmetry\": 0.1721, \"Fractal_Dimension\": 0.05544}, {\"ID\": 9012795, \"Class\": \"Malignant\", \"Radius\": 21.37, \"Texture\": 15.1, \"Perimeter\": 141.3, \"Area\": 1386.0, \"Smoothness\": 0.1001, \"Compactness\": 0.1515, \"Concavity\": 0.1932, \"Concave_Points\": 0.1255, \"Symmetry\": 0.1973, \"Fractal_Dimension\": 0.06183}, {\"ID\": 901288, \"Class\": \"Malignant\", \"Radius\": 20.64, \"Texture\": 17.35, \"Perimeter\": 134.8, \"Area\": 1335.0, \"Smoothness\": 0.09446, \"Compactness\": 0.1076, \"Concavity\": 0.1527, \"Concave_Points\": 0.08941, \"Symmetry\": 0.1571, \"Fractal_Dimension\": 0.05478}, {\"ID\": 9013005, \"Class\": \"Benign\", \"Radius\": 13.69, \"Texture\": 16.07, \"Perimeter\": 87.84, \"Area\": 579.1, \"Smoothness\": 0.08302, \"Compactness\": 0.06374, \"Concavity\": 0.02556, \"Concave_Points\": 0.02031, \"Symmetry\": 0.1872, \"Fractal_Dimension\": 0.05669}, {\"ID\": 901303, \"Class\": \"Benign\", \"Radius\": 16.17, \"Texture\": 16.07, \"Perimeter\": 106.3, \"Area\": 788.5, \"Smoothness\": 0.0988, \"Compactness\": 0.1438, \"Concavity\": 0.06651, \"Concave_Points\": 0.05397, \"Symmetry\": 0.199, \"Fractal_Dimension\": 0.06572}, {\"ID\": 901315, \"Class\": \"Benign\", \"Radius\": 10.57, \"Texture\": 20.22, \"Perimeter\": 70.15, \"Area\": 338.3, \"Smoothness\": 0.09073, \"Compactness\": 0.166, \"Concavity\": 0.228, \"Concave_Points\": 0.05941, \"Symmetry\": 0.2188, \"Fractal_Dimension\": 0.0845}, {\"ID\": 9013579, \"Class\": \"Benign\", \"Radius\": 13.46, \"Texture\": 28.21, \"Perimeter\": 85.89, \"Area\": 562.1, \"Smoothness\": 0.07517, \"Compactness\": 0.04726, \"Concavity\": 0.01271, \"Concave_Points\": 0.01117, \"Symmetry\": 0.1421, \"Fractal_Dimension\": 0.05763}, {\"ID\": 9013594, \"Class\": \"Benign\", \"Radius\": 13.66, \"Texture\": 15.15, \"Perimeter\": 88.27, \"Area\": 580.6, \"Smoothness\": 0.08268, \"Compactness\": 0.07548, \"Concavity\": 0.04249, \"Concave_Points\": 0.02471, \"Symmetry\": 0.1792, \"Fractal_Dimension\": 0.05897}, {\"ID\": 9013838, \"Class\": \"Malignant\", \"Radius\": 11.08, \"Texture\": 18.83, \"Perimeter\": 73.3, \"Area\": 361.6, \"Smoothness\": 0.1216, \"Compactness\": 0.2154, \"Concavity\": 0.1689, \"Concave_Points\": 0.06367, \"Symmetry\": 0.2196, \"Fractal_Dimension\": 0.0795}, {\"ID\": 901549, \"Class\": \"Benign\", \"Radius\": 11.27, \"Texture\": 12.96, \"Perimeter\": 73.16, \"Area\": 386.3, \"Smoothness\": 0.1237, \"Compactness\": 0.1111, \"Concavity\": 0.079, \"Concave_Points\": 0.0555, \"Symmetry\": 0.2018, \"Fractal_Dimension\": 0.06914}, {\"ID\": 901836, \"Class\": \"Benign\", \"Radius\": 11.04, \"Texture\": 14.93, \"Perimeter\": 70.67, \"Area\": 372.7, \"Smoothness\": 0.07987, \"Compactness\": 0.07079, \"Concavity\": 0.03546, \"Concave_Points\": 0.02074, \"Symmetry\": 0.2003, \"Fractal_Dimension\": 0.06246}, {\"ID\": 90250, \"Class\": \"Benign\", \"Radius\": 12.05, \"Texture\": 22.72, \"Perimeter\": 78.75, \"Area\": 447.8, \"Smoothness\": 0.06935, \"Compactness\": 0.1073, \"Concavity\": 0.07943, \"Concave_Points\": 0.02978, \"Symmetry\": 0.1203, \"Fractal_Dimension\": 0.06659}, {\"ID\": 90251, \"Class\": \"Benign\", \"Radius\": 12.39, \"Texture\": 17.48, \"Perimeter\": 80.64, \"Area\": 462.9, \"Smoothness\": 0.1042, \"Compactness\": 0.1297, \"Concavity\": 0.05892, \"Concave_Points\": 0.0288, \"Symmetry\": 0.1779, \"Fractal_Dimension\": 0.06588}, {\"ID\": 902727, \"Class\": \"Benign\", \"Radius\": 13.28, \"Texture\": 13.72, \"Perimeter\": 85.79, \"Area\": 541.8, \"Smoothness\": 0.08363, \"Compactness\": 0.08575, \"Concavity\": 0.05077, \"Concave_Points\": 0.02864, \"Symmetry\": 0.1617, \"Fractal_Dimension\": 0.05594}, {\"ID\": 90291, \"Class\": \"Malignant\", \"Radius\": 14.6, \"Texture\": 23.29, \"Perimeter\": 93.97, \"Area\": 664.7, \"Smoothness\": 0.08682, \"Compactness\": 0.06636, \"Concavity\": 0.0839, \"Concave_Points\": 0.05271, \"Symmetry\": 0.1627, \"Fractal_Dimension\": 0.05416}, {\"ID\": 902975, \"Class\": \"Benign\", \"Radius\": 12.21, \"Texture\": 14.09, \"Perimeter\": 78.78, \"Area\": 462.0, \"Smoothness\": 0.08108, \"Compactness\": 0.07823, \"Concavity\": 0.06839, \"Concave_Points\": 0.02534, \"Symmetry\": 0.1646, \"Fractal_Dimension\": 0.06154}, {\"ID\": 902976, \"Class\": \"Benign\", \"Radius\": 13.88, \"Texture\": 16.16, \"Perimeter\": 88.37, \"Area\": 596.6, \"Smoothness\": 0.07026, \"Compactness\": 0.04831, \"Concavity\": 0.02045, \"Concave_Points\": 0.008507, \"Symmetry\": 0.1607, \"Fractal_Dimension\": 0.05474}, {\"ID\": 903011, \"Class\": \"Benign\", \"Radius\": 11.27, \"Texture\": 15.5, \"Perimeter\": 73.38, \"Area\": 392.0, \"Smoothness\": 0.08365, \"Compactness\": 0.1114, \"Concavity\": 0.1007, \"Concave_Points\": 0.02757, \"Symmetry\": 0.181, \"Fractal_Dimension\": 0.07252}, {\"ID\": 90312, \"Class\": \"Malignant\", \"Radius\": 19.55, \"Texture\": 23.21, \"Perimeter\": 128.9, \"Area\": 1174.0, \"Smoothness\": 0.101, \"Compactness\": 0.1318, \"Concavity\": 0.1856, \"Concave_Points\": 0.1021, \"Symmetry\": 0.1989, \"Fractal_Dimension\": 0.05884}, {\"ID\": 90317302, \"Class\": \"Benign\", \"Radius\": 10.26, \"Texture\": 12.22, \"Perimeter\": 65.75, \"Area\": 321.6, \"Smoothness\": 0.09996, \"Compactness\": 0.07542, \"Concavity\": 0.01923, \"Concave_Points\": 0.01968, \"Symmetry\": 0.18, \"Fractal_Dimension\": 0.06569}, {\"ID\": 903483, \"Class\": \"Benign\", \"Radius\": 8.734, \"Texture\": 16.84, \"Perimeter\": 55.27, \"Area\": 234.3, \"Smoothness\": 0.1039, \"Compactness\": 0.07428, \"Concavity\": 0.0, \"Concave_Points\": 0.0, \"Symmetry\": 0.1985, \"Fractal_Dimension\": 0.07098}, {\"ID\": 903507, \"Class\": \"Malignant\", \"Radius\": 15.49, \"Texture\": 19.97, \"Perimeter\": 102.4, \"Area\": 744.7, \"Smoothness\": 0.116, \"Compactness\": 0.1562, \"Concavity\": 0.1891, \"Concave_Points\": 0.09113, \"Symmetry\": 0.1929, \"Fractal_Dimension\": 0.06744}, {\"ID\": 903516, \"Class\": \"Malignant\", \"Radius\": 21.61, \"Texture\": 22.28, \"Perimeter\": 144.4, \"Area\": 1407.0, \"Smoothness\": 0.1167, \"Compactness\": 0.2087, \"Concavity\": 0.281, \"Concave_Points\": 0.1562, \"Symmetry\": 0.2162, \"Fractal_Dimension\": 0.06606}, {\"ID\": 903554, \"Class\": \"Benign\", \"Radius\": 12.1, \"Texture\": 17.72, \"Perimeter\": 78.07, \"Area\": 446.2, \"Smoothness\": 0.1029, \"Compactness\": 0.09758, \"Concavity\": 0.04783, \"Concave_Points\": 0.03326, \"Symmetry\": 0.1937, \"Fractal_Dimension\": 0.06161}, {\"ID\": 903811, \"Class\": \"Benign\", \"Radius\": 14.06, \"Texture\": 17.18, \"Perimeter\": 89.75, \"Area\": 609.1, \"Smoothness\": 0.08045, \"Compactness\": 0.05361, \"Concavity\": 0.02681, \"Concave_Points\": 0.03251, \"Symmetry\": 0.1641, \"Fractal_Dimension\": 0.05764}, {\"ID\": 90401601, \"Class\": \"Benign\", \"Radius\": 13.51, \"Texture\": 18.89, \"Perimeter\": 88.1, \"Area\": 558.1, \"Smoothness\": 0.1059, \"Compactness\": 0.1147, \"Concavity\": 0.0858, \"Concave_Points\": 0.05381, \"Symmetry\": 0.1806, \"Fractal_Dimension\": 0.06079}, {\"ID\": 90401602, \"Class\": \"Benign\", \"Radius\": 12.8, \"Texture\": 17.46, \"Perimeter\": 83.05, \"Area\": 508.3, \"Smoothness\": 0.08044, \"Compactness\": 0.08895, \"Concavity\": 0.0739, \"Concave_Points\": 0.04083, \"Symmetry\": 0.1574, \"Fractal_Dimension\": 0.0575}, {\"ID\": 904302, \"Class\": \"Benign\", \"Radius\": 11.06, \"Texture\": 14.83, \"Perimeter\": 70.31, \"Area\": 378.2, \"Smoothness\": 0.07741, \"Compactness\": 0.04768, \"Concavity\": 0.02712, \"Concave_Points\": 0.007246, \"Symmetry\": 0.1535, \"Fractal_Dimension\": 0.06214}, {\"ID\": 904357, \"Class\": \"Benign\", \"Radius\": 11.8, \"Texture\": 17.26, \"Perimeter\": 75.26, \"Area\": 431.9, \"Smoothness\": 0.09087, \"Compactness\": 0.06232, \"Concavity\": 0.02853, \"Concave_Points\": 0.01638, \"Symmetry\": 0.1847, \"Fractal_Dimension\": 0.06019}, {\"ID\": 90439701, \"Class\": \"Malignant\", \"Radius\": 17.91, \"Texture\": 21.02, \"Perimeter\": 124.4, \"Area\": 994.0, \"Smoothness\": 0.123, \"Compactness\": 0.2576, \"Concavity\": 0.3189, \"Concave_Points\": 0.1198, \"Symmetry\": 0.2113, \"Fractal_Dimension\": 0.07115}, {\"ID\": 904647, \"Class\": \"Benign\", \"Radius\": 11.93, \"Texture\": 10.91, \"Perimeter\": 76.14, \"Area\": 442.7, \"Smoothness\": 0.08872, \"Compactness\": 0.05242, \"Concavity\": 0.02606, \"Concave_Points\": 0.01796, \"Symmetry\": 0.1601, \"Fractal_Dimension\": 0.05541}, {\"ID\": 904689, \"Class\": \"Benign\", \"Radius\": 12.96, \"Texture\": 18.29, \"Perimeter\": 84.18, \"Area\": 525.2, \"Smoothness\": 0.07351, \"Compactness\": 0.07899, \"Concavity\": 0.04057, \"Concave_Points\": 0.01883, \"Symmetry\": 0.1874, \"Fractal_Dimension\": 0.05899}, {\"ID\": 9047, \"Class\": \"Benign\", \"Radius\": 12.94, \"Texture\": 16.17, \"Perimeter\": 83.18, \"Area\": 507.6, \"Smoothness\": 0.09879, \"Compactness\": 0.08836, \"Concavity\": 0.03296, \"Concave_Points\": 0.0239, \"Symmetry\": 0.1735, \"Fractal_Dimension\": 0.062}, {\"ID\": 904969, \"Class\": \"Benign\", \"Radius\": 12.34, \"Texture\": 14.95, \"Perimeter\": 78.29, \"Area\": 469.1, \"Smoothness\": 0.08682, \"Compactness\": 0.04571, \"Concavity\": 0.02109, \"Concave_Points\": 0.02054, \"Symmetry\": 0.1571, \"Fractal_Dimension\": 0.05708}, {\"ID\": 904971, \"Class\": \"Benign\", \"Radius\": 10.94, \"Texture\": 18.59, \"Perimeter\": 70.39, \"Area\": 370.0, \"Smoothness\": 0.1004, \"Compactness\": 0.0746, \"Concavity\": 0.04944, \"Concave_Points\": 0.02932, \"Symmetry\": 0.1486, \"Fractal_Dimension\": 0.06615}, {\"ID\": 905189, \"Class\": \"Benign\", \"Radius\": 16.14, \"Texture\": 14.86, \"Perimeter\": 104.3, \"Area\": 800.0, \"Smoothness\": 0.09495, \"Compactness\": 0.08501, \"Concavity\": 0.055, \"Concave_Points\": 0.04528, \"Symmetry\": 0.1735, \"Fractal_Dimension\": 0.05875}, {\"ID\": 905190, \"Class\": \"Benign\", \"Radius\": 12.85, \"Texture\": 21.37, \"Perimeter\": 82.63, \"Area\": 514.5, \"Smoothness\": 0.07551, \"Compactness\": 0.08316, \"Concavity\": 0.06126, \"Concave_Points\": 0.01867, \"Symmetry\": 0.158, \"Fractal_Dimension\": 0.06114}, {\"ID\": 90524101, \"Class\": \"Malignant\", \"Radius\": 17.99, \"Texture\": 20.66, \"Perimeter\": 117.8, \"Area\": 991.7, \"Smoothness\": 0.1036, \"Compactness\": 0.1304, \"Concavity\": 0.1201, \"Concave_Points\": 0.08824, \"Symmetry\": 0.1992, \"Fractal_Dimension\": 0.06069}, {\"ID\": 905501, \"Class\": \"Benign\", \"Radius\": 12.27, \"Texture\": 17.92, \"Perimeter\": 78.41, \"Area\": 466.1, \"Smoothness\": 0.08685, \"Compactness\": 0.06526, \"Concavity\": 0.03211, \"Concave_Points\": 0.02653, \"Symmetry\": 0.1966, \"Fractal_Dimension\": 0.05597}, {\"ID\": 905502, \"Class\": \"Benign\", \"Radius\": 11.36, \"Texture\": 17.57, \"Perimeter\": 72.49, \"Area\": 399.8, \"Smoothness\": 0.08858, \"Compactness\": 0.05313, \"Concavity\": 0.02783, \"Concave_Points\": 0.021, \"Symmetry\": 0.1601, \"Fractal_Dimension\": 0.05913}, {\"ID\": 905520, \"Class\": \"Benign\", \"Radius\": 11.04, \"Texture\": 16.83, \"Perimeter\": 70.92, \"Area\": 373.2, \"Smoothness\": 0.1077, \"Compactness\": 0.07804, \"Concavity\": 0.03046, \"Concave_Points\": 0.0248, \"Symmetry\": 0.1714, \"Fractal_Dimension\": 0.0634}, {\"ID\": 905539, \"Class\": \"Benign\", \"Radius\": 9.397, \"Texture\": 21.68, \"Perimeter\": 59.75, \"Area\": 268.8, \"Smoothness\": 0.07969, \"Compactness\": 0.06053, \"Concavity\": 0.03735, \"Concave_Points\": 0.005128, \"Symmetry\": 0.1274, \"Fractal_Dimension\": 0.06724}, {\"ID\": 905557, \"Class\": \"Benign\", \"Radius\": 14.99, \"Texture\": 22.11, \"Perimeter\": 97.53, \"Area\": 693.7, \"Smoothness\": 0.08515, \"Compactness\": 0.1025, \"Concavity\": 0.06859, \"Concave_Points\": 0.03876, \"Symmetry\": 0.1944, \"Fractal_Dimension\": 0.05913}, {\"ID\": 905680, \"Class\": \"Malignant\", \"Radius\": 15.13, \"Texture\": 29.81, \"Perimeter\": 96.71, \"Area\": 719.5, \"Smoothness\": 0.0832, \"Compactness\": 0.04605, \"Concavity\": 0.04686, \"Concave_Points\": 0.02739, \"Symmetry\": 0.1852, \"Fractal_Dimension\": 0.05294}, {\"ID\": 905686, \"Class\": \"Benign\", \"Radius\": 11.89, \"Texture\": 21.17, \"Perimeter\": 76.39, \"Area\": 433.8, \"Smoothness\": 0.09773, \"Compactness\": 0.0812, \"Concavity\": 0.02555, \"Concave_Points\": 0.02179, \"Symmetry\": 0.2019, \"Fractal_Dimension\": 0.0629}, {\"ID\": 905978, \"Class\": \"Benign\", \"Radius\": 9.405, \"Texture\": 21.7, \"Perimeter\": 59.6, \"Area\": 271.2, \"Smoothness\": 0.1044, \"Compactness\": 0.06159, \"Concavity\": 0.02047, \"Concave_Points\": 0.01257, \"Symmetry\": 0.2025, \"Fractal_Dimension\": 0.06601}, {\"ID\": 90602302, \"Class\": \"Malignant\", \"Radius\": 15.5, \"Texture\": 21.08, \"Perimeter\": 102.9, \"Area\": 803.1, \"Smoothness\": 0.112, \"Compactness\": 0.1571, \"Concavity\": 0.1522, \"Concave_Points\": 0.08481, \"Symmetry\": 0.2085, \"Fractal_Dimension\": 0.06864}, {\"ID\": 906024, \"Class\": \"Benign\", \"Radius\": 12.7, \"Texture\": 12.17, \"Perimeter\": 80.88, \"Area\": 495.0, \"Smoothness\": 0.08785, \"Compactness\": 0.05794, \"Concavity\": 0.0236, \"Concave_Points\": 0.02402, \"Symmetry\": 0.1583, \"Fractal_Dimension\": 0.06275}, {\"ID\": 906290, \"Class\": \"Benign\", \"Radius\": 11.16, \"Texture\": 21.41, \"Perimeter\": 70.95, \"Area\": 380.3, \"Smoothness\": 0.1018, \"Compactness\": 0.05978, \"Concavity\": 0.008955, \"Concave_Points\": 0.01076, \"Symmetry\": 0.1615, \"Fractal_Dimension\": 0.06144}, {\"ID\": 906539, \"Class\": \"Benign\", \"Radius\": 11.57, \"Texture\": 19.04, \"Perimeter\": 74.2, \"Area\": 409.7, \"Smoothness\": 0.08546, \"Compactness\": 0.07722, \"Concavity\": 0.05485, \"Concave_Points\": 0.01428, \"Symmetry\": 0.2031, \"Fractal_Dimension\": 0.06267}, {\"ID\": 906564, \"Class\": \"Benign\", \"Radius\": 14.69, \"Texture\": 13.98, \"Perimeter\": 98.22, \"Area\": 656.1, \"Smoothness\": 0.1031, \"Compactness\": 0.1836, \"Concavity\": 0.145, \"Concave_Points\": 0.063, \"Symmetry\": 0.2086, \"Fractal_Dimension\": 0.07406}, {\"ID\": 906616, \"Class\": \"Benign\", \"Radius\": 11.61, \"Texture\": 16.02, \"Perimeter\": 75.46, \"Area\": 408.2, \"Smoothness\": 0.1088, \"Compactness\": 0.1168, \"Concavity\": 0.07097, \"Concave_Points\": 0.04497, \"Symmetry\": 0.1886, \"Fractal_Dimension\": 0.0632}, {\"ID\": 906878, \"Class\": \"Benign\", \"Radius\": 13.66, \"Texture\": 19.13, \"Perimeter\": 89.46, \"Area\": 575.3, \"Smoothness\": 0.09057, \"Compactness\": 0.1147, \"Concavity\": 0.09657, \"Concave_Points\": 0.04812, \"Symmetry\": 0.1848, \"Fractal_Dimension\": 0.06181}, {\"ID\": 907145, \"Class\": \"Benign\", \"Radius\": 9.742, \"Texture\": 19.12, \"Perimeter\": 61.93, \"Area\": 289.7, \"Smoothness\": 0.1075, \"Compactness\": 0.08333, \"Concavity\": 0.008934, \"Concave_Points\": 0.01967, \"Symmetry\": 0.2538, \"Fractal_Dimension\": 0.07029}, {\"ID\": 907367, \"Class\": \"Benign\", \"Radius\": 10.03, \"Texture\": 21.28, \"Perimeter\": 63.19, \"Area\": 307.3, \"Smoothness\": 0.08117, \"Compactness\": 0.03912, \"Concavity\": 0.00247, \"Concave_Points\": 0.005159, \"Symmetry\": 0.163, \"Fractal_Dimension\": 0.06439}, {\"ID\": 907409, \"Class\": \"Benign\", \"Radius\": 10.48, \"Texture\": 14.98, \"Perimeter\": 67.49, \"Area\": 333.6, \"Smoothness\": 0.09816, \"Compactness\": 0.1013, \"Concavity\": 0.06335, \"Concave_Points\": 0.02218, \"Symmetry\": 0.1925, \"Fractal_Dimension\": 0.06915}, {\"ID\": 90745, \"Class\": \"Benign\", \"Radius\": 10.8, \"Texture\": 21.98, \"Perimeter\": 68.79, \"Area\": 359.9, \"Smoothness\": 0.08801, \"Compactness\": 0.05743, \"Concavity\": 0.03614, \"Concave_Points\": 0.01404, \"Symmetry\": 0.2016, \"Fractal_Dimension\": 0.05977}, {\"ID\": 90769601, \"Class\": \"Benign\", \"Radius\": 11.13, \"Texture\": 16.62, \"Perimeter\": 70.47, \"Area\": 381.1, \"Smoothness\": 0.08151, \"Compactness\": 0.03834, \"Concavity\": 0.01369, \"Concave_Points\": 0.0137, \"Symmetry\": 0.1511, \"Fractal_Dimension\": 0.06148}, {\"ID\": 90769602, \"Class\": \"Benign\", \"Radius\": 12.72, \"Texture\": 17.67, \"Perimeter\": 80.98, \"Area\": 501.3, \"Smoothness\": 0.07896, \"Compactness\": 0.04522, \"Concavity\": 0.01402, \"Concave_Points\": 0.01835, \"Symmetry\": 0.1459, \"Fractal_Dimension\": 0.05544}, {\"ID\": 907914, \"Class\": \"Malignant\", \"Radius\": 14.9, \"Texture\": 22.53, \"Perimeter\": 102.1, \"Area\": 685.0, \"Smoothness\": 0.09947, \"Compactness\": 0.2225, \"Concavity\": 0.2733, \"Concave_Points\": 0.09711, \"Symmetry\": 0.2041, \"Fractal_Dimension\": 0.06898}, {\"ID\": 907915, \"Class\": \"Benign\", \"Radius\": 12.4, \"Texture\": 17.68, \"Perimeter\": 81.47, \"Area\": 467.8, \"Smoothness\": 0.1054, \"Compactness\": 0.1316, \"Concavity\": 0.07741, \"Concave_Points\": 0.02799, \"Symmetry\": 0.1811, \"Fractal_Dimension\": 0.07102}, {\"ID\": 908194, \"Class\": \"Malignant\", \"Radius\": 20.18, \"Texture\": 19.54, \"Perimeter\": 133.8, \"Area\": 1250.0, \"Smoothness\": 0.1133, \"Compactness\": 0.1489, \"Concavity\": 0.2133, \"Concave_Points\": 0.1259, \"Symmetry\": 0.1724, \"Fractal_Dimension\": 0.06053}, {\"ID\": 908445, \"Class\": \"Malignant\", \"Radius\": 18.82, \"Texture\": 21.97, \"Perimeter\": 123.7, \"Area\": 1110.0, \"Smoothness\": 0.1018, \"Compactness\": 0.1389, \"Concavity\": 0.1594, \"Concave_Points\": 0.08744, \"Symmetry\": 0.1943, \"Fractal_Dimension\": 0.06132}, {\"ID\": 908469, \"Class\": \"Benign\", \"Radius\": 14.86, \"Texture\": 16.94, \"Perimeter\": 94.89, \"Area\": 673.7, \"Smoothness\": 0.08924, \"Compactness\": 0.07074, \"Concavity\": 0.03346, \"Concave_Points\": 0.02877, \"Symmetry\": 0.1573, \"Fractal_Dimension\": 0.05703}, {\"ID\": 908489, \"Class\": \"Malignant\", \"Radius\": 13.98, \"Texture\": 19.62, \"Perimeter\": 91.12, \"Area\": 599.5, \"Smoothness\": 0.106, \"Compactness\": 0.1133, \"Concavity\": 0.1126, \"Concave_Points\": 0.06463, \"Symmetry\": 0.1669, \"Fractal_Dimension\": 0.06544}, {\"ID\": 908916, \"Class\": \"Benign\", \"Radius\": 12.87, \"Texture\": 19.54, \"Perimeter\": 82.67, \"Area\": 509.2, \"Smoothness\": 0.09136, \"Compactness\": 0.07883, \"Concavity\": 0.01797, \"Concave_Points\": 0.0209, \"Symmetry\": 0.1861, \"Fractal_Dimension\": 0.06347}, {\"ID\": 909220, \"Class\": \"Benign\", \"Radius\": 14.04, \"Texture\": 15.98, \"Perimeter\": 89.78, \"Area\": 611.2, \"Smoothness\": 0.08458, \"Compactness\": 0.05895, \"Concavity\": 0.03534, \"Concave_Points\": 0.02944, \"Symmetry\": 0.1714, \"Fractal_Dimension\": 0.05898}, {\"ID\": 909231, \"Class\": \"Benign\", \"Radius\": 13.85, \"Texture\": 19.6, \"Perimeter\": 88.68, \"Area\": 592.6, \"Smoothness\": 0.08684, \"Compactness\": 0.0633, \"Concavity\": 0.01342, \"Concave_Points\": 0.02293, \"Symmetry\": 0.1555, \"Fractal_Dimension\": 0.05673}, {\"ID\": 909410, \"Class\": \"Benign\", \"Radius\": 14.02, \"Texture\": 15.66, \"Perimeter\": 89.59, \"Area\": 606.5, \"Smoothness\": 0.07966, \"Compactness\": 0.05581, \"Concavity\": 0.02087, \"Concave_Points\": 0.02652, \"Symmetry\": 0.1589, \"Fractal_Dimension\": 0.05586}, {\"ID\": 909411, \"Class\": \"Benign\", \"Radius\": 10.97, \"Texture\": 17.2, \"Perimeter\": 71.73, \"Area\": 371.5, \"Smoothness\": 0.08915, \"Compactness\": 0.1113, \"Concavity\": 0.09457, \"Concave_Points\": 0.03613, \"Symmetry\": 0.1489, \"Fractal_Dimension\": 0.0664}, {\"ID\": 909445, \"Class\": \"Malignant\", \"Radius\": 17.27, \"Texture\": 25.42, \"Perimeter\": 112.4, \"Area\": 928.8, \"Smoothness\": 0.08331, \"Compactness\": 0.1109, \"Concavity\": 0.1204, \"Concave_Points\": 0.05736, \"Symmetry\": 0.1467, \"Fractal_Dimension\": 0.05407}, {\"ID\": 90944601, \"Class\": \"Benign\", \"Radius\": 13.78, \"Texture\": 15.79, \"Perimeter\": 88.37, \"Area\": 585.9, \"Smoothness\": 0.08817, \"Compactness\": 0.06718, \"Concavity\": 0.01055, \"Concave_Points\": 0.009937, \"Symmetry\": 0.1405, \"Fractal_Dimension\": 0.05848}, {\"ID\": 909777, \"Class\": \"Benign\", \"Radius\": 10.57, \"Texture\": 18.32, \"Perimeter\": 66.82, \"Area\": 340.9, \"Smoothness\": 0.08142, \"Compactness\": 0.04462, \"Concavity\": 0.01993, \"Concave_Points\": 0.01111, \"Symmetry\": 0.2372, \"Fractal_Dimension\": 0.05768}, {\"ID\": 9110127, \"Class\": \"Malignant\", \"Radius\": 18.03, \"Texture\": 16.85, \"Perimeter\": 117.5, \"Area\": 990.0, \"Smoothness\": 0.08947, \"Compactness\": 0.1232, \"Concavity\": 0.109, \"Concave_Points\": 0.06254, \"Symmetry\": 0.172, \"Fractal_Dimension\": 0.0578}, {\"ID\": 9110720, \"Class\": \"Benign\", \"Radius\": 11.99, \"Texture\": 24.89, \"Perimeter\": 77.61, \"Area\": 441.3, \"Smoothness\": 0.103, \"Compactness\": 0.09218, \"Concavity\": 0.05441, \"Concave_Points\": 0.04274, \"Symmetry\": 0.182, \"Fractal_Dimension\": 0.0685}, {\"ID\": 9110732, \"Class\": \"Malignant\", \"Radius\": 17.75, \"Texture\": 28.03, \"Perimeter\": 117.3, \"Area\": 981.6, \"Smoothness\": 0.09997, \"Compactness\": 0.1314, \"Concavity\": 0.1698, \"Concave_Points\": 0.08293, \"Symmetry\": 0.1713, \"Fractal_Dimension\": 0.05916}, {\"ID\": 9110944, \"Class\": \"Benign\", \"Radius\": 14.8, \"Texture\": 17.66, \"Perimeter\": 95.88, \"Area\": 674.8, \"Smoothness\": 0.09179, \"Compactness\": 0.0889, \"Concavity\": 0.04069, \"Concave_Points\": 0.0226, \"Symmetry\": 0.1893, \"Fractal_Dimension\": 0.05886}, {\"ID\": 911150, \"Class\": \"Benign\", \"Radius\": 14.53, \"Texture\": 19.34, \"Perimeter\": 94.25, \"Area\": 659.7, \"Smoothness\": 0.08388, \"Compactness\": 0.078, \"Concavity\": 0.08817, \"Concave_Points\": 0.02925, \"Symmetry\": 0.1473, \"Fractal_Dimension\": 0.05746}, {\"ID\": 911157302, \"Class\": \"Malignant\", \"Radius\": 21.1, \"Texture\": 20.52, \"Perimeter\": 138.1, \"Area\": 1384.0, \"Smoothness\": 0.09684, \"Compactness\": 0.1175, \"Concavity\": 0.1572, \"Concave_Points\": 0.1155, \"Symmetry\": 0.1554, \"Fractal_Dimension\": 0.05661}, {\"ID\": 9111596, \"Class\": \"Benign\", \"Radius\": 11.87, \"Texture\": 21.54, \"Perimeter\": 76.83, \"Area\": 432.0, \"Smoothness\": 0.06613, \"Compactness\": 0.1064, \"Concavity\": 0.08777, \"Concave_Points\": 0.02386, \"Symmetry\": 0.1349, \"Fractal_Dimension\": 0.06612}, {\"ID\": 9111805, \"Class\": \"Malignant\", \"Radius\": 19.59, \"Texture\": 25.0, \"Perimeter\": 127.7, \"Area\": 1191.0, \"Smoothness\": 0.1032, \"Compactness\": 0.09871, \"Concavity\": 0.1655, \"Concave_Points\": 0.09063, \"Symmetry\": 0.1663, \"Fractal_Dimension\": 0.05391}, {\"ID\": 9111843, \"Class\": \"Benign\", \"Radius\": 12.0, \"Texture\": 28.23, \"Perimeter\": 76.77, \"Area\": 442.5, \"Smoothness\": 0.08437, \"Compactness\": 0.0645, \"Concavity\": 0.04055, \"Concave_Points\": 0.01945, \"Symmetry\": 0.1615, \"Fractal_Dimension\": 0.06104}, {\"ID\": 911201, \"Class\": \"Benign\", \"Radius\": 14.53, \"Texture\": 13.98, \"Perimeter\": 93.86, \"Area\": 644.2, \"Smoothness\": 0.1099, \"Compactness\": 0.09242, \"Concavity\": 0.06895, \"Concave_Points\": 0.06495, \"Symmetry\": 0.165, \"Fractal_Dimension\": 0.06121}, {\"ID\": 911202, \"Class\": \"Benign\", \"Radius\": 12.62, \"Texture\": 17.15, \"Perimeter\": 80.62, \"Area\": 492.9, \"Smoothness\": 0.08583, \"Compactness\": 0.0543, \"Concavity\": 0.02966, \"Concave_Points\": 0.02272, \"Symmetry\": 0.1799, \"Fractal_Dimension\": 0.05826}, {\"ID\": 9112085, \"Class\": \"Benign\", \"Radius\": 13.38, \"Texture\": 30.72, \"Perimeter\": 86.34, \"Area\": 557.2, \"Smoothness\": 0.09245, \"Compactness\": 0.07426, \"Concavity\": 0.02819, \"Concave_Points\": 0.03264, \"Symmetry\": 0.1375, \"Fractal_Dimension\": 0.06016}, {\"ID\": 9112366, \"Class\": \"Benign\", \"Radius\": 11.63, \"Texture\": 29.29, \"Perimeter\": 74.87, \"Area\": 415.1, \"Smoothness\": 0.09357, \"Compactness\": 0.08574, \"Concavity\": 0.0716, \"Concave_Points\": 0.02017, \"Symmetry\": 0.1799, \"Fractal_Dimension\": 0.06166}, {\"ID\": 9112367, \"Class\": \"Benign\", \"Radius\": 13.21, \"Texture\": 25.25, \"Perimeter\": 84.1, \"Area\": 537.9, \"Smoothness\": 0.08791, \"Compactness\": 0.05205, \"Concavity\": 0.02772, \"Concave_Points\": 0.02068, \"Symmetry\": 0.1619, \"Fractal_Dimension\": 0.05584}, {\"ID\": 9112594, \"Class\": \"Benign\", \"Radius\": 13.0, \"Texture\": 25.13, \"Perimeter\": 82.61, \"Area\": 520.2, \"Smoothness\": 0.08369, \"Compactness\": 0.05073, \"Concavity\": 0.01206, \"Concave_Points\": 0.01762, \"Symmetry\": 0.1667, \"Fractal_Dimension\": 0.05449}, {\"ID\": 9112712, \"Class\": \"Benign\", \"Radius\": 9.755, \"Texture\": 28.2, \"Perimeter\": 61.68, \"Area\": 290.9, \"Smoothness\": 0.07984, \"Compactness\": 0.04626, \"Concavity\": 0.01541, \"Concave_Points\": 0.01043, \"Symmetry\": 0.1621, \"Fractal_Dimension\": 0.05952}, {\"ID\": 911296201, \"Class\": \"Malignant\", \"Radius\": 17.08, \"Texture\": 27.15, \"Perimeter\": 111.2, \"Area\": 930.9, \"Smoothness\": 0.09898, \"Compactness\": 0.111, \"Concavity\": 0.1007, \"Concave_Points\": 0.06431, \"Symmetry\": 0.1793, \"Fractal_Dimension\": 0.06281}, {\"ID\": 911296202, \"Class\": \"Malignant\", \"Radius\": 27.42, \"Texture\": 26.27, \"Perimeter\": 186.9, \"Area\": 2501.0, \"Smoothness\": 0.1084, \"Compactness\": 0.1988, \"Concavity\": 0.3635, \"Concave_Points\": 0.1689, \"Symmetry\": 0.2061, \"Fractal_Dimension\": 0.05623}, {\"ID\": 9113156, \"Class\": \"Benign\", \"Radius\": 14.4, \"Texture\": 26.99, \"Perimeter\": 92.25, \"Area\": 646.1, \"Smoothness\": 0.06995, \"Compactness\": 0.05223, \"Concavity\": 0.03476, \"Concave_Points\": 0.01737, \"Symmetry\": 0.1707, \"Fractal_Dimension\": 0.05433}, {\"ID\": 911320501, \"Class\": \"Benign\", \"Radius\": 11.6, \"Texture\": 18.36, \"Perimeter\": 73.88, \"Area\": 412.7, \"Smoothness\": 0.08508, \"Compactness\": 0.05855, \"Concavity\": 0.03367, \"Concave_Points\": 0.01777, \"Symmetry\": 0.1516, \"Fractal_Dimension\": 0.05859}, {\"ID\": 911320502, \"Class\": \"Benign\", \"Radius\": 13.17, \"Texture\": 18.22, \"Perimeter\": 84.28, \"Area\": 537.3, \"Smoothness\": 0.07466, \"Compactness\": 0.05994, \"Concavity\": 0.04859, \"Concave_Points\": 0.0287, \"Symmetry\": 0.1454, \"Fractal_Dimension\": 0.05549}, {\"ID\": 9113239, \"Class\": \"Benign\", \"Radius\": 13.24, \"Texture\": 20.13, \"Perimeter\": 86.87, \"Area\": 542.9, \"Smoothness\": 0.08284, \"Compactness\": 0.1223, \"Concavity\": 0.101, \"Concave_Points\": 0.02833, \"Symmetry\": 0.1601, \"Fractal_Dimension\": 0.06432}, {\"ID\": 9113455, \"Class\": \"Benign\", \"Radius\": 13.14, \"Texture\": 20.74, \"Perimeter\": 85.98, \"Area\": 536.9, \"Smoothness\": 0.08675, \"Compactness\": 0.1089, \"Concavity\": 0.1085, \"Concave_Points\": 0.0351, \"Symmetry\": 0.1562, \"Fractal_Dimension\": 0.0602}, {\"ID\": 9113514, \"Class\": \"Benign\", \"Radius\": 9.668, \"Texture\": 18.1, \"Perimeter\": 61.06, \"Area\": 286.3, \"Smoothness\": 0.08311, \"Compactness\": 0.05428, \"Concavity\": 0.01479, \"Concave_Points\": 0.005769, \"Symmetry\": 0.168, \"Fractal_Dimension\": 0.06412}, {\"ID\": 9113538, \"Class\": \"Malignant\", \"Radius\": 17.6, \"Texture\": 23.33, \"Perimeter\": 119.0, \"Area\": 980.5, \"Smoothness\": 0.09289, \"Compactness\": 0.2004, \"Concavity\": 0.2136, \"Concave_Points\": 0.1002, \"Symmetry\": 0.1696, \"Fractal_Dimension\": 0.07369}, {\"ID\": 911366, \"Class\": \"Benign\", \"Radius\": 11.62, \"Texture\": 18.18, \"Perimeter\": 76.38, \"Area\": 408.8, \"Smoothness\": 0.1175, \"Compactness\": 0.1483, \"Concavity\": 0.102, \"Concave_Points\": 0.05564, \"Symmetry\": 0.1957, \"Fractal_Dimension\": 0.07255}, {\"ID\": 9113778, \"Class\": \"Benign\", \"Radius\": 9.667, \"Texture\": 18.49, \"Perimeter\": 61.49, \"Area\": 289.1, \"Smoothness\": 0.08946, \"Compactness\": 0.06258, \"Concavity\": 0.02948, \"Concave_Points\": 0.01514, \"Symmetry\": 0.2238, \"Fractal_Dimension\": 0.06413}, {\"ID\": 9113816, \"Class\": \"Benign\", \"Radius\": 12.04, \"Texture\": 28.14, \"Perimeter\": 76.85, \"Area\": 449.9, \"Smoothness\": 0.08752, \"Compactness\": 0.06, \"Concavity\": 0.02367, \"Concave_Points\": 0.02377, \"Symmetry\": 0.1854, \"Fractal_Dimension\": 0.05698}, {\"ID\": 911384, \"Class\": \"Benign\", \"Radius\": 14.92, \"Texture\": 14.93, \"Perimeter\": 96.45, \"Area\": 686.9, \"Smoothness\": 0.08098, \"Compactness\": 0.08549, \"Concavity\": 0.05539, \"Concave_Points\": 0.03221, \"Symmetry\": 0.1687, \"Fractal_Dimension\": 0.05669}, {\"ID\": 9113846, \"Class\": \"Benign\", \"Radius\": 12.27, \"Texture\": 29.97, \"Perimeter\": 77.42, \"Area\": 465.4, \"Smoothness\": 0.07699, \"Compactness\": 0.03398, \"Concavity\": 0.0, \"Concave_Points\": 0.0, \"Symmetry\": 0.1701, \"Fractal_Dimension\": 0.0596}, {\"ID\": 911391, \"Class\": \"Benign\", \"Radius\": 10.88, \"Texture\": 15.62, \"Perimeter\": 70.41, \"Area\": 358.9, \"Smoothness\": 0.1007, \"Compactness\": 0.1069, \"Concavity\": 0.05115, \"Concave_Points\": 0.01571, \"Symmetry\": 0.1861, \"Fractal_Dimension\": 0.06837}, {\"ID\": 911408, \"Class\": \"Benign\", \"Radius\": 12.83, \"Texture\": 15.73, \"Perimeter\": 82.89, \"Area\": 506.9, \"Smoothness\": 0.0904, \"Compactness\": 0.08269, \"Concavity\": 0.05835, \"Concave_Points\": 0.03078, \"Symmetry\": 0.1705, \"Fractal_Dimension\": 0.05913}, {\"ID\": 911654, \"Class\": \"Benign\", \"Radius\": 14.2, \"Texture\": 20.53, \"Perimeter\": 92.41, \"Area\": 618.4, \"Smoothness\": 0.08931, \"Compactness\": 0.1108, \"Concavity\": 0.05063, \"Concave_Points\": 0.03058, \"Symmetry\": 0.1506, \"Fractal_Dimension\": 0.06009}, {\"ID\": 911673, \"Class\": \"Benign\", \"Radius\": 13.9, \"Texture\": 16.62, \"Perimeter\": 88.97, \"Area\": 599.4, \"Smoothness\": 0.06828, \"Compactness\": 0.05319, \"Concavity\": 0.02224, \"Concave_Points\": 0.01339, \"Symmetry\": 0.1813, \"Fractal_Dimension\": 0.05536}, {\"ID\": 911685, \"Class\": \"Benign\", \"Radius\": 11.49, \"Texture\": 14.59, \"Perimeter\": 73.99, \"Area\": 404.9, \"Smoothness\": 0.1046, \"Compactness\": 0.08228, \"Concavity\": 0.05308, \"Concave_Points\": 0.01969, \"Symmetry\": 0.1779, \"Fractal_Dimension\": 0.06574}, {\"ID\": 911916, \"Class\": \"Malignant\", \"Radius\": 16.25, \"Texture\": 19.51, \"Perimeter\": 109.8, \"Area\": 815.8, \"Smoothness\": 0.1026, \"Compactness\": 0.1893, \"Concavity\": 0.2236, \"Concave_Points\": 0.09194, \"Symmetry\": 0.2151, \"Fractal_Dimension\": 0.06578}, {\"ID\": 912193, \"Class\": \"Benign\", \"Radius\": 12.16, \"Texture\": 18.03, \"Perimeter\": 78.29, \"Area\": 455.3, \"Smoothness\": 0.09087, \"Compactness\": 0.07838, \"Concavity\": 0.02916, \"Concave_Points\": 0.01527, \"Symmetry\": 0.1464, \"Fractal_Dimension\": 0.06284}, {\"ID\": 91227, \"Class\": \"Benign\", \"Radius\": 13.9, \"Texture\": 19.24, \"Perimeter\": 88.73, \"Area\": 602.9, \"Smoothness\": 0.07991, \"Compactness\": 0.05326, \"Concavity\": 0.02995, \"Concave_Points\": 0.0207, \"Symmetry\": 0.1579, \"Fractal_Dimension\": 0.05594}, {\"ID\": 912519, \"Class\": \"Benign\", \"Radius\": 13.47, \"Texture\": 14.06, \"Perimeter\": 87.32, \"Area\": 546.3, \"Smoothness\": 0.1071, \"Compactness\": 0.1155, \"Concavity\": 0.05786, \"Concave_Points\": 0.05266, \"Symmetry\": 0.1779, \"Fractal_Dimension\": 0.06639}, {\"ID\": 912558, \"Class\": \"Benign\", \"Radius\": 13.7, \"Texture\": 17.64, \"Perimeter\": 87.76, \"Area\": 571.1, \"Smoothness\": 0.0995, \"Compactness\": 0.07957, \"Concavity\": 0.04548, \"Concave_Points\": 0.0316, \"Symmetry\": 0.1732, \"Fractal_Dimension\": 0.06088}, {\"ID\": 912600, \"Class\": \"Benign\", \"Radius\": 15.73, \"Texture\": 11.28, \"Perimeter\": 102.8, \"Area\": 747.2, \"Smoothness\": 0.1043, \"Compactness\": 0.1299, \"Concavity\": 0.1191, \"Concave_Points\": 0.06211, \"Symmetry\": 0.1784, \"Fractal_Dimension\": 0.06259}, {\"ID\": 913063, \"Class\": \"Benign\", \"Radius\": 12.45, \"Texture\": 16.41, \"Perimeter\": 82.85, \"Area\": 476.7, \"Smoothness\": 0.09514, \"Compactness\": 0.1511, \"Concavity\": 0.1544, \"Concave_Points\": 0.04846, \"Symmetry\": 0.2082, \"Fractal_Dimension\": 0.07325}, {\"ID\": 913102, \"Class\": \"Benign\", \"Radius\": 14.64, \"Texture\": 16.85, \"Perimeter\": 94.21, \"Area\": 666.0, \"Smoothness\": 0.08641, \"Compactness\": 0.06698, \"Concavity\": 0.05192, \"Concave_Points\": 0.02791, \"Symmetry\": 0.1409, \"Fractal_Dimension\": 0.05355}, {\"ID\": 913505, \"Class\": \"Malignant\", \"Radius\": 19.44, \"Texture\": 18.82, \"Perimeter\": 128.1, \"Area\": 1167.0, \"Smoothness\": 0.1089, \"Compactness\": 0.1448, \"Concavity\": 0.2256, \"Concave_Points\": 0.1194, \"Symmetry\": 0.1823, \"Fractal_Dimension\": 0.06115}, {\"ID\": 913512, \"Class\": \"Benign\", \"Radius\": 11.68, \"Texture\": 16.17, \"Perimeter\": 75.49, \"Area\": 420.5, \"Smoothness\": 0.1128, \"Compactness\": 0.09263, \"Concavity\": 0.04279, \"Concave_Points\": 0.03132, \"Symmetry\": 0.1853, \"Fractal_Dimension\": 0.06401}, {\"ID\": 913535, \"Class\": \"Malignant\", \"Radius\": 16.69, \"Texture\": 20.2, \"Perimeter\": 107.1, \"Area\": 857.6, \"Smoothness\": 0.07497, \"Compactness\": 0.07112, \"Concavity\": 0.03649, \"Concave_Points\": 0.02307, \"Symmetry\": 0.1846, \"Fractal_Dimension\": 0.05325}, {\"ID\": 91376701, \"Class\": \"Benign\", \"Radius\": 12.25, \"Texture\": 22.44, \"Perimeter\": 78.18, \"Area\": 466.5, \"Smoothness\": 0.08192, \"Compactness\": 0.052, \"Concavity\": 0.01714, \"Concave_Points\": 0.01261, \"Symmetry\": 0.1544, \"Fractal_Dimension\": 0.05976}, {\"ID\": 91376702, \"Class\": \"Benign\", \"Radius\": 17.85, \"Texture\": 13.23, \"Perimeter\": 114.6, \"Area\": 992.1, \"Smoothness\": 0.07838, \"Compactness\": 0.06217, \"Concavity\": 0.04445, \"Concave_Points\": 0.04178, \"Symmetry\": 0.122, \"Fractal_Dimension\": 0.05243}, {\"ID\": 914062, \"Class\": \"Malignant\", \"Radius\": 18.01, \"Texture\": 20.56, \"Perimeter\": 118.4, \"Area\": 1007.0, \"Smoothness\": 0.1001, \"Compactness\": 0.1289, \"Concavity\": 0.117, \"Concave_Points\": 0.07762, \"Symmetry\": 0.2116, \"Fractal_Dimension\": 0.06077}, {\"ID\": 914101, \"Class\": \"Benign\", \"Radius\": 12.46, \"Texture\": 12.83, \"Perimeter\": 78.83, \"Area\": 477.3, \"Smoothness\": 0.07372, \"Compactness\": 0.04043, \"Concavity\": 0.007173, \"Concave_Points\": 0.01149, \"Symmetry\": 0.1613, \"Fractal_Dimension\": 0.06013}, {\"ID\": 914102, \"Class\": \"Benign\", \"Radius\": 13.16, \"Texture\": 20.54, \"Perimeter\": 84.06, \"Area\": 538.7, \"Smoothness\": 0.07335, \"Compactness\": 0.05275, \"Concavity\": 0.018, \"Concave_Points\": 0.01256, \"Symmetry\": 0.1713, \"Fractal_Dimension\": 0.05888}, {\"ID\": 914333, \"Class\": \"Benign\", \"Radius\": 14.87, \"Texture\": 20.21, \"Perimeter\": 96.12, \"Area\": 680.9, \"Smoothness\": 0.09587, \"Compactness\": 0.08345, \"Concavity\": 0.06824, \"Concave_Points\": 0.04951, \"Symmetry\": 0.1487, \"Fractal_Dimension\": 0.05748}, {\"ID\": 914366, \"Class\": \"Benign\", \"Radius\": 12.65, \"Texture\": 18.17, \"Perimeter\": 82.69, \"Area\": 485.6, \"Smoothness\": 0.1076, \"Compactness\": 0.1334, \"Concavity\": 0.08017, \"Concave_Points\": 0.05074, \"Symmetry\": 0.1641, \"Fractal_Dimension\": 0.06854}, {\"ID\": 914580, \"Class\": \"Benign\", \"Radius\": 12.47, \"Texture\": 17.31, \"Perimeter\": 80.45, \"Area\": 480.1, \"Smoothness\": 0.08928, \"Compactness\": 0.0763, \"Concavity\": 0.03609, \"Concave_Points\": 0.02369, \"Symmetry\": 0.1526, \"Fractal_Dimension\": 0.06046}, {\"ID\": 914769, \"Class\": \"Malignant\", \"Radius\": 18.49, \"Texture\": 17.52, \"Perimeter\": 121.3, \"Area\": 1068.0, \"Smoothness\": 0.1012, \"Compactness\": 0.1317, \"Concavity\": 0.1491, \"Concave_Points\": 0.09183, \"Symmetry\": 0.1832, \"Fractal_Dimension\": 0.06697}, {\"ID\": 91485, \"Class\": \"Malignant\", \"Radius\": 20.59, \"Texture\": 21.24, \"Perimeter\": 137.8, \"Area\": 1320.0, \"Smoothness\": 0.1085, \"Compactness\": 0.1644, \"Concavity\": 0.2188, \"Concave_Points\": 0.1121, \"Symmetry\": 0.1848, \"Fractal_Dimension\": 0.06222}, {\"ID\": 914862, \"Class\": \"Benign\", \"Radius\": 15.04, \"Texture\": 16.74, \"Perimeter\": 98.73, \"Area\": 689.4, \"Smoothness\": 0.09883, \"Compactness\": 0.1364, \"Concavity\": 0.07721, \"Concave_Points\": 0.06142, \"Symmetry\": 0.1668, \"Fractal_Dimension\": 0.06869}, {\"ID\": 91504, \"Class\": \"Malignant\", \"Radius\": 13.82, \"Texture\": 24.49, \"Perimeter\": 92.33, \"Area\": 595.9, \"Smoothness\": 0.1162, \"Compactness\": 0.1681, \"Concavity\": 0.1357, \"Concave_Points\": 0.06759, \"Symmetry\": 0.2275, \"Fractal_Dimension\": 0.07237}, {\"ID\": 91505, \"Class\": \"Benign\", \"Radius\": 12.54, \"Texture\": 16.32, \"Perimeter\": 81.25, \"Area\": 476.3, \"Smoothness\": 0.1158, \"Compactness\": 0.1085, \"Concavity\": 0.05928, \"Concave_Points\": 0.03279, \"Symmetry\": 0.1943, \"Fractal_Dimension\": 0.06612}, {\"ID\": 915143, \"Class\": \"Malignant\", \"Radius\": 23.09, \"Texture\": 19.83, \"Perimeter\": 152.1, \"Area\": 1682.0, \"Smoothness\": 0.09342, \"Compactness\": 0.1275, \"Concavity\": 0.1676, \"Concave_Points\": 0.1003, \"Symmetry\": 0.1505, \"Fractal_Dimension\": 0.05484}, {\"ID\": 915186, \"Class\": \"Benign\", \"Radius\": 9.268, \"Texture\": 12.87, \"Perimeter\": 61.49, \"Area\": 248.7, \"Smoothness\": 0.1634, \"Compactness\": 0.2239, \"Concavity\": 0.0973, \"Concave_Points\": 0.05252, \"Symmetry\": 0.2378, \"Fractal_Dimension\": 0.09502}, {\"ID\": 915276, \"Class\": \"Benign\", \"Radius\": 9.676, \"Texture\": 13.14, \"Perimeter\": 64.12, \"Area\": 272.5, \"Smoothness\": 0.1255, \"Compactness\": 0.2204, \"Concavity\": 0.1188, \"Concave_Points\": 0.07038, \"Symmetry\": 0.2057, \"Fractal_Dimension\": 0.09575}, {\"ID\": 91544001, \"Class\": \"Benign\", \"Radius\": 12.22, \"Texture\": 20.04, \"Perimeter\": 79.47, \"Area\": 453.1, \"Smoothness\": 0.1096, \"Compactness\": 0.1152, \"Concavity\": 0.08175, \"Concave_Points\": 0.02166, \"Symmetry\": 0.2124, \"Fractal_Dimension\": 0.06894}, {\"ID\": 91544002, \"Class\": \"Benign\", \"Radius\": 11.06, \"Texture\": 17.12, \"Perimeter\": 71.25, \"Area\": 366.5, \"Smoothness\": 0.1194, \"Compactness\": 0.1071, \"Concavity\": 0.04063, \"Concave_Points\": 0.04268, \"Symmetry\": 0.1954, \"Fractal_Dimension\": 0.07976}, {\"ID\": 915452, \"Class\": \"Benign\", \"Radius\": 16.3, \"Texture\": 15.7, \"Perimeter\": 104.7, \"Area\": 819.8, \"Smoothness\": 0.09427, \"Compactness\": 0.06712, \"Concavity\": 0.05526, \"Concave_Points\": 0.04563, \"Symmetry\": 0.1711, \"Fractal_Dimension\": 0.05657}, {\"ID\": 915460, \"Class\": \"Malignant\", \"Radius\": 15.46, \"Texture\": 23.95, \"Perimeter\": 103.8, \"Area\": 731.3, \"Smoothness\": 0.1183, \"Compactness\": 0.187, \"Concavity\": 0.203, \"Concave_Points\": 0.0852, \"Symmetry\": 0.1807, \"Fractal_Dimension\": 0.07083}, {\"ID\": 91550, \"Class\": \"Benign\", \"Radius\": 11.74, \"Texture\": 14.69, \"Perimeter\": 76.31, \"Area\": 426.0, \"Smoothness\": 0.08099, \"Compactness\": 0.09661, \"Concavity\": 0.06726, \"Concave_Points\": 0.02639, \"Symmetry\": 0.1499, \"Fractal_Dimension\": 0.06758}, {\"ID\": 915664, \"Class\": \"Benign\", \"Radius\": 14.81, \"Texture\": 14.7, \"Perimeter\": 94.66, \"Area\": 680.7, \"Smoothness\": 0.08472, \"Compactness\": 0.05016, \"Concavity\": 0.03416, \"Concave_Points\": 0.02541, \"Symmetry\": 0.1659, \"Fractal_Dimension\": 0.05348}, {\"ID\": 915691, \"Class\": \"Malignant\", \"Radius\": 13.4, \"Texture\": 20.52, \"Perimeter\": 88.64, \"Area\": 556.7, \"Smoothness\": 0.1106, \"Compactness\": 0.1469, \"Concavity\": 0.1445, \"Concave_Points\": 0.08172, \"Symmetry\": 0.2116, \"Fractal_Dimension\": 0.07325}, {\"ID\": 915940, \"Class\": \"Benign\", \"Radius\": 14.58, \"Texture\": 13.66, \"Perimeter\": 94.29, \"Area\": 658.8, \"Smoothness\": 0.09832, \"Compactness\": 0.08918, \"Concavity\": 0.08222, \"Concave_Points\": 0.04349, \"Symmetry\": 0.1739, \"Fractal_Dimension\": 0.0564}, {\"ID\": 91594602, \"Class\": \"Malignant\", \"Radius\": 15.05, \"Texture\": 19.07, \"Perimeter\": 97.26, \"Area\": 701.9, \"Smoothness\": 0.09215, \"Compactness\": 0.08597, \"Concavity\": 0.07486, \"Concave_Points\": 0.04335, \"Symmetry\": 0.1561, \"Fractal_Dimension\": 0.05915}, {\"ID\": 916221, \"Class\": \"Benign\", \"Radius\": 11.34, \"Texture\": 18.61, \"Perimeter\": 72.76, \"Area\": 391.2, \"Smoothness\": 0.1049, \"Compactness\": 0.08499, \"Concavity\": 0.04302, \"Concave_Points\": 0.02594, \"Symmetry\": 0.1927, \"Fractal_Dimension\": 0.06211}, {\"ID\": 916799, \"Class\": \"Malignant\", \"Radius\": 18.31, \"Texture\": 20.58, \"Perimeter\": 120.8, \"Area\": 1052.0, \"Smoothness\": 0.1068, \"Compactness\": 0.1248, \"Concavity\": 0.1569, \"Concave_Points\": 0.09451, \"Symmetry\": 0.186, \"Fractal_Dimension\": 0.05941}, {\"ID\": 916838, \"Class\": \"Malignant\", \"Radius\": 19.89, \"Texture\": 20.26, \"Perimeter\": 130.5, \"Area\": 1214.0, \"Smoothness\": 0.1037, \"Compactness\": 0.131, \"Concavity\": 0.1411, \"Concave_Points\": 0.09431, \"Symmetry\": 0.1802, \"Fractal_Dimension\": 0.06188}, {\"ID\": 917062, \"Class\": \"Benign\", \"Radius\": 12.88, \"Texture\": 18.22, \"Perimeter\": 84.45, \"Area\": 493.1, \"Smoothness\": 0.1218, \"Compactness\": 0.1661, \"Concavity\": 0.04825, \"Concave_Points\": 0.05303, \"Symmetry\": 0.1709, \"Fractal_Dimension\": 0.07253}, {\"ID\": 917080, \"Class\": \"Benign\", \"Radius\": 12.75, \"Texture\": 16.7, \"Perimeter\": 82.51, \"Area\": 493.8, \"Smoothness\": 0.1125, \"Compactness\": 0.1117, \"Concavity\": 0.0388, \"Concave_Points\": 0.02995, \"Symmetry\": 0.212, \"Fractal_Dimension\": 0.06623}, {\"ID\": 917092, \"Class\": \"Benign\", \"Radius\": 9.295, \"Texture\": 13.9, \"Perimeter\": 59.96, \"Area\": 257.8, \"Smoothness\": 0.1371, \"Compactness\": 0.1225, \"Concavity\": 0.03332, \"Concave_Points\": 0.02421, \"Symmetry\": 0.2197, \"Fractal_Dimension\": 0.07696}, {\"ID\": 91762702, \"Class\": \"Malignant\", \"Radius\": 24.63, \"Texture\": 21.6, \"Perimeter\": 165.5, \"Area\": 1841.0, \"Smoothness\": 0.103, \"Compactness\": 0.2106, \"Concavity\": 0.231, \"Concave_Points\": 0.1471, \"Symmetry\": 0.1991, \"Fractal_Dimension\": 0.06739}, {\"ID\": 91789, \"Class\": \"Benign\", \"Radius\": 11.26, \"Texture\": 19.83, \"Perimeter\": 71.3, \"Area\": 388.1, \"Smoothness\": 0.08511, \"Compactness\": 0.04413, \"Concavity\": 0.005067, \"Concave_Points\": 0.005664, \"Symmetry\": 0.1637, \"Fractal_Dimension\": 0.06343}, {\"ID\": 917896, \"Class\": \"Benign\", \"Radius\": 13.71, \"Texture\": 18.68, \"Perimeter\": 88.73, \"Area\": 571.0, \"Smoothness\": 0.09916, \"Compactness\": 0.107, \"Concavity\": 0.05385, \"Concave_Points\": 0.03783, \"Symmetry\": 0.1714, \"Fractal_Dimension\": 0.06843}, {\"ID\": 917897, \"Class\": \"Benign\", \"Radius\": 9.847, \"Texture\": 15.68, \"Perimeter\": 63.0, \"Area\": 293.2, \"Smoothness\": 0.09492, \"Compactness\": 0.08419, \"Concavity\": 0.0233, \"Concave_Points\": 0.02416, \"Symmetry\": 0.1387, \"Fractal_Dimension\": 0.06891}, {\"ID\": 91805, \"Class\": \"Benign\", \"Radius\": 8.571, \"Texture\": 13.1, \"Perimeter\": 54.53, \"Area\": 221.3, \"Smoothness\": 0.1036, \"Compactness\": 0.07632, \"Concavity\": 0.02565, \"Concave_Points\": 0.0151, \"Symmetry\": 0.1678, \"Fractal_Dimension\": 0.07126}, {\"ID\": 91813701, \"Class\": \"Benign\", \"Radius\": 13.46, \"Texture\": 18.75, \"Perimeter\": 87.44, \"Area\": 551.1, \"Smoothness\": 0.1075, \"Compactness\": 0.1138, \"Concavity\": 0.04201, \"Concave_Points\": 0.03152, \"Symmetry\": 0.1723, \"Fractal_Dimension\": 0.06317}, {\"ID\": 91813702, \"Class\": \"Benign\", \"Radius\": 12.34, \"Texture\": 12.27, \"Perimeter\": 78.94, \"Area\": 468.5, \"Smoothness\": 0.09003, \"Compactness\": 0.06307, \"Concavity\": 0.02958, \"Concave_Points\": 0.02647, \"Symmetry\": 0.1689, \"Fractal_Dimension\": 0.05808}, {\"ID\": 918192, \"Class\": \"Benign\", \"Radius\": 13.94, \"Texture\": 13.17, \"Perimeter\": 90.31, \"Area\": 594.2, \"Smoothness\": 0.1248, \"Compactness\": 0.09755, \"Concavity\": 0.101, \"Concave_Points\": 0.06615, \"Symmetry\": 0.1976, \"Fractal_Dimension\": 0.06457}, {\"ID\": 918465, \"Class\": \"Benign\", \"Radius\": 12.07, \"Texture\": 13.44, \"Perimeter\": 77.83, \"Area\": 445.2, \"Smoothness\": 0.11, \"Compactness\": 0.09009, \"Concavity\": 0.03781, \"Concave_Points\": 0.02798, \"Symmetry\": 0.1657, \"Fractal_Dimension\": 0.06608}, {\"ID\": 91858, \"Class\": \"Benign\", \"Radius\": 11.75, \"Texture\": 17.56, \"Perimeter\": 75.89, \"Area\": 422.9, \"Smoothness\": 0.1073, \"Compactness\": 0.09713, \"Concavity\": 0.05282, \"Concave_Points\": 0.0444, \"Symmetry\": 0.1598, \"Fractal_Dimension\": 0.06677}, {\"ID\": 91903901, \"Class\": \"Benign\", \"Radius\": 11.67, \"Texture\": 20.02, \"Perimeter\": 75.21, \"Area\": 416.2, \"Smoothness\": 0.1016, \"Compactness\": 0.09453, \"Concavity\": 0.042, \"Concave_Points\": 0.02157, \"Symmetry\": 0.1859, \"Fractal_Dimension\": 0.06461}, {\"ID\": 91903902, \"Class\": \"Benign\", \"Radius\": 13.68, \"Texture\": 16.33, \"Perimeter\": 87.76, \"Area\": 575.5, \"Smoothness\": 0.09277, \"Compactness\": 0.07255, \"Concavity\": 0.01752, \"Concave_Points\": 0.0188, \"Symmetry\": 0.1631, \"Fractal_Dimension\": 0.06155}, {\"ID\": 91930402, \"Class\": \"Malignant\", \"Radius\": 20.47, \"Texture\": 20.67, \"Perimeter\": 134.7, \"Area\": 1299.0, \"Smoothness\": 0.09156, \"Compactness\": 0.1313, \"Concavity\": 0.1523, \"Concave_Points\": 0.1015, \"Symmetry\": 0.2166, \"Fractal_Dimension\": 0.05419}, {\"ID\": 919537, \"Class\": \"Benign\", \"Radius\": 10.96, \"Texture\": 17.62, \"Perimeter\": 70.79, \"Area\": 365.6, \"Smoothness\": 0.09687, \"Compactness\": 0.09752, \"Concavity\": 0.05263, \"Concave_Points\": 0.02788, \"Symmetry\": 0.1619, \"Fractal_Dimension\": 0.06408}, {\"ID\": 919555, \"Class\": \"Malignant\", \"Radius\": 20.55, \"Texture\": 20.86, \"Perimeter\": 137.8, \"Area\": 1308.0, \"Smoothness\": 0.1046, \"Compactness\": 0.1739, \"Concavity\": 0.2085, \"Concave_Points\": 0.1322, \"Symmetry\": 0.2127, \"Fractal_Dimension\": 0.06251}, {\"ID\": 91979701, \"Class\": \"Malignant\", \"Radius\": 14.27, \"Texture\": 22.55, \"Perimeter\": 93.77, \"Area\": 629.8, \"Smoothness\": 0.1038, \"Compactness\": 0.1154, \"Concavity\": 0.1463, \"Concave_Points\": 0.06139, \"Symmetry\": 0.1926, \"Fractal_Dimension\": 0.05982}, {\"ID\": 919812, \"Class\": \"Benign\", \"Radius\": 11.69, \"Texture\": 24.44, \"Perimeter\": 76.37, \"Area\": 406.4, \"Smoothness\": 0.1236, \"Compactness\": 0.1552, \"Concavity\": 0.04515, \"Concave_Points\": 0.04531, \"Symmetry\": 0.2131, \"Fractal_Dimension\": 0.07405}, {\"ID\": 921092, \"Class\": \"Benign\", \"Radius\": 7.729, \"Texture\": 25.49, \"Perimeter\": 47.98, \"Area\": 178.8, \"Smoothness\": 0.08098, \"Compactness\": 0.04878, \"Concavity\": 0.0, \"Concave_Points\": 0.0, \"Symmetry\": 0.187, \"Fractal_Dimension\": 0.07285}, {\"ID\": 921362, \"Class\": \"Benign\", \"Radius\": 7.691, \"Texture\": 25.44, \"Perimeter\": 48.34, \"Area\": 170.4, \"Smoothness\": 0.08668, \"Compactness\": 0.1199, \"Concavity\": 0.09252, \"Concave_Points\": 0.01364, \"Symmetry\": 0.2037, \"Fractal_Dimension\": 0.07751}, {\"ID\": 921385, \"Class\": \"Benign\", \"Radius\": 11.54, \"Texture\": 14.44, \"Perimeter\": 74.65, \"Area\": 402.9, \"Smoothness\": 0.09984, \"Compactness\": 0.112, \"Concavity\": 0.06737, \"Concave_Points\": 0.02594, \"Symmetry\": 0.1818, \"Fractal_Dimension\": 0.06782}, {\"ID\": 921386, \"Class\": \"Benign\", \"Radius\": 14.47, \"Texture\": 24.99, \"Perimeter\": 95.81, \"Area\": 656.4, \"Smoothness\": 0.08837, \"Compactness\": 0.123, \"Concavity\": 0.1009, \"Concave_Points\": 0.0389, \"Symmetry\": 0.1872, \"Fractal_Dimension\": 0.06341}, {\"ID\": 921644, \"Class\": \"Benign\", \"Radius\": 14.74, \"Texture\": 25.42, \"Perimeter\": 94.7, \"Area\": 668.6, \"Smoothness\": 0.08275, \"Compactness\": 0.07214, \"Concavity\": 0.04105, \"Concave_Points\": 0.03027, \"Symmetry\": 0.184, \"Fractal_Dimension\": 0.0568}, {\"ID\": 922296, \"Class\": \"Benign\", \"Radius\": 13.21, \"Texture\": 28.06, \"Perimeter\": 84.88, \"Area\": 538.4, \"Smoothness\": 0.08671, \"Compactness\": 0.06877, \"Concavity\": 0.02987, \"Concave_Points\": 0.03275, \"Symmetry\": 0.1628, \"Fractal_Dimension\": 0.05781}, {\"ID\": 922297, \"Class\": \"Benign\", \"Radius\": 13.87, \"Texture\": 20.7, \"Perimeter\": 89.77, \"Area\": 584.8, \"Smoothness\": 0.09578, \"Compactness\": 0.1018, \"Concavity\": 0.03688, \"Concave_Points\": 0.02369, \"Symmetry\": 0.162, \"Fractal_Dimension\": 0.06688}, {\"ID\": 922576, \"Class\": \"Benign\", \"Radius\": 13.62, \"Texture\": 23.23, \"Perimeter\": 87.19, \"Area\": 573.2, \"Smoothness\": 0.09246, \"Compactness\": 0.06747, \"Concavity\": 0.02974, \"Concave_Points\": 0.02443, \"Symmetry\": 0.1664, \"Fractal_Dimension\": 0.05801}, {\"ID\": 922577, \"Class\": \"Benign\", \"Radius\": 10.32, \"Texture\": 16.35, \"Perimeter\": 65.31, \"Area\": 324.9, \"Smoothness\": 0.09434, \"Compactness\": 0.04994, \"Concavity\": 0.01012, \"Concave_Points\": 0.005495, \"Symmetry\": 0.1885, \"Fractal_Dimension\": 0.06201}, {\"ID\": 922840, \"Class\": \"Benign\", \"Radius\": 10.26, \"Texture\": 16.58, \"Perimeter\": 65.85, \"Area\": 320.8, \"Smoothness\": 0.08877, \"Compactness\": 0.08066, \"Concavity\": 0.04358, \"Concave_Points\": 0.02438, \"Symmetry\": 0.1669, \"Fractal_Dimension\": 0.06714}, {\"ID\": 923169, \"Class\": \"Benign\", \"Radius\": 9.683, \"Texture\": 19.34, \"Perimeter\": 61.05, \"Area\": 285.7, \"Smoothness\": 0.08491, \"Compactness\": 0.0503, \"Concavity\": 0.02337, \"Concave_Points\": 0.009615, \"Symmetry\": 0.158, \"Fractal_Dimension\": 0.06235}, {\"ID\": 923465, \"Class\": \"Benign\", \"Radius\": 10.82, \"Texture\": 24.21, \"Perimeter\": 68.89, \"Area\": 361.6, \"Smoothness\": 0.08192, \"Compactness\": 0.06602, \"Concavity\": 0.01548, \"Concave_Points\": 0.00816, \"Symmetry\": 0.1976, \"Fractal_Dimension\": 0.06328}, {\"ID\": 923748, \"Class\": \"Benign\", \"Radius\": 10.86, \"Texture\": 21.48, \"Perimeter\": 68.51, \"Area\": 360.5, \"Smoothness\": 0.07431, \"Compactness\": 0.04227, \"Concavity\": 0.0, \"Concave_Points\": 0.0, \"Symmetry\": 0.1661, \"Fractal_Dimension\": 0.05948}, {\"ID\": 923780, \"Class\": \"Benign\", \"Radius\": 11.13, \"Texture\": 22.44, \"Perimeter\": 71.49, \"Area\": 378.4, \"Smoothness\": 0.09566, \"Compactness\": 0.08194, \"Concavity\": 0.04824, \"Concave_Points\": 0.02257, \"Symmetry\": 0.203, \"Fractal_Dimension\": 0.06552}, {\"ID\": 924084, \"Class\": \"Benign\", \"Radius\": 12.77, \"Texture\": 29.43, \"Perimeter\": 81.35, \"Area\": 507.9, \"Smoothness\": 0.08276, \"Compactness\": 0.04234, \"Concavity\": 0.01997, \"Concave_Points\": 0.01499, \"Symmetry\": 0.1539, \"Fractal_Dimension\": 0.05637}, {\"ID\": 924342, \"Class\": \"Benign\", \"Radius\": 9.333, \"Texture\": 21.94, \"Perimeter\": 59.01, \"Area\": 264.0, \"Smoothness\": 0.0924, \"Compactness\": 0.05605, \"Concavity\": 0.03996, \"Concave_Points\": 0.01282, \"Symmetry\": 0.1692, \"Fractal_Dimension\": 0.06576}, {\"ID\": 924632, \"Class\": \"Benign\", \"Radius\": 12.88, \"Texture\": 28.92, \"Perimeter\": 82.5, \"Area\": 514.3, \"Smoothness\": 0.08123, \"Compactness\": 0.05824, \"Concavity\": 0.06195, \"Concave_Points\": 0.02343, \"Symmetry\": 0.1566, \"Fractal_Dimension\": 0.05708}, {\"ID\": 924934, \"Class\": \"Benign\", \"Radius\": 10.29, \"Texture\": 27.61, \"Perimeter\": 65.67, \"Area\": 321.4, \"Smoothness\": 0.0903, \"Compactness\": 0.07658, \"Concavity\": 0.05999, \"Concave_Points\": 0.02738, \"Symmetry\": 0.1593, \"Fractal_Dimension\": 0.06127}, {\"ID\": 924964, \"Class\": \"Benign\", \"Radius\": 10.16, \"Texture\": 19.59, \"Perimeter\": 64.73, \"Area\": 311.7, \"Smoothness\": 0.1003, \"Compactness\": 0.07504, \"Concavity\": 0.005025, \"Concave_Points\": 0.01116, \"Symmetry\": 0.1791, \"Fractal_Dimension\": 0.06331}, {\"ID\": 925236, \"Class\": \"Benign\", \"Radius\": 9.423, \"Texture\": 27.88, \"Perimeter\": 59.26, \"Area\": 271.3, \"Smoothness\": 0.08123, \"Compactness\": 0.04971, \"Concavity\": 0.0, \"Concave_Points\": 0.0, \"Symmetry\": 0.1742, \"Fractal_Dimension\": 0.06059}, {\"ID\": 925277, \"Class\": \"Benign\", \"Radius\": 14.59, \"Texture\": 22.68, \"Perimeter\": 96.39, \"Area\": 657.1, \"Smoothness\": 0.08473, \"Compactness\": 0.133, \"Concavity\": 0.1029, \"Concave_Points\": 0.03736, \"Symmetry\": 0.1454, \"Fractal_Dimension\": 0.06147}, {\"ID\": 925291, \"Class\": \"Benign\", \"Radius\": 11.51, \"Texture\": 23.93, \"Perimeter\": 74.52, \"Area\": 403.5, \"Smoothness\": 0.09261, \"Compactness\": 0.1021, \"Concavity\": 0.1112, \"Concave_Points\": 0.04105, \"Symmetry\": 0.1388, \"Fractal_Dimension\": 0.0657}, {\"ID\": 925292, \"Class\": \"Benign\", \"Radius\": 14.05, \"Texture\": 27.15, \"Perimeter\": 91.38, \"Area\": 600.4, \"Smoothness\": 0.09929, \"Compactness\": 0.1126, \"Concavity\": 0.04462, \"Concave_Points\": 0.04304, \"Symmetry\": 0.1537, \"Fractal_Dimension\": 0.06171}, {\"ID\": 925311, \"Class\": \"Benign\", \"Radius\": 11.2, \"Texture\": 29.37, \"Perimeter\": 70.67, \"Area\": 386.0, \"Smoothness\": 0.07449, \"Compactness\": 0.03558, \"Concavity\": 0.0, \"Concave_Points\": 0.0, \"Symmetry\": 0.106, \"Fractal_Dimension\": 0.05502}, {\"ID\": 925622, \"Class\": \"Malignant\", \"Radius\": 15.22, \"Texture\": 30.62, \"Perimeter\": 103.4, \"Area\": 716.9, \"Smoothness\": 0.1048, \"Compactness\": 0.2087, \"Concavity\": 0.255, \"Concave_Points\": 0.09429, \"Symmetry\": 0.2128, \"Fractal_Dimension\": 0.07152}, {\"ID\": 926125, \"Class\": \"Malignant\", \"Radius\": 20.92, \"Texture\": 25.09, \"Perimeter\": 143.0, \"Area\": 1347.0, \"Smoothness\": 0.1099, \"Compactness\": 0.2236, \"Concavity\": 0.3174, \"Concave_Points\": 0.1474, \"Symmetry\": 0.2149, \"Fractal_Dimension\": 0.06879}, {\"ID\": 926424, \"Class\": \"Malignant\", \"Radius\": 21.56, \"Texture\": 22.39, \"Perimeter\": 142.0, \"Area\": 1479.0, \"Smoothness\": 0.111, \"Compactness\": 0.1159, \"Concavity\": 0.2439, \"Concave_Points\": 0.1389, \"Symmetry\": 0.1726, \"Fractal_Dimension\": 0.05623}, {\"ID\": 926682, \"Class\": \"Malignant\", \"Radius\": 20.13, \"Texture\": 28.25, \"Perimeter\": 131.2, \"Area\": 1261.0, \"Smoothness\": 0.0978, \"Compactness\": 0.1034, \"Concavity\": 0.144, \"Concave_Points\": 0.09791, \"Symmetry\": 0.1752, \"Fractal_Dimension\": 0.05533}, {\"ID\": 926954, \"Class\": \"Malignant\", \"Radius\": 16.6, \"Texture\": 28.08, \"Perimeter\": 108.3, \"Area\": 858.1, \"Smoothness\": 0.08455, \"Compactness\": 0.1023, \"Concavity\": 0.09251, \"Concave_Points\": 0.05302, \"Symmetry\": 0.159, \"Fractal_Dimension\": 0.05648}, {\"ID\": 927241, \"Class\": \"Malignant\", \"Radius\": 20.6, \"Texture\": 29.33, \"Perimeter\": 140.1, \"Area\": 1265.0, \"Smoothness\": 0.1178, \"Compactness\": 0.277, \"Concavity\": 0.3514, \"Concave_Points\": 0.152, \"Symmetry\": 0.2397, \"Fractal_Dimension\": 0.07016}, {\"ID\": 92751, \"Class\": \"Benign\", \"Radius\": 7.76, \"Texture\": 24.54, \"Perimeter\": 47.92, \"Area\": 181.0, \"Smoothness\": 0.05263, \"Compactness\": 0.04362, \"Concavity\": 0.0, \"Concave_Points\": 0.0, \"Symmetry\": 0.1587, \"Fractal_Dimension\": 0.05884}]}}, {\"mode\": \"vega-lite\"});\n",
       "</script>"
      ],
      "text/plain": [
       "alt.Chart(...)"
      ]
     },
     "execution_count": 9,
     "metadata": {},
     "output_type": "execute_result"
    }
   ],
   "source": [
    "# load packages\n",
    "import altair as alt\n",
    "import pandas as pd\n",
    "\n",
    "# set the seed\n",
    "np.random.seed(4235)\n",
    "\n",
    "# load data\n",
    "cancer = pd.read_csv(\"data/unscaled_wdbc.csv\")\n",
    "## re-label Class 'M' as 'Malignant', and Class 'B' as 'Benign'\n",
    "cancer[\"Class\"] = cancer[\"Class\"].apply(\n",
    "    lambda x: \"Malignant\" if (x == \"M\") else \"Benign\"\n",
    ")\n",
    "\n",
    "# create scatter plot of tumor cell concavity versus smoothness,\n",
    "# labeling the points be diagnosis class\n",
    "## create a list of colors that will be used to customize the color of points\n",
    "colors = [\"#86bfef\", \"#efb13f\"]\n",
    "\n",
    "perim_concav = (\n",
    "    alt.Chart(cancer)\n",
    "    .mark_point(opacity=0.6, filled=True, size=40)\n",
    "    .encode(\n",
    "        x=\"Smoothness\",\n",
    "        y=\"Concavity\",\n",
    "        color=alt.Color(\"Class\", scale=alt.Scale(range=colors), title=\"Diagnosis\"),\n",
    "    )\n",
    ")\n",
    "\n",
    "perim_concav"
   ]
  },
  {
   "cell_type": "markdown",
   "id": "a75d18f7",
   "metadata": {},
   "source": [
    "```{figure} data:image/gif;base64,R0lGODlhAQABAIAAAAAAAP///yH5BAEAAAAALAAAAAABAAEAAAIBRAA7\n",
    ":name: fig:06-precode\n",
    ":figclass: caption-hack\n",
    "\n",
    "Scatter plot of tumor cell concavity versus smoothness colored by diagnosis label.\n",
    "```"
   ]
  },
  {
   "cell_type": "markdown",
   "id": "66bcd901",
   "metadata": {},
   "source": [
    "### Create the train / test split\n",
    "\n",
    "Once we have decided on a predictive question to answer and done some\n",
    "preliminary exploration, the very next thing to do is to split the data into\n",
    "the training and test sets. Typically, the training set is between 50% and 95% of\n",
    "the data, while the test set is the remaining 5% to 50%; the intuition is that\n",
    "you want to trade off between training an accurate model (by using a larger\n",
    "training data set) and getting an accurate evaluation of its performance (by\n",
    "using a larger test data set). Here, we will use 75% of the data for training,\n",
    "and 25% for testing."
   ]
  },
  {
   "cell_type": "markdown",
   "id": "f54391fe",
   "metadata": {},
   "source": [
    "The `train_test_split` function \\index{tidymodels!initial\\_split} from `scikit-learn` handles the procedure of splitting\n",
    "the data for us. We can specify two very important parameters when using `train_test_split` to ensure\n",
    "that the accuracy estimates from the test data are reasonable. First, `shuffle=True` (default) \\index{shuffling} means the data will be shuffled before splitting, which ensures that any ordering present\n",
    "in the data does not influence the data that ends up in the training and testing sets.\n",
    "Second, by specifying the `stratify` parameter to be the target column of the training set,\n",
    "it **stratifies** the \\index{stratification} data by the class label, to ensure that roughly\n",
    "the same proportion of each class ends up in both the training and testing sets. For example,\n",
    "in our data set, roughly 63% of the\n",
    "observations are from the benign class (`B`), and 37% are from the malignant class (`M`),\n",
    "so specifying `stratify` as the class column ensures that roughly 63% of the training data are benign, \n",
    "37% of the training data are malignant,\n",
    "and the same proportions exist in the testing data.\n",
    "\n",
    "Let's use the `train_test_split` function to create the training and testing sets.\n",
    "We will specify that `train_size=0.75` so that 75% of our original data set ends up\n",
    "in the training set. We will also set the `stratify` argument to the categorical label variable\n",
    "(here, `cancer['Class']`) to ensure that the training and testing subsets contain the\n",
    "right proportions of each category of observation.\n",
    "Note that the `train_test_split` function uses randomness, so we shall set `random_state` to make\n",
    "the split reproducible."
   ]
  },
  {
   "cell_type": "code",
   "execution_count": 10,
   "id": "783bade9",
   "metadata": {
    "tags": [
     "remove-cell"
    ]
   },
   "outputs": [],
   "source": [
    "# The `initial_split` function \\index{tidymodels!initial\\_split} from `tidymodels` handles the procedure of splitting\n",
    "# the data for us. It also applies two very important steps when splitting to ensure\n",
    "# that the accuracy estimates from the test data are reasonable. First, it\n",
    "# **shuffles** the \\index{shuffling} data before splitting, which ensures that any ordering present\n",
    "# in the data does not influence the data that ends up in the training and testing sets.\n",
    "# Second, it **stratifies** the \\index{stratification} data by the class label, to ensure that roughly\n",
    "# the same proportion of each class ends up in both the training and testing sets. For example,\n",
    "# in our data set, roughly 63% of the\n",
    "# observations are from the benign class (`B`), and 37% are from the malignant class (`M`),\n",
    "# so `initial_split` ensures that roughly 63% of the training data are benign, \n",
    "# 37% of the training data are malignant,\n",
    "# and the same proportions exist in the testing data.\n",
    "\n",
    "# Let's use the `initial_split` function to create the training and testing sets.\n",
    "# We will specify that `prop = 0.75` so that 75% of our original data set ends up\n",
    "# in the training set. We will also set the `strata` argument to the categorical label variable\n",
    "# (here, `Class`) to ensure that the training and testing subsets contain the\n",
    "# right proportions of each category of observation.\n",
    "# The `training` and `testing` functions then extract the training and testing\n",
    "# data sets into two separate data frames.\n",
    "# Note that the `initial_split` function uses randomness, but since we set the \n",
    "# seed earlier in the chapter, the split will be reproducible."
   ]
  },
  {
   "cell_type": "code",
   "execution_count": 11,
   "id": "a9d93542",
   "metadata": {},
   "outputs": [
    {
     "name": "stdout",
     "output_type": "stream",
     "text": [
      "<class 'pandas.core.frame.DataFrame'>\n",
      "Int64Index: 426 entries, 164 to 284\n",
      "Data columns (total 12 columns):\n",
      " #   Column             Non-Null Count  Dtype  \n",
      "---  ------             --------------  -----  \n",
      " 0   ID                 426 non-null    int64  \n",
      " 1   Class              426 non-null    object \n",
      " 2   Radius             426 non-null    float64\n",
      " 3   Texture            426 non-null    float64\n",
      " 4   Perimeter          426 non-null    float64\n",
      " 5   Area               426 non-null    float64\n",
      " 6   Smoothness         426 non-null    float64\n",
      " 7   Compactness        426 non-null    float64\n",
      " 8   Concavity          426 non-null    float64\n",
      " 9   Concave_Points     426 non-null    float64\n",
      " 10  Symmetry           426 non-null    float64\n",
      " 11  Fractal_Dimension  426 non-null    float64\n",
      "dtypes: float64(10), int64(1), object(1)\n",
      "memory usage: 43.3+ KB\n"
     ]
    }
   ],
   "source": [
    "cancer_train, cancer_test = train_test_split(\n",
    "    cancer, train_size=0.75, stratify=cancer[\"Class\"], random_state=1\n",
    ")\n",
    "cancer_train.info()"
   ]
  },
  {
   "cell_type": "code",
   "execution_count": 12,
   "id": "037377a3",
   "metadata": {},
   "outputs": [
    {
     "name": "stdout",
     "output_type": "stream",
     "text": [
      "<class 'pandas.core.frame.DataFrame'>\n",
      "Int64Index: 143 entries, 357 to 332\n",
      "Data columns (total 12 columns):\n",
      " #   Column             Non-Null Count  Dtype  \n",
      "---  ------             --------------  -----  \n",
      " 0   ID                 143 non-null    int64  \n",
      " 1   Class              143 non-null    object \n",
      " 2   Radius             143 non-null    float64\n",
      " 3   Texture            143 non-null    float64\n",
      " 4   Perimeter          143 non-null    float64\n",
      " 5   Area               143 non-null    float64\n",
      " 6   Smoothness         143 non-null    float64\n",
      " 7   Compactness        143 non-null    float64\n",
      " 8   Concavity          143 non-null    float64\n",
      " 9   Concave_Points     143 non-null    float64\n",
      " 10  Symmetry           143 non-null    float64\n",
      " 11  Fractal_Dimension  143 non-null    float64\n",
      "dtypes: float64(10), int64(1), object(1)\n",
      "memory usage: 14.5+ KB\n"
     ]
    }
   ],
   "source": [
    "cancer_test.info()"
   ]
  },
  {
   "cell_type": "code",
   "execution_count": 13,
   "id": "1d439680",
   "metadata": {
    "tags": [
     "remove-cell"
    ]
   },
   "outputs": [
    {
     "data": {
      "text/plain": [
       "426"
      ]
     },
     "metadata": {
      "scrapbook": {
       "mime_prefix": "",
       "name": "cancer_train_nrow"
      }
     },
     "output_type": "display_data"
    },
    {
     "data": {
      "text/plain": [
       "143"
      ]
     },
     "metadata": {
      "scrapbook": {
       "mime_prefix": "",
       "name": "cancer_test_nrow"
      }
     },
     "output_type": "display_data"
    }
   ],
   "source": [
    "glue(\"cancer_train_nrow\", len(cancer_train))\n",
    "glue(\"cancer_test_nrow\", len(cancer_test))"
   ]
  },
  {
   "cell_type": "markdown",
   "id": "ea3e7366",
   "metadata": {},
   "source": [
    "We can see from `.info()` in \\index{glimpse} the code above that the training set contains {glue:}`cancer_train_nrow` observations, \n",
    "while the test set contains {glue:}`cancer_test_nrow` observations. This corresponds to\n",
    "a train / test split of 75% / 25%, as desired. Recall from Chapter {ref}`classification`\n",
    "that we use the `.info()` method to view data with a large number of columns,\n",
    "as it prints the data such that the columns go down the page (instead of across)."
   ]
  },
  {
   "cell_type": "code",
   "execution_count": 14,
   "id": "10d87bdd",
   "metadata": {
    "tags": [
     "remove-cell"
    ]
   },
   "outputs": [],
   "source": [
    "# We can see from `glimpse` in \\index{glimpse} the code above that the training set contains `r nrow(cancer_train)`\n",
    "# observations, while the test set contains `r nrow(cancer_test)` observations. This corresponds to\n",
    "# a train / test split of 75% / 25%, as desired. Recall from Chapter \\@ref(classification)\n",
    "# that we use the `glimpse` function to view data with a large number of columns,\n",
    "# as it prints the data such that the columns go down the page (instead of across)."
   ]
  },
  {
   "cell_type": "markdown",
   "id": "0deab70a",
   "metadata": {},
   "source": [
    "We can use `.groupby()` and `.count()` to \\index{group\\_by}\\index{summarize} find the percentage of malignant and benign classes \n",
    "in `cancer_train` and we see about {glue:}`cancer_train_b_prop`% of the training\n",
    "data are benign and {glue:}`cancer_train_m_prop`% \n",
    "are malignant, indicating that our class proportions were roughly preserved when we split the data."
   ]
  },
  {
   "cell_type": "code",
   "execution_count": 15,
   "id": "270697cf",
   "metadata": {},
   "outputs": [
    {
     "data": {
      "text/html": [
       "<div>\n",
       "<style scoped>\n",
       "    .dataframe tbody tr th:only-of-type {\n",
       "        vertical-align: middle;\n",
       "    }\n",
       "\n",
       "    .dataframe tbody tr th {\n",
       "        vertical-align: top;\n",
       "    }\n",
       "\n",
       "    .dataframe thead th {\n",
       "        text-align: right;\n",
       "    }\n",
       "</style>\n",
       "<table border=\"1\" class=\"dataframe\">\n",
       "  <thead>\n",
       "    <tr style=\"text-align: right;\">\n",
       "      <th></th>\n",
       "      <th>n</th>\n",
       "      <th>percent</th>\n",
       "    </tr>\n",
       "    <tr>\n",
       "      <th>Class</th>\n",
       "      <th></th>\n",
       "      <th></th>\n",
       "    </tr>\n",
       "  </thead>\n",
       "  <tbody>\n",
       "    <tr>\n",
       "      <th>Benign</th>\n",
       "      <td>267</td>\n",
       "      <td>62.676056</td>\n",
       "    </tr>\n",
       "    <tr>\n",
       "      <th>Malignant</th>\n",
       "      <td>159</td>\n",
       "      <td>37.323944</td>\n",
       "    </tr>\n",
       "  </tbody>\n",
       "</table>\n",
       "</div>"
      ],
      "text/plain": [
       "             n    percent\n",
       "Class                    \n",
       "Benign     267  62.676056\n",
       "Malignant  159  37.323944"
      ]
     },
     "execution_count": 15,
     "metadata": {},
     "output_type": "execute_result"
    }
   ],
   "source": [
    "cancer_proportions = pd.DataFrame()\n",
    "cancer_proportions['n'] = cancer_train.groupby('Class')['ID'].count()\n",
    "cancer_proportions['percent'] = 100 * cancer_proportions['n'] / len(cancer_train)\n",
    "cancer_proportions"
   ]
  },
  {
   "cell_type": "code",
   "execution_count": 16,
   "id": "9e3cac7f",
   "metadata": {
    "tags": [
     "remove-cell"
    ]
   },
   "outputs": [
    {
     "data": {
      "text/plain": [
       "63"
      ]
     },
     "metadata": {
      "scrapbook": {
       "mime_prefix": "",
       "name": "cancer_train_b_prop"
      }
     },
     "output_type": "display_data"
    },
    {
     "data": {
      "text/plain": [
       "37"
      ]
     },
     "metadata": {
      "scrapbook": {
       "mime_prefix": "",
       "name": "cancer_train_m_prop"
      }
     },
     "output_type": "display_data"
    }
   ],
   "source": [
    "glue(\"cancer_train_b_prop\", round(cancer_proportions.iloc[0, 1]))\n",
    "glue(\"cancer_train_m_prop\", round(cancer_proportions.iloc[1, 1]))"
   ]
  },
  {
   "cell_type": "markdown",
   "id": "80abea37",
   "metadata": {},
   "source": [
    "### Preprocess the data\n",
    "\n",
    "As we mentioned in the last chapter, $K$-nearest neighbors is sensitive to the scale of the predictors,\n",
    "so we should perform some preprocessing to standardize them. An\n",
    "additional consideration we need to take when doing this is that we should\n",
    "create the standardization preprocessor using **only the training data**. This ensures that\n",
    "our test data does not influence any aspect of our model training. Once we have\n",
    "created the standardization preprocessor, we can then apply it separately to both the\n",
    "training and test data sets."
   ]
  },
  {
   "cell_type": "markdown",
   "id": "2ba3b3df",
   "metadata": {},
   "source": [
    "Fortunately, the `Pipeline` framework (together with column transformer) from `scikit-learn` helps us handle this properly. Below we construct and prepare the preprocessor using `make_column_transformer`. Later after we construct a full `Pipeline`, we will only fit it with the training data."
   ]
  },
  {
   "cell_type": "code",
   "execution_count": 17,
   "id": "6197fecc",
   "metadata": {
    "tags": [
     "remove-cell"
    ]
   },
   "outputs": [],
   "source": [
    "# Fortunately, the `recipe` framework from `tidymodels` helps us handle \\index{recipe}\\index{recipe!step\\_scale}\\index{recipe!step\\_center}\n",
    "# this properly. Below we construct and prepare the recipe using only the training\n",
    "# data (due to `data = cancer_train` in the first line)."
   ]
  },
  {
   "cell_type": "code",
   "execution_count": 18,
   "id": "a17d3dc7",
   "metadata": {},
   "outputs": [],
   "source": [
    "cancer_preprocessor = make_column_transformer(\n",
    "    (StandardScaler(), [\"Smoothness\", \"Concavity\"]),\n",
    ")"
   ]
  },
  {
   "cell_type": "markdown",
   "id": "570b492f",
   "metadata": {},
   "source": [
    "### Train the classifier\n",
    "\n",
    "Now that we have split our original data set into training and test sets, we\n",
    "can create our $K$-nearest neighbors classifier with only the training set using\n",
    "the technique we learned in the previous chapter. For now, we will just choose\n",
    "the number $K$ of neighbors to be 3. To fit the model with only concavity and smoothness as the\n",
    "predictors, we need to explicitly create `X` (predictors) and `y` (target) based on `cancer_train`.\n",
    "As before we need to create a model specification, combine\n",
    "the model specification and recipe into a workflow, and then finally\n",
    "use `fit` with `X` and `y` to build the classifier."
   ]
  },
  {
   "cell_type": "code",
   "execution_count": 19,
   "id": "702b9d95",
   "metadata": {
    "tags": [
     "remove-cell"
    ]
   },
   "outputs": [],
   "source": [
    "# Now that we have split our original data set into training and test sets, we\n",
    "# can create our $K$-nearest neighbors classifier with only the training set using\n",
    "# the technique we learned in the previous chapter. For now, we will just choose\n",
    "# the number $K$ of neighbors to be 3, and use concavity and smoothness as the\n",
    "# predictors. As before we need to create a model specification, combine\n",
    "# the model specification and recipe into a workflow, and then finally\n",
    "# use `fit` with the training data `cancer_train` to build the classifier."
   ]
  },
  {
   "cell_type": "code",
   "execution_count": 20,
   "id": "3bfc9387",
   "metadata": {},
   "outputs": [
    {
     "data": {
      "text/html": [
       "<style>#sk-container-id-1 {color: black;background-color: white;}#sk-container-id-1 pre{padding: 0;}#sk-container-id-1 div.sk-toggleable {background-color: white;}#sk-container-id-1 label.sk-toggleable__label {cursor: pointer;display: block;width: 100%;margin-bottom: 0;padding: 0.3em;box-sizing: border-box;text-align: center;}#sk-container-id-1 label.sk-toggleable__label-arrow:before {content: \"▸\";float: left;margin-right: 0.25em;color: #696969;}#sk-container-id-1 label.sk-toggleable__label-arrow:hover:before {color: black;}#sk-container-id-1 div.sk-estimator:hover label.sk-toggleable__label-arrow:before {color: black;}#sk-container-id-1 div.sk-toggleable__content {max-height: 0;max-width: 0;overflow: hidden;text-align: left;background-color: #f0f8ff;}#sk-container-id-1 div.sk-toggleable__content pre {margin: 0.2em;color: black;border-radius: 0.25em;background-color: #f0f8ff;}#sk-container-id-1 input.sk-toggleable__control:checked~div.sk-toggleable__content {max-height: 200px;max-width: 100%;overflow: auto;}#sk-container-id-1 input.sk-toggleable__control:checked~label.sk-toggleable__label-arrow:before {content: \"▾\";}#sk-container-id-1 div.sk-estimator input.sk-toggleable__control:checked~label.sk-toggleable__label {background-color: #d4ebff;}#sk-container-id-1 div.sk-label input.sk-toggleable__control:checked~label.sk-toggleable__label {background-color: #d4ebff;}#sk-container-id-1 input.sk-hidden--visually {border: 0;clip: rect(1px 1px 1px 1px);clip: rect(1px, 1px, 1px, 1px);height: 1px;margin: -1px;overflow: hidden;padding: 0;position: absolute;width: 1px;}#sk-container-id-1 div.sk-estimator {font-family: monospace;background-color: #f0f8ff;border: 1px dotted black;border-radius: 0.25em;box-sizing: border-box;margin-bottom: 0.5em;}#sk-container-id-1 div.sk-estimator:hover {background-color: #d4ebff;}#sk-container-id-1 div.sk-parallel-item::after {content: \"\";width: 100%;border-bottom: 1px solid gray;flex-grow: 1;}#sk-container-id-1 div.sk-label:hover label.sk-toggleable__label {background-color: #d4ebff;}#sk-container-id-1 div.sk-serial::before {content: \"\";position: absolute;border-left: 1px solid gray;box-sizing: border-box;top: 0;bottom: 0;left: 50%;z-index: 0;}#sk-container-id-1 div.sk-serial {display: flex;flex-direction: column;align-items: center;background-color: white;padding-right: 0.2em;padding-left: 0.2em;position: relative;}#sk-container-id-1 div.sk-item {position: relative;z-index: 1;}#sk-container-id-1 div.sk-parallel {display: flex;align-items: stretch;justify-content: center;background-color: white;position: relative;}#sk-container-id-1 div.sk-item::before, #sk-container-id-1 div.sk-parallel-item::before {content: \"\";position: absolute;border-left: 1px solid gray;box-sizing: border-box;top: 0;bottom: 0;left: 50%;z-index: -1;}#sk-container-id-1 div.sk-parallel-item {display: flex;flex-direction: column;z-index: 1;position: relative;background-color: white;}#sk-container-id-1 div.sk-parallel-item:first-child::after {align-self: flex-end;width: 50%;}#sk-container-id-1 div.sk-parallel-item:last-child::after {align-self: flex-start;width: 50%;}#sk-container-id-1 div.sk-parallel-item:only-child::after {width: 0;}#sk-container-id-1 div.sk-dashed-wrapped {border: 1px dashed gray;margin: 0 0.4em 0.5em 0.4em;box-sizing: border-box;padding-bottom: 0.4em;background-color: white;}#sk-container-id-1 div.sk-label label {font-family: monospace;font-weight: bold;display: inline-block;line-height: 1.2em;}#sk-container-id-1 div.sk-label-container {text-align: center;}#sk-container-id-1 div.sk-container {/* jupyter's `normalize.less` sets `[hidden] { display: none; }` but bootstrap.min.css set `[hidden] { display: none !important; }` so we also need the `!important` here to be able to override the default hidden behavior on the sphinx rendered scikit-learn.org. See: https://github.com/scikit-learn/scikit-learn/issues/21755 */display: inline-block !important;position: relative;}#sk-container-id-1 div.sk-text-repr-fallback {display: none;}</style><div id=\"sk-container-id-1\" class=\"sk-top-container\"><div class=\"sk-text-repr-fallback\"><pre>Pipeline(steps=[(&#x27;columntransformer&#x27;,\n",
       "                 ColumnTransformer(transformers=[(&#x27;standardscaler&#x27;,\n",
       "                                                  StandardScaler(),\n",
       "                                                  [&#x27;Smoothness&#x27;,\n",
       "                                                   &#x27;Concavity&#x27;])])),\n",
       "                (&#x27;kneighborsclassifier&#x27;, KNeighborsClassifier(n_neighbors=3))])</pre><b>In a Jupyter environment, please rerun this cell to show the HTML representation or trust the notebook. <br />On GitHub, the HTML representation is unable to render, please try loading this page with nbviewer.org.</b></div><div class=\"sk-container\" hidden><div class=\"sk-item sk-dashed-wrapped\"><div class=\"sk-label-container\"><div class=\"sk-label sk-toggleable\"><input class=\"sk-toggleable__control sk-hidden--visually\" id=\"sk-estimator-id-1\" type=\"checkbox\" ><label for=\"sk-estimator-id-1\" class=\"sk-toggleable__label sk-toggleable__label-arrow\">Pipeline</label><div class=\"sk-toggleable__content\"><pre>Pipeline(steps=[(&#x27;columntransformer&#x27;,\n",
       "                 ColumnTransformer(transformers=[(&#x27;standardscaler&#x27;,\n",
       "                                                  StandardScaler(),\n",
       "                                                  [&#x27;Smoothness&#x27;,\n",
       "                                                   &#x27;Concavity&#x27;])])),\n",
       "                (&#x27;kneighborsclassifier&#x27;, KNeighborsClassifier(n_neighbors=3))])</pre></div></div></div><div class=\"sk-serial\"><div class=\"sk-item sk-dashed-wrapped\"><div class=\"sk-label-container\"><div class=\"sk-label sk-toggleable\"><input class=\"sk-toggleable__control sk-hidden--visually\" id=\"sk-estimator-id-2\" type=\"checkbox\" ><label for=\"sk-estimator-id-2\" class=\"sk-toggleable__label sk-toggleable__label-arrow\">columntransformer: ColumnTransformer</label><div class=\"sk-toggleable__content\"><pre>ColumnTransformer(transformers=[(&#x27;standardscaler&#x27;, StandardScaler(),\n",
       "                                 [&#x27;Smoothness&#x27;, &#x27;Concavity&#x27;])])</pre></div></div></div><div class=\"sk-parallel\"><div class=\"sk-parallel-item\"><div class=\"sk-item\"><div class=\"sk-label-container\"><div class=\"sk-label sk-toggleable\"><input class=\"sk-toggleable__control sk-hidden--visually\" id=\"sk-estimator-id-3\" type=\"checkbox\" ><label for=\"sk-estimator-id-3\" class=\"sk-toggleable__label sk-toggleable__label-arrow\">standardscaler</label><div class=\"sk-toggleable__content\"><pre>[&#x27;Smoothness&#x27;, &#x27;Concavity&#x27;]</pre></div></div></div><div class=\"sk-serial\"><div class=\"sk-item\"><div class=\"sk-estimator sk-toggleable\"><input class=\"sk-toggleable__control sk-hidden--visually\" id=\"sk-estimator-id-4\" type=\"checkbox\" ><label for=\"sk-estimator-id-4\" class=\"sk-toggleable__label sk-toggleable__label-arrow\">StandardScaler</label><div class=\"sk-toggleable__content\"><pre>StandardScaler()</pre></div></div></div></div></div></div></div></div><div class=\"sk-item\"><div class=\"sk-estimator sk-toggleable\"><input class=\"sk-toggleable__control sk-hidden--visually\" id=\"sk-estimator-id-5\" type=\"checkbox\" ><label for=\"sk-estimator-id-5\" class=\"sk-toggleable__label sk-toggleable__label-arrow\">KNeighborsClassifier</label><div class=\"sk-toggleable__content\"><pre>KNeighborsClassifier(n_neighbors=3)</pre></div></div></div></div></div></div></div>"
      ],
      "text/plain": [
       "Pipeline(steps=[('columntransformer',\n",
       "                 ColumnTransformer(transformers=[('standardscaler',\n",
       "                                                  StandardScaler(),\n",
       "                                                  ['Smoothness',\n",
       "                                                   'Concavity'])])),\n",
       "                ('kneighborsclassifier', KNeighborsClassifier(n_neighbors=3))])"
      ]
     },
     "execution_count": 20,
     "metadata": {},
     "output_type": "execute_result"
    }
   ],
   "source": [
    "# hidden seed\n",
    "np.random.seed(1)\n",
    "\n",
    "knn_spec = KNeighborsClassifier(n_neighbors=3, weights=\"uniform\")\n",
    "\n",
    "X = cancer_train.loc[:, [\"Smoothness\", \"Concavity\"]]\n",
    "y = cancer_train[\"Class\"]\n",
    "\n",
    "knn_fit = make_pipeline(cancer_preprocessor, knn_spec).fit(X, y)\n",
    "\n",
    "knn_fit"
   ]
  },
  {
   "cell_type": "markdown",
   "id": "df6e4d2d",
   "metadata": {},
   "source": [
    "### Predict the labels in the test set\n",
    "\n",
    "Now that we have a $K$-nearest neighbors classifier object, we can use it to\n",
    "predict the class labels for our test set.  We use the `pandas.concat()` to add the\n",
    "column of predictions to the original test data, creating the\n",
    "`cancer_test_predictions` data frame. The `Class` variable contains the true\n",
    "diagnoses, while the `predicted` contains the predicted diagnoses from the\n",
    "classifier."
   ]
  },
  {
   "cell_type": "code",
   "execution_count": 21,
   "id": "e4ec18b8",
   "metadata": {
    "tags": [
     "remove-cell"
    ]
   },
   "outputs": [],
   "source": [
    "# Now that we have a $K$-nearest neighbors classifier object, we can use it to\n",
    "# predict the class labels for our test set.  We use the `bind_cols` \\index{bind\\_cols} to add the\n",
    "# column of predictions to the original test data, creating the\n",
    "# `cancer_test_predictions` data frame.  The `Class` variable contains the true\n",
    "# diagnoses, while the `.pred_class` contains the predicted diagnoses from the\n",
    "# classifier."
   ]
  },
  {
   "cell_type": "code",
   "execution_count": 22,
   "id": "713b62d9",
   "metadata": {},
   "outputs": [
    {
     "data": {
      "text/html": [
       "<div>\n",
       "<style scoped>\n",
       "    .dataframe tbody tr th:only-of-type {\n",
       "        vertical-align: middle;\n",
       "    }\n",
       "\n",
       "    .dataframe tbody tr th {\n",
       "        vertical-align: top;\n",
       "    }\n",
       "\n",
       "    .dataframe thead th {\n",
       "        text-align: right;\n",
       "    }\n",
       "</style>\n",
       "<table border=\"1\" class=\"dataframe\">\n",
       "  <thead>\n",
       "    <tr style=\"text-align: right;\">\n",
       "      <th></th>\n",
       "      <th>predicted</th>\n",
       "      <th>ID</th>\n",
       "      <th>Class</th>\n",
       "      <th>Radius</th>\n",
       "      <th>Texture</th>\n",
       "      <th>Perimeter</th>\n",
       "      <th>Area</th>\n",
       "      <th>Smoothness</th>\n",
       "      <th>Compactness</th>\n",
       "      <th>Concavity</th>\n",
       "      <th>Concave_Points</th>\n",
       "      <th>Symmetry</th>\n",
       "      <th>Fractal_Dimension</th>\n",
       "    </tr>\n",
       "  </thead>\n",
       "  <tbody>\n",
       "    <tr>\n",
       "      <th>0</th>\n",
       "      <td>Benign</td>\n",
       "      <td>901028</td>\n",
       "      <td>Benign</td>\n",
       "      <td>13.870</td>\n",
       "      <td>16.21</td>\n",
       "      <td>88.52</td>\n",
       "      <td>593.7</td>\n",
       "      <td>0.08743</td>\n",
       "      <td>0.05492</td>\n",
       "      <td>0.015020</td>\n",
       "      <td>0.020880</td>\n",
       "      <td>0.1424</td>\n",
       "      <td>0.05883</td>\n",
       "    </tr>\n",
       "    <tr>\n",
       "      <th>1</th>\n",
       "      <td>Benign</td>\n",
       "      <td>901041</td>\n",
       "      <td>Benign</td>\n",
       "      <td>13.300</td>\n",
       "      <td>21.57</td>\n",
       "      <td>85.24</td>\n",
       "      <td>546.1</td>\n",
       "      <td>0.08582</td>\n",
       "      <td>0.06373</td>\n",
       "      <td>0.033440</td>\n",
       "      <td>0.024240</td>\n",
       "      <td>0.1815</td>\n",
       "      <td>0.05696</td>\n",
       "    </tr>\n",
       "    <tr>\n",
       "      <th>2</th>\n",
       "      <td>Malignant</td>\n",
       "      <td>8810703</td>\n",
       "      <td>Malignant</td>\n",
       "      <td>28.110</td>\n",
       "      <td>18.47</td>\n",
       "      <td>188.50</td>\n",
       "      <td>2499.0</td>\n",
       "      <td>0.11420</td>\n",
       "      <td>0.15160</td>\n",
       "      <td>0.320100</td>\n",
       "      <td>0.159500</td>\n",
       "      <td>0.1648</td>\n",
       "      <td>0.05525</td>\n",
       "    </tr>\n",
       "    <tr>\n",
       "      <th>3</th>\n",
       "      <td>Benign</td>\n",
       "      <td>91813702</td>\n",
       "      <td>Benign</td>\n",
       "      <td>12.340</td>\n",
       "      <td>12.27</td>\n",
       "      <td>78.94</td>\n",
       "      <td>468.5</td>\n",
       "      <td>0.09003</td>\n",
       "      <td>0.06307</td>\n",
       "      <td>0.029580</td>\n",
       "      <td>0.026470</td>\n",
       "      <td>0.1689</td>\n",
       "      <td>0.05808</td>\n",
       "    </tr>\n",
       "    <tr>\n",
       "      <th>4</th>\n",
       "      <td>Benign</td>\n",
       "      <td>8510824</td>\n",
       "      <td>Benign</td>\n",
       "      <td>9.504</td>\n",
       "      <td>12.44</td>\n",
       "      <td>60.34</td>\n",
       "      <td>273.9</td>\n",
       "      <td>0.10240</td>\n",
       "      <td>0.06492</td>\n",
       "      <td>0.029560</td>\n",
       "      <td>0.020760</td>\n",
       "      <td>0.1815</td>\n",
       "      <td>0.06905</td>\n",
       "    </tr>\n",
       "    <tr>\n",
       "      <th>...</th>\n",
       "      <td>...</td>\n",
       "      <td>...</td>\n",
       "      <td>...</td>\n",
       "      <td>...</td>\n",
       "      <td>...</td>\n",
       "      <td>...</td>\n",
       "      <td>...</td>\n",
       "      <td>...</td>\n",
       "      <td>...</td>\n",
       "      <td>...</td>\n",
       "      <td>...</td>\n",
       "      <td>...</td>\n",
       "      <td>...</td>\n",
       "    </tr>\n",
       "    <tr>\n",
       "      <th>138</th>\n",
       "      <td>Benign</td>\n",
       "      <td>9010877</td>\n",
       "      <td>Benign</td>\n",
       "      <td>13.400</td>\n",
       "      <td>16.95</td>\n",
       "      <td>85.48</td>\n",
       "      <td>552.4</td>\n",
       "      <td>0.07937</td>\n",
       "      <td>0.05696</td>\n",
       "      <td>0.021810</td>\n",
       "      <td>0.014730</td>\n",
       "      <td>0.1650</td>\n",
       "      <td>0.05701</td>\n",
       "    </tr>\n",
       "    <tr>\n",
       "      <th>139</th>\n",
       "      <td>Benign</td>\n",
       "      <td>908469</td>\n",
       "      <td>Benign</td>\n",
       "      <td>14.860</td>\n",
       "      <td>16.94</td>\n",
       "      <td>94.89</td>\n",
       "      <td>673.7</td>\n",
       "      <td>0.08924</td>\n",
       "      <td>0.07074</td>\n",
       "      <td>0.033460</td>\n",
       "      <td>0.028770</td>\n",
       "      <td>0.1573</td>\n",
       "      <td>0.05703</td>\n",
       "    </tr>\n",
       "    <tr>\n",
       "      <th>140</th>\n",
       "      <td>Benign</td>\n",
       "      <td>892399</td>\n",
       "      <td>Benign</td>\n",
       "      <td>10.510</td>\n",
       "      <td>23.09</td>\n",
       "      <td>66.85</td>\n",
       "      <td>334.2</td>\n",
       "      <td>0.10150</td>\n",
       "      <td>0.06797</td>\n",
       "      <td>0.024950</td>\n",
       "      <td>0.018750</td>\n",
       "      <td>0.1695</td>\n",
       "      <td>0.06556</td>\n",
       "    </tr>\n",
       "    <tr>\n",
       "      <th>141</th>\n",
       "      <td>Benign</td>\n",
       "      <td>913512</td>\n",
       "      <td>Benign</td>\n",
       "      <td>11.680</td>\n",
       "      <td>16.17</td>\n",
       "      <td>75.49</td>\n",
       "      <td>420.5</td>\n",
       "      <td>0.11280</td>\n",
       "      <td>0.09263</td>\n",
       "      <td>0.042790</td>\n",
       "      <td>0.031320</td>\n",
       "      <td>0.1853</td>\n",
       "      <td>0.06401</td>\n",
       "    </tr>\n",
       "    <tr>\n",
       "      <th>142</th>\n",
       "      <td>Benign</td>\n",
       "      <td>897132</td>\n",
       "      <td>Benign</td>\n",
       "      <td>11.220</td>\n",
       "      <td>19.86</td>\n",
       "      <td>71.94</td>\n",
       "      <td>387.3</td>\n",
       "      <td>0.10540</td>\n",
       "      <td>0.06779</td>\n",
       "      <td>0.005006</td>\n",
       "      <td>0.007583</td>\n",
       "      <td>0.1940</td>\n",
       "      <td>0.06028</td>\n",
       "    </tr>\n",
       "  </tbody>\n",
       "</table>\n",
       "<p>143 rows × 13 columns</p>\n",
       "</div>"
      ],
      "text/plain": [
       "     predicted        ID      Class  Radius  Texture  Perimeter    Area  \\\n",
       "0       Benign    901028     Benign  13.870    16.21      88.52   593.7   \n",
       "1       Benign    901041     Benign  13.300    21.57      85.24   546.1   \n",
       "2    Malignant   8810703  Malignant  28.110    18.47     188.50  2499.0   \n",
       "3       Benign  91813702     Benign  12.340    12.27      78.94   468.5   \n",
       "4       Benign   8510824     Benign   9.504    12.44      60.34   273.9   \n",
       "..         ...       ...        ...     ...      ...        ...     ...   \n",
       "138     Benign   9010877     Benign  13.400    16.95      85.48   552.4   \n",
       "139     Benign    908469     Benign  14.860    16.94      94.89   673.7   \n",
       "140     Benign    892399     Benign  10.510    23.09      66.85   334.2   \n",
       "141     Benign    913512     Benign  11.680    16.17      75.49   420.5   \n",
       "142     Benign    897132     Benign  11.220    19.86      71.94   387.3   \n",
       "\n",
       "     Smoothness  Compactness  Concavity  Concave_Points  Symmetry  \\\n",
       "0       0.08743      0.05492   0.015020        0.020880    0.1424   \n",
       "1       0.08582      0.06373   0.033440        0.024240    0.1815   \n",
       "2       0.11420      0.15160   0.320100        0.159500    0.1648   \n",
       "3       0.09003      0.06307   0.029580        0.026470    0.1689   \n",
       "4       0.10240      0.06492   0.029560        0.020760    0.1815   \n",
       "..          ...          ...        ...             ...       ...   \n",
       "138     0.07937      0.05696   0.021810        0.014730    0.1650   \n",
       "139     0.08924      0.07074   0.033460        0.028770    0.1573   \n",
       "140     0.10150      0.06797   0.024950        0.018750    0.1695   \n",
       "141     0.11280      0.09263   0.042790        0.031320    0.1853   \n",
       "142     0.10540      0.06779   0.005006        0.007583    0.1940   \n",
       "\n",
       "     Fractal_Dimension  \n",
       "0              0.05883  \n",
       "1              0.05696  \n",
       "2              0.05525  \n",
       "3              0.05808  \n",
       "4              0.06905  \n",
       "..                 ...  \n",
       "138            0.05701  \n",
       "139            0.05703  \n",
       "140            0.06556  \n",
       "141            0.06401  \n",
       "142            0.06028  \n",
       "\n",
       "[143 rows x 13 columns]"
      ]
     },
     "execution_count": 22,
     "metadata": {},
     "output_type": "execute_result"
    }
   ],
   "source": [
    "# np.random.seed(1)\n",
    "\n",
    "cancer_test_predictions = knn_fit.predict(\n",
    "    cancer_test.loc[:, [\"Smoothness\", \"Concavity\"]]\n",
    ")\n",
    "cancer_test_predictions = pd.concat(\n",
    "    [\n",
    "        pd.DataFrame(cancer_test_predictions, columns=[\"predicted\"]),\n",
    "        cancer_test.reset_index(drop=True),\n",
    "    ],\n",
    "    axis=1,\n",
    ")  # to add the predictions column to the original test data\n",
    "\n",
    "cancer_test_predictions"
   ]
  },
  {
   "cell_type": "markdown",
   "id": "53aa7904",
   "metadata": {},
   "source": [
    "### Compute the accuracy\n",
    "\n",
    "Finally, we can assess our classifier's accuracy. To do this we use the `score` method \n",
    "from `scikit-learn` to get the statistics about the quality of our model, specifying\n",
    "the `X` and `y` arguments based on `cancer_test`."
   ]
  },
  {
   "cell_type": "code",
   "execution_count": 23,
   "id": "7f44fb93",
   "metadata": {
    "tags": [
     "remove-cell"
    ]
   },
   "outputs": [],
   "source": [
    "# Finally, we can assess our classifier's accuracy. To do this we use the `metrics` function \\index{tidymodels!metrics}\n",
    "# from `tidymodels` to get the statistics about the quality of our model, specifying\n",
    "# the `truth` and `estimate` arguments:"
   ]
  },
  {
   "cell_type": "code",
   "execution_count": 24,
   "id": "12cdabd6",
   "metadata": {},
   "outputs": [
    {
     "data": {
      "text/plain": [
       "0.8741258741258742"
      ]
     },
     "execution_count": 24,
     "metadata": {},
     "output_type": "execute_result"
    }
   ],
   "source": [
    "# np.random.seed(1)\n",
    "\n",
    "X_test = cancer_test.loc[:, [\"Smoothness\", \"Concavity\"]]\n",
    "y_test = cancer_test[\"Class\"]\n",
    "\n",
    "cancer_acc_1 = knn_fit.score(X_test, y_test)\n",
    "\n",
    "cancer_acc_1"
   ]
  },
  {
   "cell_type": "code",
   "execution_count": 25,
   "id": "6f81bd98",
   "metadata": {
    "tags": [
     "remove-cell"
    ]
   },
   "outputs": [
    {
     "data": {
      "text/plain": [
       "87"
      ]
     },
     "metadata": {
      "scrapbook": {
       "mime_prefix": "",
       "name": "cancer_acc_1"
      }
     },
     "output_type": "display_data"
    }
   ],
   "source": [
    "glue(\"cancer_acc_1\", round(100*cancer_acc_1))"
   ]
  },
  {
   "cell_type": "code",
   "execution_count": 26,
   "id": "1ceac60d",
   "metadata": {
    "tags": [
     "remove-cell"
    ]
   },
   "outputs": [],
   "source": [
    "# In the metrics data frame, we filtered the `.metric` column since we are \n",
    "# interested in the `accuracy` row. Other entries involve more advanced metrics that\n",
    "# are beyond the scope of this book. Looking at the value of the `.estimate` variable\n",
    "#  shows that the estimated accuracy of the classifier on the test data \n",
    "# was `r round(100*cancer_acc_1$.estimate, 0)`%."
   ]
  },
  {
   "cell_type": "markdown",
   "id": "6d8095bd",
   "metadata": {},
   "source": [
    "The output shows that the estimated accuracy of the classifier on the test data \n",
    "was {glue:}`cancer_acc_1`%."
   ]
  },
  {
   "cell_type": "markdown",
   "id": "2936c6e0",
   "metadata": {},
   "source": [
    "We can also look at the *confusion matrix* for the classifier as a `numpy` array using the `confusion_matrix` function:"
   ]
  },
  {
   "cell_type": "code",
   "execution_count": 27,
   "id": "bf656e04",
   "metadata": {},
   "outputs": [
    {
     "data": {
      "text/plain": [
       "array([[82,  8],\n",
       "       [10, 43]])"
      ]
     },
     "execution_count": 27,
     "metadata": {},
     "output_type": "execute_result"
    }
   ],
   "source": [
    "# np.random.seed(1)\n",
    "\n",
    "confusion = confusion_matrix(\n",
    "    cancer_test_predictions[\"Class\"],\n",
    "    cancer_test_predictions[\"predicted\"],\n",
    "    labels=knn_fit.classes_,\n",
    ")\n",
    "\n",
    "confusion"
   ]
  },
  {
   "cell_type": "markdown",
   "id": "fe521871",
   "metadata": {},
   "source": [
    "It is hard for us to interpret the confusion matrix as shown above. We could use the `ConfusionMatrixDisplay` function of the `scikit-learn` package to plot the confusion matrix."
   ]
  },
  {
   "cell_type": "code",
   "execution_count": 28,
   "id": "4c50a50e",
   "metadata": {},
   "outputs": [
    {
     "data": {
      "text/plain": [
       "<sklearn.metrics._plot.confusion_matrix.ConfusionMatrixDisplay at 0x1147f8850>"
      ]
     },
     "execution_count": 28,
     "metadata": {},
     "output_type": "execute_result"
    },
    {
     "data": {
      "image/png": "[encoded data removed]",
      "text/plain": [
       "<Figure size 432x288 with 2 Axes>"
      ]
     },
     "metadata": {
      "needs_background": "light"
     },
     "output_type": "display_data"
    }
   ],
   "source": [
    "from sklearn.metrics import ConfusionMatrixDisplay\n",
    "\n",
    "confusion_display = ConfusionMatrixDisplay(\n",
    "    confusion_matrix=confusion, display_labels=knn_fit.classes_\n",
    ")\n",
    "confusion_display.plot()"
   ]
  },
  {
   "cell_type": "code",
   "execution_count": 33,
   "id": "9260f2fb",
   "metadata": {
    "tags": [
     "remove-cell"
    ]
   },
   "outputs": [
    {
     "data": {
      "text/plain": [
       "43"
      ]
     },
     "metadata": {
      "scrapbook": {
       "mime_prefix": "",
       "name": "confu11"
      }
     },
     "output_type": "display_data"
    },
    {
     "data": {
      "text/plain": [
       "82"
      ]
     },
     "metadata": {
      "scrapbook": {
       "mime_prefix": "",
       "name": "confu00"
      }
     },
     "output_type": "display_data"
    },
    {
     "data": {
      "text/plain": [
       "10"
      ]
     },
     "metadata": {
      "scrapbook": {
       "mime_prefix": "",
       "name": "confu10"
      }
     },
     "output_type": "display_data"
    },
    {
     "data": {
      "text/plain": [
       "8"
      ]
     },
     "metadata": {
      "scrapbook": {
       "mime_prefix": "",
       "name": "confu01"
      }
     },
     "output_type": "display_data"
    },
    {
     "data": {
      "text/plain": [
       "125"
      ]
     },
     "metadata": {
      "scrapbook": {
       "mime_prefix": "",
       "name": "confu11_00"
      }
     },
     "output_type": "display_data"
    },
    {
     "data": {
      "text/plain": [
       "53"
      ]
     },
     "metadata": {
      "scrapbook": {
       "mime_prefix": "",
       "name": "confu10_11"
      }
     },
     "output_type": "display_data"
    },
    {
     "data": {
      "text/plain": [
       "19"
      ]
     },
     "metadata": {
      "scrapbook": {
       "mime_prefix": "",
       "name": "confu_fal_neg"
      }
     },
     "output_type": "display_data"
    }
   ],
   "source": [
    "glue(\"confu11\", confusion[1, 1])\n",
    "glue(\"confu00\", confusion[0, 0])\n",
    "glue(\"confu10\", confusion[1, 0])\n",
    "glue(\"confu01\", confusion[0, 1])\n",
    "glue(\"confu11_00\", confusion[1, 1] + confusion[0, 0])\n",
    "glue(\"confu10_11\", confusion[1, 0] + confusion[1, 1])\n",
    "glue(\"confu_fal_neg\", round(100 * confusion[1, 0] / (confusion[1, 0] + confusion[1, 1])))"
   ]
  },
  {
   "cell_type": "markdown",
   "id": "7848b248",
   "metadata": {},
   "source": [
    "The confusion matrix shows {glue:}`confu11` observations were correctly predicted \n",
    "as malignant, and {glue:}`confu00` were correctly predicted as benign. Therefore the classifier labeled \n",
    "{glue:}`confu11` + {glue:}`confu00` = {glue:}`confu11_00` observations \n",
    "correctly. It also shows that the classifier made some mistakes; in particular,\n",
    "it classified {glue:}`confu10` observations as benign when they were truly malignant,\n",
    "and {glue:}`confu01` observations as malignant when they were truly benign."
   ]
  },
  {
   "cell_type": "markdown",
   "id": "cb49db4b",
   "metadata": {},
   "source": [
    "### Critically analyze performance\n",
    "\n",
    "We now know that the classifier was {glue:}`cancer_acc_1`% accurate\n",
    "on the test data set. That sounds pretty good! Wait, *is* it good? \n",
    "Or do we need something higher?\n",
    "\n",
    "In general, what a *good* value for accuracy \\index{accuracy!assessment} is depends on the application.\n",
    " For instance, suppose you are predicting whether a tumor is benign or malignant\n",
    " for a type of tumor that is benign 99% of the time. It is very easy to obtain \n",
    " a 99% accuracy just by guessing benign for every observation. In this case, \n",
    " 99% accuracy is probably not good enough.  And beyond just accuracy,\n",
    "sometimes the *kind* of mistake the classifier makes is important as well. In\n",
    "the previous example, it might be very bad for the classifier to predict\n",
    "\"benign\" when the true class is \"malignant\", as this might result in a patient\n",
    "not receiving appropriate medical attention. On the other hand, it might be\n",
    "less bad for the classifier to guess \"malignant\" when the true class is\n",
    "\"benign\", as the patient will then likely see a doctor who can provide an\n",
    "expert diagnosis. This is why it is important not only to look at accuracy, but\n",
    "also the confusion matrix.\n",
    "\n",
    "However, there is always an easy baseline that you can compare to for any\n",
    "classification problem: the *majority classifier*. The majority classifier \\index{classification!majority}\n",
    "*always* guesses the majority class label from the training data, regardless of\n",
    "the predictor variables' values.  It helps to give you a sense of\n",
    "scale when considering accuracies. If the majority classifier obtains a 90%\n",
    "accuracy on a problem, then you might hope for your $K$-nearest neighbors\n",
    "classifier to do better than that. If your classifier provides a significant\n",
    "improvement upon the majority classifier, this means that at least your method\n",
    "is extracting some useful information from your predictor variables.  Be\n",
    "careful though: improving on the majority classifier does not *necessarily*\n",
    "mean the classifier is working well enough for your application. \n",
    "\n",
    "As an example, in the breast cancer data, recall the proportions of benign and malignant\n",
    "observations in the training data are as follows:"
   ]
  },
  {
   "cell_type": "code",
   "execution_count": 30,
   "id": "ed919c92-04dd-47f3-a26e-4715f8c9003e",
   "metadata": {},
   "outputs": [
    {
     "data": {
      "text/html": [
       "<div>\n",
       "<style scoped>\n",
       "    .dataframe tbody tr th:only-of-type {\n",
       "        vertical-align: middle;\n",
       "    }\n",
       "\n",
       "    .dataframe tbody tr th {\n",
       "        vertical-align: top;\n",
       "    }\n",
       "\n",
       "    .dataframe thead th {\n",
       "        text-align: right;\n",
       "    }\n",
       "</style>\n",
       "<table border=\"1\" class=\"dataframe\">\n",
       "  <thead>\n",
       "    <tr style=\"text-align: right;\">\n",
       "      <th></th>\n",
       "      <th>n</th>\n",
       "      <th>percent</th>\n",
       "    </tr>\n",
       "    <tr>\n",
       "      <th>Class</th>\n",
       "      <th></th>\n",
       "      <th></th>\n",
       "    </tr>\n",
       "  </thead>\n",
       "  <tbody>\n",
       "    <tr>\n",
       "      <th>Benign</th>\n",
       "      <td>267</td>\n",
       "      <td>62.676056</td>\n",
       "    </tr>\n",
       "    <tr>\n",
       "      <th>Malignant</th>\n",
       "      <td>159</td>\n",
       "      <td>37.323944</td>\n",
       "    </tr>\n",
       "  </tbody>\n",
       "</table>\n",
       "</div>"
      ],
      "text/plain": [
       "             n    percent\n",
       "Class                    \n",
       "Benign     267  62.676056\n",
       "Malignant  159  37.323944"
      ]
     },
     "execution_count": 30,
     "metadata": {},
     "output_type": "execute_result"
    }
   ],
   "source": [
    "cancer_proportions"
   ]
  },
  {
   "cell_type": "markdown",
   "id": "1e50cb44",
   "metadata": {},
   "source": [
    "Since the benign class represents the majority of the training data,\n",
    "the majority classifier would *always* predict that a new observation\n",
    "is benign. The estimated accuracy of the majority classifier is usually\n",
    "fairly close to the majority class proportion in the training data.\n",
    "In this case, we would suspect that the majority classifier will have \n",
    "an accuracy of around {glue:}`cancer_train_b_prop`%.\n",
    "The $K$-nearest neighbors classifier we built does quite a bit better than this, \n",
    "with an accuracy of {glue:}`cancer_acc_1`%. \n",
    "This means that from the perspective of accuracy,\n",
    "the $K$-nearest neighbors classifier improved quite a bit on the basic\n",
    "majority classifier. Hooray! But we still need to be cautious; in \n",
    "this application, it is likely very important not to misdiagnose any malignant tumors to avoid missing\n",
    "patients who actually need medical care. The confusion matrix above shows\n",
    "that the classifier does, indeed, misdiagnose a significant number of malignant tumors as benign ({glue:}`confu10` out of {glue:}`confu10_11` malignant tumors, or {glue:}`confu_fal_neg`%!).\n",
    "Therefore, even though the accuracy improved upon the majority classifier,\n",
    "our critical analysis suggests that this classifier may not have appropriate performance\n",
    "for the application."
   ]
  },
  {
   "cell_type": "markdown",
   "id": "1a19ab7b",
   "metadata": {},
   "source": [
    "## Tuning the classifier\n",
    "\n",
    "The vast majority of predictive models in statistics and machine learning have\n",
    "*parameters*. A *parameter* \\index{parameter}\\index{tuning parameter|see{parameter}}\n",
    "is a number you have to pick in advance that determines\n",
    "some aspect of how the model behaves. For example, in the $K$-nearest neighbors\n",
    "classification algorithm, $K$ is a parameter that we have to pick\n",
    "that determines how many neighbors participate in the class vote. \n",
    "By picking different values of $K$, we create different classifiers \n",
    "that make different predictions.\n",
    "\n",
    "So then, how do we pick the *best* value of $K$, i.e., *tune* the model? \n",
    "And is it possible to make this selection in a principled way?  Ideally, \n",
    "we want somehow to maximize the performance of our classifier on data *it\n",
    "hasn't seen yet*. But we cannot use our test data set in the process of building\n",
    "our model. So we will play the same trick we did before when evaluating\n",
    "our classifier: we'll split our *training data itself* into two subsets,\n",
    "use one to train the model, and then use the other to evaluate it.\n",
    "In this section, we will cover the details of this procedure, as well as \n",
    "how to use it to help you pick a good parameter value for your classifier.\n",
    "\n",
    "**And remember:** don't touch the test set during the tuning process. Tuning is a part of model training!"
   ]
  },
  {
   "cell_type": "markdown",
   "id": "d012988a",
   "metadata": {},
   "source": [
    "### Cross-validation\n",
    "\n",
    "The first step in choosing the parameter $K$ is to be able to evaluate the \n",
    "classifier using only the training data. If this is possible, then we can compare\n",
    "the classifier's performance for different values of $K$&mdash;and pick the best&mdash;using \n",
    "only the training data. As suggested at the beginning of this section, we will\n",
    "accomplish this by splitting the training data, training on one subset, and evaluating\n",
    "on the other. The subset of training data used for evaluation is often called the **validation set**. \\index{validation set}\n",
    "\n",
    "There is, however, one key difference from the train/test split\n",
    "that we performed earlier. In particular, we were forced to make only a *single split*\n",
    "of the data. This is because at the end of the day, we have to produce a single classifier.\n",
    "If we had multiple different splits of the data into training and testing data,\n",
    "we would produce multiple different classifiers.\n",
    "But while we are tuning the classifier, we are free to create multiple classifiers\n",
    "based on multiple splits of the training data, evaluate them, and then choose a parameter\n",
    "value based on __*all*__ of the different results. If we just split our overall training\n",
    "data *once*, our best parameter choice will depend strongly on whatever data\n",
    "was lucky enough to end up in the validation set. Perhaps using multiple\n",
    "different train/validation splits, we'll get a better estimate of accuracy,\n",
    "which will lead to a better choice of the number of neighbors $K$ for the\n",
    "overall set of training data. \n",
    "\n",
    "Let's investigate this idea in R! In particular, we will generate five different train/validation\n",
    "splits of our overall training data, train five different $K$-nearest neighbors\n",
    "models, and evaluate their accuracy. We will start with just a single\n",
    "split."
   ]
  },
  {
   "cell_type": "markdown",
   "id": "692164db",
   "metadata": {},
   "source": [
    "```{r 06-five-splits-seed, echo = FALSE, warning = FALSE, message = FALSE}\n",
    "# hidden seed\n",
    "set.seed(1)\n",
    "```\n",
    "\n",
    "```{r 06-five-splits}\n",
    "# create the 25/75 split of the training data into training and validation\n",
    "cancer_split <- initial_split(cancer_train, prop = 0.75, strata = Class)\n",
    "cancer_subtrain <- training(cancer_split)\n",
    "cancer_validation <- testing(cancer_split)\n",
    "\n",
    "# recreate the standardization recipe from before \n",
    "# (since it must be based on the training data)\n",
    "cancer_recipe <- recipe(Class ~ Smoothness + Concavity, \n",
    "                        data = cancer_subtrain) |>\n",
    "  step_scale(all_predictors()) |>\n",
    "  step_center(all_predictors())\n",
    "\n",
    "# fit the knn model (we can reuse the old knn_spec model from before)\n",
    "knn_fit <- workflow() |>\n",
    "  add_recipe(cancer_recipe) |>\n",
    "  add_model(knn_spec) |>\n",
    "  fit(data = cancer_subtrain)\n",
    "\n",
    "# get predictions on the validation data\n",
    "validation_predicted <- predict(knn_fit, cancer_validation) |>\n",
    "  bind_cols(cancer_validation)\n",
    "\n",
    "# compute the accuracy\n",
    "acc <- validation_predicted |>\n",
    "  metrics(truth = Class, estimate = .pred_class) |>\n",
    "  filter(.metric == \"accuracy\") |>\n",
    "  select(.estimate) |>\n",
    "  pull()\n",
    "\n",
    "acc\n",
    "```"
   ]
  },
  {
   "cell_type": "markdown",
   "id": "cc7a1390",
   "metadata": {},
   "source": [
    "```{r 06-five-splits-loop, echo = FALSE, message = FALSE, warning = FALSE}\n",
    "accuracies <- c()\n",
    "for (i in 1:5) {\n",
    "  set.seed(i) # makes the random selection of rows reproducible\n",
    "\n",
    "  # create the 25/75 split of the training data into training and validation\n",
    "  cancer_split <- initial_split(cancer_train, prop = 0.75, strata = Class)\n",
    "  cancer_subtrain <- training(cancer_split)\n",
    "  cancer_validation <- testing(cancer_split)\n",
    "\n",
    "  # recreate the standardization recipe from before \n",
    "  # (since it must be based on the training data)\n",
    "  cancer_recipe <- recipe(Class ~ Smoothness + Concavity, \n",
    "                          data = cancer_subtrain) |>\n",
    "    step_scale(all_predictors()) |>\n",
    "    step_center(all_predictors())\n",
    "\n",
    "  # fit the knn model (we can reuse the old knn_spec model from before)\n",
    "  knn_fit <- workflow() |>\n",
    "    add_recipe(cancer_recipe) |>\n",
    "    add_model(knn_spec) |>\n",
    "    fit(data = cancer_subtrain)\n",
    "\n",
    "  # get predictions on the validation data\n",
    "  validation_predicted <- predict(knn_fit, cancer_validation) |>\n",
    "    bind_cols(cancer_validation)\n",
    "\n",
    "  # compute the accuracy\n",
    "  acc_ <- validation_predicted |>\n",
    "    metrics(truth = Class, estimate = .pred_class) |>\n",
    "    filter(.metric == \"accuracy\") |>\n",
    "    select(.estimate) |>\n",
    "    pull()\n",
    "  accuracies <- append(accuracies, acc_)\n",
    "}\n",
    "```"
   ]
  },
  {
   "cell_type": "markdown",
   "id": "67cf2d42",
   "metadata": {},
   "source": [
    "The accuracy estimate using this split is `r round(100*acc,1)`%.\n",
    "Now we repeat the above code 4 more times, which generates 4 more splits.\n",
    "Therefore we get five different shuffles of the data, and therefore five different values for\n",
    "accuracy: `r sprintf(\"%.1f%%\", round(100*accuracies,1))`. None of these values are\n",
    "necessarily \"more correct\" than any other; they're\n",
    "just five estimates of the true, underlying accuracy of our classifier built\n",
    "using our overall training data. We can combine the estimates by taking their\n",
    "average (here `r round(100*mean(accuracies),0)`%) to try to get a single assessment of our\n",
    "classifier's accuracy; this has the effect of reducing the influence of any one\n",
    "(un)lucky validation set on the estimate. \n",
    "\n",
    "In practice, we don't use random splits, but rather use a more structured\n",
    "splitting procedure so that each observation in the data set is used in a\n",
    "validation set only a single time. The name for this strategy is \n",
    "**cross-validation**.  In **cross-validation**, \\index{cross-validation} we split our **overall training\n",
    "data** into $C$ evenly sized chunks. Then, iteratively use $1$ chunk as the\n",
    "**validation set** and combine the remaining $C-1$ chunks \n",
    "as the **training set**. \n",
    "This procedure is shown in Figure \\@ref(fig:06-cv-image).\n",
    "Here, $C=5$ different chunks of the data set are used,\n",
    "resulting in 5 different choices for the **validation set**; we call this\n",
    "*5-fold* cross-validation."
   ]
  },
  {
   "cell_type": "markdown",
   "id": "63b6c7c8",
   "metadata": {},
   "source": [
    "```{r 06-cv-image, echo = FALSE, message = FALSE, warning = FALSE, fig.cap = \"5-fold cross-validation.\", fig.pos = \"H\", out.extra=\"\", fig.retina = 2, out.width = \"100%\"}\n",
    "knitr::include_graphics(\"img/cv.png\")\n",
    "```"
   ]
  },
  {
   "cell_type": "markdown",
   "id": "fae443b3",
   "metadata": {},
   "source": [
    "To perform 5-fold cross-validation in R with `tidymodels`, we use another\n",
    "function: `vfold_cv`. \\index{tidymodels!vfold\\_cv}\\index{cross-validation!vfold\\_cv} This function splits our training data into `v` folds\n",
    "automatically. We set the `strata` argument to the categorical label variable\n",
    "(here, `Class`) to ensure that the training and validation subsets contain the\n",
    "right proportions of each category of observation."
   ]
  },
  {
   "cell_type": "markdown",
   "id": "1b85ce1f",
   "metadata": {},
   "source": [
    "```{r 06-vfold-seed, echo = FALSE, warning = FALSE, message = FALSE}\n",
    "# hidden seed\n",
    "set.seed(14) \n",
    "```\n",
    "\n",
    "```{r 06-vfold}\n",
    "cancer_vfold <- vfold_cv(cancer_train, v = 5, strata = Class)\n",
    "cancer_vfold\n",
    "```"
   ]
  },
  {
   "cell_type": "markdown",
   "id": "b2fdcb7f",
   "metadata": {},
   "source": [
    "Then, when we create our data analysis workflow, we use the `fit_resamples` function \\index{cross-validation!fit\\_resamples}\\index{tidymodels!fit\\_resamples}\n",
    "instead of the `fit` function for training. This runs cross-validation on each\n",
    "train/validation split. \n",
    "\n",
    "```{r 06-vfold-workflow-seed, echo = FALSE, warning = FALSE, message = FALSE}\n",
    "# hidden seed\n",
    "set.seed(1)\n",
    "```\n",
    "\n",
    "```{r 06-vfold-workflow}\n",
    "# recreate the standardization recipe from before \n",
    "# (since it must be based on the training data)\n",
    "cancer_recipe <- recipe(Class ~ Smoothness + Concavity, \n",
    "                        data = cancer_train) |>\n",
    "  step_scale(all_predictors()) |>\n",
    "  step_center(all_predictors())\n",
    "\n",
    "# fit the knn model (we can reuse the old knn_spec model from before)\n",
    "knn_fit <- workflow() |>\n",
    "  add_recipe(cancer_recipe) |>\n",
    "  add_model(knn_spec) |>\n",
    "  fit_resamples(resamples = cancer_vfold)\n",
    "\n",
    "knn_fit\n",
    "```\n",
    "\n",
    "The `collect_metrics` \\index{tidymodels!collect\\_metrics}\\index{cross-validation!collect\\_metrics} function is used to aggregate the *mean* and *standard error*\n",
    "of the classifier's validation accuracy across the folds. You will find results\n",
    "related to the accuracy in the row with `accuracy` listed under the `.metric` column. \n",
    "You should consider the mean (`mean`) to be the estimated accuracy, while the standard \n",
    "error (`std_err`) is a measure of how uncertain we are in the mean value. A detailed treatment of this\n",
    "is beyond the scope of this chapter; but roughly, if your estimated mean is `r round(filter(collect_metrics(knn_fit), .metric == \"accuracy\")$mean,2)` and standard\n",
    "error is `r round(filter(collect_metrics(knn_fit), .metric == \"accuracy\")$std_err,2)`, you can expect the *true* average accuracy of the \n",
    "classifier to be somewhere roughly between `r (round(filter(collect_metrics(knn_fit), .metric == \"accuracy\")$mean,2) - round(filter(collect_metrics(knn_fit), .metric == \"accuracy\")$std_err,2))*100`% and `r (round(filter(collect_metrics(knn_fit), .metric == \"accuracy\")$mean,2) + round(filter(collect_metrics(knn_fit), .metric == \"accuracy\")$std_err,2))*100`% (although it may\n",
    "fall outside this range). You may ignore the other columns in the metrics data frame,\n",
    "as they do not provide any additional insight.\n",
    "You can also ignore the entire second row with `roc_auc` in the `.metric` column,\n",
    "as it is beyond the scope of this book.\n",
    "\n",
    "```{r 06-vfold-metrics}\n",
    "knn_fit |> \n",
    "  collect_metrics() \n",
    "```\n",
    "\n",
    "We can choose any number of folds, and typically the more we use the better our\n",
    "accuracy estimate will be (lower standard error). However, we are limited \n",
    "by computational power: the\n",
    "more folds we choose, the  more computation it takes, and hence the more time\n",
    "it takes to run the analysis. So when you do cross-validation, you need to\n",
    "consider the size of the data, the speed of the algorithm (e.g., $K$-nearest\n",
    "neighbors), and the speed of your computer. In practice, this is a \n",
    "trial-and-error process, but typically $C$ is chosen to be either 5 or 10. Here \n",
    "we will try 10-fold cross-validation to see if we get a lower standard error:\n",
    "\n",
    "```{r 06-10-fold}\n",
    "cancer_vfold <- vfold_cv(cancer_train, v = 10, strata = Class)\n",
    "\n",
    "vfold_metrics <- workflow() |>\n",
    "                  add_recipe(cancer_recipe) |>\n",
    "                  add_model(knn_spec) |>\n",
    "                  fit_resamples(resamples = cancer_vfold) |>\n",
    "                  collect_metrics()\n",
    "\n",
    "vfold_metrics\n",
    "```\n",
    "In this case, using 10-fold instead of 5-fold cross validation did reduce the standard error, although\n",
    "by only an insignificant amount. In fact, due to the randomness in how the data are split, sometimes\n",
    "you might even end up with a *higher* standard error when increasing the number of folds!\n",
    "We can make the reduction in standard error more dramatic by increasing the number of folds \n",
    "by a large amount. In the following code we show the result when $C = 50$; \n",
    "picking such a large number of folds often takes a long time to run in practice, \n",
    "so we usually stick to 5 or 10.\n",
    "\n",
    "```{r 06-50-fold-seed, echo = FALSE, warning = FALSE, message = FALSE}\n",
    "# hidden seed\n",
    "set.seed(1)\n",
    "```\n",
    "\n",
    "```{r 06-50-fold}\n",
    "cancer_vfold_50 <- vfold_cv(cancer_train, v = 50, strata = Class)\n",
    "\n",
    "vfold_metrics_50 <- workflow() |>\n",
    "                  add_recipe(cancer_recipe) |>\n",
    "                  add_model(knn_spec) |>\n",
    "                  fit_resamples(resamples = cancer_vfold_50) |>\n",
    "                  collect_metrics()\n",
    "vfold_metrics_50\n",
    "```\n",
    "\n",
    "### Parameter value selection\n",
    "\n",
    "Using 5- and 10-fold cross-validation, we have estimated that the prediction\n",
    "accuracy of our classifier is somewhere around `r round(100*(vfold_metrics |> filter(.metric == \"accuracy\"))$mean,0)`%. \n",
    "Whether that is good or not\n",
    "depends entirely on the downstream application of the data analysis. In the\n",
    "present situation, we are trying to predict a tumor diagnosis, with expensive,\n",
    "damaging chemo/radiation therapy or patient death as potential consequences of\n",
    "misprediction. Hence, we might like to \n",
    "do better than `r round(100*(vfold_metrics |> filter(.metric == \"accuracy\"))$mean,0)`% for this application.  \n",
    "\n",
    "In order to improve our classifier, we have one choice of parameter: the number of\n",
    "neighbors, $K$. Since cross-validation helps us evaluate the accuracy of our\n",
    "classifier, we can use cross-validation to calculate an accuracy for each value\n",
    "of $K$ in a reasonable range, and then pick the value of $K$ that gives us the\n",
    "best accuracy. The `tidymodels` package collection provides a very simple\n",
    "syntax for tuning models: each parameter in the model to be tuned should be specified\n",
    "as `tune()` in the model specification rather than given a particular value.\n",
    "\n",
    "```{r 06-range-cross-val}\n",
    "knn_spec <- nearest_neighbor(weight_func = \"rectangular\", \n",
    "                             neighbors = tune()) |>\n",
    "  set_engine(\"kknn\") |>\n",
    "  set_mode(\"classification\")\n",
    "```\n",
    "\n",
    "Then instead of using `fit` or `fit_resamples`, we will use the `tune_grid` function \\index{cross-validation!tune\\_grid}\\index{tidymodels!tune\\_grid}\n",
    "to fit the model for each value in a range of parameter values. \n",
    "In particular, we first create a data frame with a `neighbors`\n",
    "variable that contains the sequence of values of $K$ to try; below we create the `k_vals`\n",
    "data frame with the `neighbors` variable containing values from 1 to 100 (stepping by 5) using \n",
    "the `seq` function.\n",
    "Then we pass that data frame to the `grid` argument of `tune_grid`.\n",
    "\n",
    "```{r 06-range-cross-val-2-seed, echo = FALSE, warning = FALSE, message = FALSE}\n",
    "# hidden seed\n",
    "set.seed(1)\n",
    "```\n",
    "\n",
    "```{r 06-range-cross-val-2}\n",
    "k_vals <- tibble(neighbors = seq(from = 1, to = 100, by = 5))\n",
    "\n",
    "knn_results <- workflow() |>\n",
    "  add_recipe(cancer_recipe) |>\n",
    "  add_model(knn_spec) |>\n",
    "  tune_grid(resamples = cancer_vfold, grid = k_vals) |>\n",
    "  collect_metrics() \n",
    "\n",
    "accuracies <- knn_results |>\n",
    "  filter(.metric == \"accuracy\")\n",
    "\n",
    "accuracies\n",
    "```\n",
    "\n",
    "We can decide which number of neighbors is best by plotting the accuracy versus $K$,\n",
    "as shown in Figure \\@ref(fig:06-find-k).\n",
    "\n",
    "```{r 06-find-k,  fig.height = 3.5, fig.width = 4, fig.cap= \"Plot of estimated accuracy versus the number of neighbors.\"}\n",
    "accuracy_vs_k <- ggplot(accuracies, aes(x = neighbors, y = mean)) +\n",
    "  geom_point() +\n",
    "  geom_line() +\n",
    "  labs(x = \"Neighbors\", y = \"Accuracy Estimate\") + \n",
    "  theme(text = element_text(size = 12))\n",
    "\n",
    "accuracy_vs_k\n",
    "```\n",
    "\n",
    "Setting the number of \n",
    "neighbors to $K =$ `r (accuracies |> arrange(desc(mean)) |> head(1))$neighbors`\n",
    "provides the highest accuracy (`r (accuracies |> arrange(desc(mean)) |> slice(1) |> pull(mean) |> round(4))*100`%). But there is no exact or perfect answer here;\n",
    "any selection from $K = 30$ and $60$ would be reasonably justified, as all\n",
    "of these differ in classifier accuracy by a small amount. Remember: the\n",
    "values you see on this plot are *estimates* of the true accuracy of our\n",
    "classifier. Although the \n",
    "$K =$ `r (accuracies |> arrange(desc(mean)) |> head(1))$neighbors` value is \n",
    "higher than the others on this plot,\n",
    "that doesn't mean the classifier is actually more accurate with this parameter\n",
    "value! Generally, when selecting $K$ (and other parameters for other predictive\n",
    "models), we are looking for a value where:\n",
    "\n",
    "- we get roughly optimal accuracy, so that our model will likely be accurate;\n",
    "- changing the value to a nearby one (e.g., adding or subtracting a small number) doesn't decrease accuracy too much, so that our choice is reliable in the presence of uncertainty;\n",
    "- the cost of training the model is not prohibitive (e.g., in our situation, if $K$ is too large, predicting becomes expensive!).\n",
    "\n",
    "We know that $K =$ `r (accuracies |> arrange(desc(mean)) |> head(1))$neighbors` \n",
    "provides the highest estimated accuracy. Further, Figure \\@ref(fig:06-find-k) shows that the estimated accuracy \n",
    "changes by only a small amount if we increase or decrease $K$ near $K =$ `r (accuracies |> arrange(desc(mean)) |> head(1))$neighbors`.\n",
    "And finally, $K =$ `r (accuracies |> arrange(desc(mean)) |> head(1))$neighbors` does not create a prohibitively expensive\n",
    "computational cost of training. Considering these three points, we would indeed select\n",
    "$K =$ `r (accuracies |> arrange(desc(mean)) |> head(1))$neighbors` for the classifier.\n",
    "\n",
    "### Under/Overfitting\n",
    "\n",
    "To build a bit more intuition, what happens if we keep increasing the number of\n",
    "neighbors $K$? In fact, the accuracy actually starts to decrease! \n",
    "Let's specify a much larger range of values of $K$ to try in the `grid` \n",
    "argument of `tune_grid`. Figure \\@ref(fig:06-lots-of-ks) shows a plot of estimated accuracy as \n",
    "we vary $K$ from 1 to almost the number of observations in the data set.\n",
    "\n",
    "```{r 06-lots-of-ks-seed, message = FALSE, echo = FALSE, warning = FALSE}\n",
    "# hidden seed\n",
    "set.seed(1)\n",
    "```\n",
    "\n",
    "```{r 06-lots-of-ks, message = FALSE, fig.height = 3.5, fig.width = 4, fig.cap=\"Plot of accuracy estimate versus number of neighbors for many K values.\"}\n",
    "k_lots <- tibble(neighbors = seq(from = 1, to = 385, by = 10))\n",
    "\n",
    "knn_results <- workflow() |>\n",
    "  add_recipe(cancer_recipe) |>\n",
    "  add_model(knn_spec) |>\n",
    "  tune_grid(resamples = cancer_vfold, grid = k_lots) |>\n",
    "  collect_metrics()\n",
    "\n",
    "accuracies <- knn_results |>\n",
    "  filter(.metric == \"accuracy\")\n",
    "\n",
    "accuracy_vs_k_lots <- ggplot(accuracies, aes(x = neighbors, y = mean)) +\n",
    "  geom_point() +\n",
    "  geom_line() +\n",
    "  labs(x = \"Neighbors\", y = \"Accuracy Estimate\") + \n",
    "  theme(text = element_text(size = 12))\n",
    "\n",
    "accuracy_vs_k_lots\n",
    "```\n",
    "\n",
    "**Underfitting:** \\index{underfitting!classification} What is actually happening to our classifier that causes\n",
    "this? As we increase the number of neighbors, more and more of the training\n",
    "observations (and those that are farther and farther away from the point) get a\n",
    "\"say\" in what the class of a new observation is. This causes a sort of\n",
    "\"averaging effect\" to take place, making the boundary between where our\n",
    "classifier would predict a tumor to be malignant versus benign to smooth out\n",
    "and become *simpler.* If you take this to the extreme, setting $K$ to the total\n",
    "training data set size, then the classifier will always predict the same label\n",
    "regardless of what the new observation looks like. In general, if the model\n",
    "*isn't influenced enough* by the training data, it is said to **underfit** the\n",
    "data.\n",
    "\n",
    "**Overfitting:** \\index{overfitting!classification} In contrast, when we decrease the number of neighbors, each\n",
    "individual data point has a stronger and stronger vote regarding nearby points.\n",
    "Since the data themselves are noisy, this causes a more \"jagged\" boundary\n",
    "corresponding to a *less simple* model.  If you take this case to the extreme,\n",
    "setting $K = 1$, then the classifier is essentially just matching each new\n",
    "observation to its closest neighbor in the training data set. This is just as\n",
    "problematic as the large $K$ case, because the classifier becomes unreliable on\n",
    "new data: if we had a different training set, the predictions would be\n",
    "completely different.  In general, if the model *is influenced too much* by the\n",
    "training data, it is said to **overfit** the data.\n",
    "\n",
    "```{r 06-decision-grid-K, echo = FALSE, message = FALSE, fig.height = 10, fig.width = 10, fig.pos = \"H\", out.extra=\"\", fig.cap = \"Effect of K in overfitting and underfitting.\"}\n",
    "ks <- c(1, 7, 20, 300)\n",
    "plots <- list()\n",
    "\n",
    "for (i in 1:length(ks)) {\n",
    "  knn_spec <- nearest_neighbor(weight_func = \"rectangular\", \n",
    "                               neighbors = ks[[i]]) |>\n",
    "    set_engine(\"kknn\") |>\n",
    "    set_mode(\"classification\")\n",
    "\n",
    "  knn_fit <- workflow() |>\n",
    "    add_recipe(cancer_recipe) |>\n",
    "    add_model(knn_spec) |>\n",
    "    fit(data = cancer_train)\n",
    "\n",
    "  # create a prediction pt grid\n",
    "  smo_grid <- seq(min(cancer_train$Smoothness), \n",
    "                  max(cancer_train$Smoothness), \n",
    "                  length.out = 100)\n",
    "  con_grid <- seq(min(cancer_train$Concavity), \n",
    "                  max(cancer_train$Concavity), \n",
    "                  length.out = 100)\n",
    "  scgrid <- as_tibble(expand.grid(Smoothness = smo_grid, \n",
    "                                  Concavity = con_grid))\n",
    "  knnPredGrid <- predict(knn_fit, scgrid)\n",
    "  prediction_table <- bind_cols(knnPredGrid, scgrid) |> \n",
    "    rename(Class = .pred_class)\n",
    "\n",
    "  # plot\n",
    "  plots[[i]] <-\n",
    "    ggplot() +\n",
    "    geom_point(data = cancer_train, \n",
    "               mapping = aes(x = Smoothness, \n",
    "                             y = Concavity, \n",
    "                             color = Class), \n",
    "               alpha = 0.75) +\n",
    "    geom_point(data = prediction_table, \n",
    "               mapping = aes(x = Smoothness, \n",
    "                             y = Concavity, \n",
    "                             color = Class), \n",
    "               alpha = 0.02, \n",
    "               size = 5.) +\n",
    "    labs(color = \"Diagnosis\") +\n",
    "    ggtitle(paste(\"K = \", ks[[i]])) +\n",
    "    scale_color_manual(labels = c(\"Malignant\", \"Benign\"), \n",
    "                       values = c(\"orange2\", \"steelblue2\"))  +\n",
    "  theme(text = element_text(size = 18), axis.title=element_text(size=18)) \n",
    "  }\n",
    "\n",
    "p_no_legend <- lapply(plots, function(x) x + theme(legend.position = \"none\"))\n",
    "legend <- get_legend(plots[[1]] + theme(legend.position = \"bottom\"))\n",
    "p_grid <- plot_grid(plotlist = p_no_legend, ncol = 2)\n",
    "plot_grid(p_grid, legend, ncol = 1, rel_heights = c(1, 0.2))\n",
    "```\n",
    "\n",
    "Both overfitting and underfitting are problematic and will lead to a model \n",
    "that does not generalize well to new data. When fitting a model, we need to strike\n",
    "a balance between the two. You can see these two effects in Figure \n",
    "\\@ref(fig:06-decision-grid-K), which shows how the classifier changes as \n",
    "we set the number of neighbors $K$ to 1, 7, 20, and 300.\n",
    "\n",
    "## Summary\n",
    "\n",
    "Classification algorithms use one or more quantitative variables to predict the\n",
    "value of another categorical variable. In particular, the $K$-nearest neighbors algorithm \n",
    "does this by first finding the $K$ points in the training data nearest\n",
    "to the new observation, and then returning the majority class vote from those\n",
    "training observations. We can evaluate a classifier by splitting the data\n",
    "randomly into a training and test data set, using the training set to build the\n",
    "classifier, and using the test set to estimate its accuracy. Finally, we\n",
    "can tune the classifier (e.g., select the number of neighbors $K$ in $K$-NN)\n",
    "by maximizing estimated accuracy via cross-validation. The overall \n",
    "process is summarized in Figure \\@ref(fig:06-overview).\n",
    "\n",
    "```{r 06-overview, echo = FALSE, message = FALSE, warning = FALSE, fig.pos = \"H\", out.extra=\"\", fig.cap = \"Overview of KNN classification.\", fig.retina = 2, out.width = \"100%\"}\n",
    "knitr::include_graphics(\"img/train-test-overview.jpeg\")\n",
    "```\n",
    "\n",
    "The overall workflow for performing $K$-nearest neighbors classification using `tidymodels` is as follows:\n",
    "\\index{tidymodels}\\index{recipe}\\index{cross-validation}\\index{K-nearest neighbors!classification}\\index{classification}\n",
    "\n",
    "1. Use the `initial_split` function to split the data into a training and test set. Set the `strata` argument to the class label variable. Put the test set aside for now.\n",
    "2. Use the `vfold_cv` function to split up the training data for cross-validation.\n",
    "3. Create a `recipe` that specifies the class label and predictors, as well as preprocessing steps for all variables. Pass the training data as the `data` argument of the recipe.\n",
    "4. Create a `nearest_neighbors` model specification, with `neighbors = tune()`.\n",
    "5. Add the recipe and model specification to a `workflow()`, and use the `tune_grid` function on the train/validation splits to estimate the classifier accuracy for a range of $K$ values.\n",
    "6. Pick a value of $K$ that yields a high accuracy estimate that doesn't change much if you change $K$ to a nearby value.\n",
    "7. Make a new model specification for the best parameter value (i.e., $K$), and retrain the classifier using the `fit` function.\n",
    "8. Evaluate the estimated accuracy of the classifier on the test set using the `predict` function.\n",
    "\n",
    "In these last two chapters, we focused on the $K$-nearest neighbor algorithm, \n",
    "but there are many other methods we could have used to predict a categorical label. \n",
    "All algorithms have their strengths and weaknesses, and we summarize these for \n",
    "the $K$-NN here.\n",
    "\n",
    "**Strengths:** $K$-nearest neighbors classification\n",
    "\n",
    "1. is a simple, intuitive algorithm,\n",
    "2. requires few assumptions about what the data must look like, and\n",
    "3. works for binary (two-class) and multi-class (more than 2 classes) classification problems.\n",
    "\n",
    "**Weaknesses:** $K$-nearest neighbors classification\n",
    "\n",
    "1. becomes very slow as the training data gets larger,\n",
    "2. may not perform well with a large number of predictors, and\n",
    "3. may not perform well when classes are imbalanced.\n",
    "\n",
    "## Predictor variable selection\n",
    "\n",
    "> **Note:** This section is not required reading for the remainder of the textbook. It is included for those readers \n",
    "> interested in learning how irrelevant variables can influence the performance of a classifier, and how to\n",
    "> pick a subset of useful variables to include as predictors.\n",
    "\n",
    "Another potentially important part of tuning your classifier is to choose which\n",
    "variables from your data will be treated as predictor variables. Technically, you can choose\n",
    "anything from using a single predictor variable to using every variable in your\n",
    "data; the $K$-nearest neighbors algorithm accepts any number of\n",
    "predictors. However, it is **not** the case that using more predictors always\n",
    "yields better predictions! In fact, sometimes including irrelevant predictors \\index{irrelevant predictors} can\n",
    "actually negatively affect classifier performance.\n",
    "\n",
    "### The effect of irrelevant predictors\n",
    "\n",
    "Let's take a look at an example where $K$-nearest neighbors performs\n",
    "worse when given more predictors to work with. In this example, we modified\n",
    "the breast cancer data to have only the `Smoothness`, `Concavity`, and\n",
    "`Perimeter` variables from the original data. Then, we added irrelevant\n",
    "variables that we created ourselves using a random number generator.\n",
    "The irrelevant variables each take a value of 0 or 1 with equal probability for each observation, regardless\n",
    "of what the value `Class` variable takes. In other words, the irrelevant variables have \n",
    "no meaningful relationship with the `Class` variable.\n",
    "\n",
    "```{r 06-irrelevant-gendata, echo = FALSE, warning = FALSE}\n",
    "set.seed(4)\n",
    "cancer_irrelevant <- cancer |> select(Class, Smoothness, Concavity, Perimeter)\n",
    "\n",
    "for (i in 1:500) {\n",
    "    # create column\n",
    "    col = (sample(2, size=nrow(cancer_irrelevant), replace=TRUE)-1)\n",
    "    cancer_irrelevant <- cancer_irrelevant |> \n",
    "\tadd_column( !!paste(\"Irrelevant\", i, sep=\"\") := col)\n",
    "}\n",
    "```\n",
    "\n",
    "```{r 06-irrelevant-printdata, warning = FALSE}\n",
    "cancer_irrelevant |> \n",
    "      select(Class, Smoothness, Concavity, Perimeter, Irrelevant1, Irrelevant2)\n",
    "```\n",
    "\n",
    "Next, we build a sequence of $K$-NN classifiers that include `Smoothness`,\n",
    "`Concavity`, and `Perimeter` as predictor variables, but also increasingly many irrelevant\n",
    "variables. In particular, we create 6 data sets with 0, 5, 10, 15, 20, and 40 irrelevant predictors.\n",
    "Then we build a model, tuned via 5-fold cross-validation, for each data set.\n",
    "Figure \\@ref(fig:06-performance-irrelevant-features) shows\n",
    "the estimated cross-validation accuracy versus the number of irrelevant predictors.  As\n",
    "we add more irrelevant predictor variables, the estimated accuracy of our\n",
    "classifier decreases. This is because the irrelevant variables add a random\n",
    "amount to the distance between each pair of observations; the more irrelevant\n",
    "variables there are, the more (random) influence they have, and the more they\n",
    "corrupt the set of nearest neighbors that vote on the class of the new\n",
    "observation to predict.  \n",
    "\n",
    "```{r 06-performance-irrelevant-features, echo = FALSE, warning = FALSE, fig.retina = 2, out.width = \"65%\", fig.cap = \"Effect of inclusion of irrelevant predictors.\"}\n",
    "# get accuracies after including k irrelevant features\n",
    "ks <- c(0, 5, 10, 15, 20, 40)\n",
    "fixedaccs <- list()\n",
    "accs <- list()\n",
    "nghbrs <- list()\n",
    "\n",
    "for (i in 1:length(ks)) {\n",
    "  knn_spec <- nearest_neighbor(weight_func = \"rectangular\", \n",
    "                               neighbors = tune()) |>\n",
    "     set_engine(\"kknn\") |>\n",
    "     set_mode(\"classification\")\n",
    "\n",
    "  cancer_irrelevant_subset <- cancer_irrelevant |> select(1:(3+ks[[i]]))\n",
    "\n",
    "  cancer_vfold <- vfold_cv(cancer_irrelevant_subset, v = 5, strata = Class)\n",
    "\n",
    "  cancer_recipe <- recipe(Class ~ ., data = cancer_irrelevant_subset) |>\n",
    "      step_scale(all_predictors()) |>\n",
    "      step_center(all_predictors())\n",
    "  \n",
    "  res <- workflow() |>\n",
    "    add_recipe(cancer_recipe) |>\n",
    "    add_model(knn_spec) |>\n",
    "    tune_grid(resamples = cancer_vfold, grid = 20) |>\n",
    "    collect_metrics() |>\n",
    "    filter(.metric == \"accuracy\") |>\n",
    "    arrange(desc(mean)) |>\n",
    "    head(1)\n",
    "  accs[[i]] <- res$mean\n",
    "  nghbrs[[i]] <- res$neighbors\n",
    "\n",
    "  knn_spec_fixed <- nearest_neighbor(weight_func = \"rectangular\", \n",
    "                                     neighbors = 3) |>\n",
    "     set_engine(\"kknn\") |>\n",
    "     set_mode(\"classification\")\n",
    "\n",
    "  res <- workflow() |>\n",
    "    add_recipe(cancer_recipe) |>\n",
    "    add_model(knn_spec_fixed) |>\n",
    "    tune_grid(resamples = cancer_vfold, grid = 1) |>\n",
    "    collect_metrics() |>\n",
    "    filter(.metric == \"accuracy\") |>\n",
    "    arrange(desc(mean)) |>\n",
    "    head(1)\n",
    "  fixedaccs[[i]] <- res$mean\n",
    "}\n",
    "accs <- accs |> unlist()\n",
    "nghbrs <- nghbrs |> unlist()\n",
    "fixedaccs <- fixedaccs |> unlist()\n",
    "\n",
    "## get accuracy if we always just guess the most frequent label\n",
    "#base_acc <- cancer_irrelevant |>\n",
    "#                group_by(Class) |>\n",
    "#                summarize(n = n()) |>\n",
    "#                mutate(frac = n/sum(n)) |>\n",
    "#                summarize(mx = max(frac)) |>\n",
    "#                select(mx)\n",
    "#base_acc <- base_acc$mx |> unlist()\n",
    "\n",
    "# plot\n",
    "res <- tibble(ks = ks, accs = accs, fixedaccs = fixedaccs, nghbrs = nghbrs)\n",
    "#res <- res |> mutate(base_acc = base_acc)\n",
    "#plt_irrelevant_accuracies <- res |>\n",
    "#  ggplot() +\n",
    "#  geom_line(mapping = aes(x=ks, y=accs, linetype=\"Tuned KNN\")) +\n",
    "#  geom_hline(data=res, mapping=aes(yintercept=base_acc, linetype=\"Always Predict Benign\")) +\n",
    "#  labs(x = \"Number of Irrelevant Predictors\", y = \"Model Accuracy Estimate\") + \n",
    "#  scale_linetype_manual(name=\"Method\", values = c(\"dashed\", \"solid\"))\n",
    "\n",
    "plt_irrelevant_accuracies <- ggplot(res) +\n",
    "              geom_line(mapping = aes(x=ks, y=accs)) +\n",
    "              labs(x = \"Number of Irrelevant Predictors\", \n",
    "                   y = \"Model Accuracy Estimate\") + \n",
    "  theme(text = element_text(size = 18), axis.title=element_text(size=18)) \n",
    "\n",
    "plt_irrelevant_accuracies\n",
    "```\n",
    "\n",
    "Although the accuracy decreases as expected, one surprising thing about \n",
    "Figure \\@ref(fig:06-performance-irrelevant-features) is that it shows that the method\n",
    "still outperforms the baseline majority classifier (with about `r round(cancer_propn_1[1,1], 0)`% accuracy) \n",
    "even with 40 irrelevant variables.\n",
    "How could that be? Figure \\@ref(fig:06-neighbors-irrelevant-features) provides the answer:\n",
    "the tuning procedure for the $K$-nearest neighbors classifier combats the extra randomness from the irrelevant variables \n",
    "by increasing the number of neighbors. Of course, because of all the extra noise in the data from the irrelevant\n",
    "variables, the number of neighbors does not increase smoothly; but the general trend is increasing.\n",
    "Figure \\@ref(fig:06-fixed-irrelevant-features) corroborates\n",
    "this evidence; if we fix the number of neighbors to $K=3$, the accuracy falls off more quickly.\n",
    "\n",
    "```{r 06-neighbors-irrelevant-features, echo = FALSE, warning = FALSE, fig.retina = 2, out.width = \"65%\", fig.cap = \"Tuned number of neighbors for varying number of irrelevant predictors.\"}\n",
    "plt_irrelevant_nghbrs <- ggplot(res) +\n",
    "              geom_line(mapping = aes(x=ks, y=nghbrs)) +\n",
    "              labs(x = \"Number of Irrelevant Predictors\", \n",
    "                   y = \"Number of neighbors\") + \n",
    "  theme(text = element_text(size = 18), axis.title=element_text(size=18)) \n",
    "\n",
    "plt_irrelevant_nghbrs\n",
    "```\n",
    "\n",
    "```{r 06-fixed-irrelevant-features, echo = FALSE, warning = FALSE, fig.retina = 2, out.width = \"75%\", fig.cap = \"Accuracy versus number of irrelevant predictors for tuned and untuned number of neighbors.\"}\n",
    "res_tmp <- res %>% pivot_longer(cols=c(\"accs\", \"fixedaccs\"), \n",
    "                                names_to=\"Type\", \n",
    "                                values_to=\"accuracy\")\n",
    "\n",
    "plt_irrelevant_nghbrs <- ggplot(res_tmp) +\n",
    "              geom_line(mapping = aes(x=ks, y=accuracy, color=Type)) +\n",
    "              labs(x = \"Number of Irrelevant Predictors\", y = \"Accuracy\") + \n",
    "              scale_color_discrete(labels= c(\"Tuned K\", \"K = 3\")) + \n",
    "  theme(text = element_text(size = 17), axis.title=element_text(size=17)) \n",
    "\n",
    "plt_irrelevant_nghbrs\n",
    "```\n",
    "\n",
    "### Finding a good subset of predictors\n",
    "\n",
    "So then, if it is not ideal to use all of our variables as predictors without consideration, how \n",
    "do we choose which variables we *should* use?  A simple method is to rely on your scientific understanding\n",
    "of the data to tell you which variables are not likely to be useful predictors. For example, in the cancer\n",
    "data that we have been studying, the `ID` variable is just a unique identifier for the observation.\n",
    "As it is not related to any measured property of the cells, the `ID` variable should therefore not be used\n",
    "as a predictor. That is, of course, a very clear-cut case. But the decision for the remaining variables \n",
    "is less obvious, as all seem like reasonable candidates. It \n",
    "is not clear which subset of them will create the best classifier. One could use visualizations and\n",
    "other exploratory analyses to try to help understand which variables are potentially relevant, but\n",
    "this process is both time-consuming and error-prone when there are many variables to consider.\n",
    "Therefore we need a more systematic and programmatic way of choosing variables. \n",
    "This is a very difficult problem to solve in\n",
    "general, and there are a number of methods that have been developed that apply\n",
    "in particular cases of interest. Here we will discuss two basic\n",
    "selection methods as an introduction to the topic. See the additional resources at the end of\n",
    "this chapter to find out where you can learn more about variable selection, including more advanced methods.\n",
    "\n",
    "The first idea you might think of for a systematic way to select predictors\n",
    "is to try all possible subsets of predictors and then pick the set that results in the \"best\" classifier.\n",
    "This procedure is indeed a well-known variable selection method referred to \n",
    "as *best subset selection* [@bealesubset; @hockingsubset]. \\index{variable selection!best subset}\\index{predictor selection|see{variable selection}}\n",
    "In particular, you\n",
    "\n",
    "1. create a separate model for every possible subset of predictors,\n",
    "2. tune each one using cross-validation, and\n",
    "3. pick the subset of predictors that gives you the highest cross-validation accuracy.  \n",
    "\n",
    "Best subset selection is applicable to any classification method ($K$-NN or otherwise).\n",
    "However, it becomes very slow when you have even a moderate\n",
    "number of predictors to choose from (say, around 10). This is because the number of possible predictor subsets\n",
    "grows very quickly with the number of predictors, and you have to train the model (itself\n",
    "a slow process!) for each one. For example, if we have $2$ predictors&mdash;let's call\n",
    "them A and B&mdash;then we have 3 variable sets to try: A alone, B alone, and finally A\n",
    "and B together. If we have $3$ predictors&mdash;A, B, and C&mdash;then we have 7\n",
    "to try: A, B, C, AB, BC, AC, and ABC. In general, the number of models\n",
    "we have to train for $m$ predictors is $2^m-1$; in other words, when we \n",
    "get to $10$ predictors we have over *one thousand* models to train, and \n",
    "at $20$ predictors we have over *one million* models to train! \n",
    "So although it is a simple method, best subset selection is usually too computationally \n",
    "expensive to use in practice.\n",
    "\n",
    "Another idea is to iteratively build up a model by adding one predictor variable \n",
    "at a time. This method&mdash;known as *forward selection* [@forwardefroymson; @forwarddraper]&mdash;is also widely \\index{variable selection!forward}\n",
    "applicable and fairly straightforward. It involves the following steps:\n",
    "\n",
    "1. Start with a model having no predictors.\n",
    "2. Run the following 3 steps until you run out of predictors:\n",
    "    1. For each unused predictor, add it to the model to form a *candidate model*.\n",
    "    2. Tune all of the candidate models.\n",
    "    3. Update the model to be the candidate model with the highest cross-validation accuracy.\n",
    "3. Select the model that provides the best trade-off between accuracy and simplicity.\n",
    "\n",
    "Say you have $m$ total predictors to work with. In the first iteration, you have to make\n",
    "$m$ candidate models, each with 1 predictor. Then in the second iteration, you have\n",
    "to make $m-1$ candidate models, each with 2 predictors (the one you chose before and a new one).\n",
    "This pattern continues for as many iterations as you want. If you run the method\n",
    "all the way until you run out of predictors to choose, you will end up training\n",
    "$\\frac{1}{2}m(m+1)$ separate models. This is a *big* improvement from the $2^m-1$\n",
    "models that best subset selection requires you to train! For example, while best subset selection requires\n",
    "training over 1000 candidate models with $m=10$ predictors, forward selection requires training only 55 candidate models.\n",
    " Therefore we will continue the rest of this section using forward selection.\n",
    "\n",
    "> **Note:** One word of caution before we move on. Every additional model that you train \n",
    "> increases the likelihood that you will get unlucky and stumble \n",
    "> on a model that has a high cross-validation accuracy estimate, but a low true\n",
    "> accuracy on the test data and other future observations.\n",
    "> Since forward selection involves training a lot of models, you run a fairly\n",
    "> high risk of this happening. To keep this risk low, only use forward selection\n",
    "> when you have a large amount of data and a relatively small total number of \n",
    "> predictors. More advanced methods do not suffer from this\n",
    "> problem as much; see the additional resources at the end of this chapter for\n",
    "> where to learn more about advanced predictor selection methods. \n",
    "\n",
    "### Forward selection in R\n",
    " \n",
    "We now turn to implementing forward selection in R.\n",
    "Unfortunately there is no built-in way to do this using the `tidymodels` framework,\n",
    "so we will have to code it ourselves. First we will use the `select` function\n",
    "to extract the \"total\" set of predictors that we are willing to work with. \n",
    "Here we will load the modified version of the cancer data with irrelevant \n",
    "predictors, and select `Smoothness`, `Concavity`, `Perimeter`, `Irrelevant1`, `Irrelevant2`, and `Irrelevant3`\n",
    "as potential predictors, and the `Class` variable as the label.\n",
    "We will also extract the column names for the full set of predictor variables.\n",
    "\n",
    "```{r 06-fwdsel-seed, echo = FALSE, warning = FALSE, message = FALSE}\n",
    "# hidden seed\n",
    "set.seed(1)\n",
    "```\n",
    "\n",
    "```{r 06-fwdsel, warning = FALSE}\n",
    "cancer_subset <- cancer_irrelevant |> \n",
    "  select(Class, \n",
    "         Smoothness, \n",
    "         Concavity, \n",
    "         Perimeter, \n",
    "         Irrelevant1, \n",
    "         Irrelevant2, \n",
    "         Irrelevant3)\n",
    "\n",
    "names <- colnames(cancer_subset |> select(-Class))\n",
    "\n",
    "cancer_subset\n",
    "```\n",
    "\n",
    "The key idea of the forward selection code is to use the `paste` function (which concatenates strings\n",
    "separated by spaces) to create a model formula for each subset of predictors for which we want to build a model.\n",
    "The `collapse` argument tells `paste` what to put between the items in the list;\n",
    "to make a formula, we need to put a `+` symbol between each variable.\n",
    "As an example, let's make a model formula for all the predictors,\n",
    "which should output something like\n",
    "`Class ~ Smoothness + Concavity + Perimeter + Irrelevant1 + Irrelevant2 + Irrelevant3`:\n",
    "\n",
    "```{r}\n",
    "example_formula <- paste(\"Class\", \"~\", paste(names, collapse=\"+\"))\n",
    "example_formula\n",
    "```\n",
    "\n",
    "Finally, we need to write some code that performs the task of sequentially\n",
    "finding the best predictor to add to the model.\n",
    "If you recall the end of the wrangling chapter, we mentioned\n",
    "that sometimes one needs more flexible forms of iteration than what \n",
    "we have used earlier, and in these cases one typically resorts to\n",
    "a *for loop*; see [the chapter on iteration](https://r4ds.had.co.nz/iteration.html) in *R for Data Science* [@wickham2016r].\n",
    "Here we will use two for loops:\n",
    "one over increasing predictor set sizes \n",
    "(where you see `for (i in 1:length(names))` below),\n",
    "and another to check which predictor to add in each round (where you see `for (j in 1:length(names))` below).\n",
    "For each set of predictors to try, we construct a model formula,\n",
    "pass it into a `recipe`, build a `workflow` that tunes\n",
    "a $K$-NN classifier using 5-fold cross-validation, \n",
    "and finally records the estimated accuracy.\n",
    "\n",
    "```{r 06-fwdsel-2-seed, warning = FALSE, echo = FALSE, message = FALSE}\n",
    "# hidden seed\n",
    "set.seed(1)\n",
    "```\n",
    "\n",
    "```{r 06-fwdsel-2, warning = FALSE}\n",
    "# create an empty tibble to store the results\n",
    "accuracies <- tibble(size = integer(), \n",
    "                     model_string = character(), \n",
    "                     accuracy = numeric())\n",
    "\n",
    "# create a model specification\n",
    "knn_spec <- nearest_neighbor(weight_func = \"rectangular\", \n",
    "                             neighbors = tune()) |>\n",
    "     set_engine(\"kknn\") |>\n",
    "     set_mode(\"classification\")\n",
    "\n",
    "# create a 5-fold cross-validation object\n",
    "cancer_vfold <- vfold_cv(cancer_subset, v = 5, strata = Class)\n",
    "\n",
    "# store the total number of predictors\n",
    "n_total <- length(names)\n",
    "\n",
    "# stores selected predictors\n",
    "selected <- c()\n",
    "\n",
    "# for every size from 1 to the total number of predictors\n",
    "for (i in 1:n_total) {\n",
    "    # for every predictor still not added yet\n",
    "    accs <- list()\n",
    "    models <- list()\n",
    "    for (j in 1:length(names)) {\n",
    "        # create a model string for this combination of predictors\n",
    "        preds_new <- c(selected, names[[j]])\n",
    "        model_string <- paste(\"Class\", \"~\", paste(preds_new, collapse=\"+\"))\n",
    "\n",
    "        # create a recipe from the model string\n",
    "        cancer_recipe <- recipe(as.formula(model_string), \n",
    "                                data = cancer_subset) |>\n",
    "                          step_scale(all_predictors()) |>\n",
    "                          step_center(all_predictors())\n",
    "\n",
    "        # tune the KNN classifier with these predictors, \n",
    "        # and collect the accuracy for the best K\n",
    "        acc <- workflow() |>\n",
    "          add_recipe(cancer_recipe) |>\n",
    "          add_model(knn_spec) |>\n",
    "          tune_grid(resamples = cancer_vfold, grid = 10) |>\n",
    "          collect_metrics() |>\n",
    "          filter(.metric == \"accuracy\") |>\n",
    "          summarize(mx = max(mean))\n",
    "        acc <- acc$mx |> unlist()\n",
    "\n",
    "        # add this result to the dataframe\n",
    "        accs[[j]] <- acc\n",
    "        models[[j]] <- model_string\n",
    "    }\n",
    "    jstar <- which.max(unlist(accs))\n",
    "    accuracies <- accuracies |> \n",
    "      add_row(size = i, \n",
    "              model_string = models[[jstar]], \n",
    "              accuracy = accs[[jstar]])\n",
    "    selected <- c(selected, names[[jstar]])\n",
    "    names <- names[-jstar]\n",
    "}\n",
    "accuracies\n",
    "```\n",
    "\n",
    "Interesting! The forward selection procedure first added the three meaningful variables `Perimeter`,\n",
    "`Concavity`, and `Smoothness`, followed by the irrelevant variables. Figure \\@ref(fig:06-fwdsel-3)\n",
    "visualizes the accuracy versus the number of predictors in the model. You can see that\n",
    "as meaningful predictors are added, the estimated accuracy increases substantially; and as you add irrelevant\n",
    "variables, the accuracy either exhibits small fluctuations or decreases as the model attempts to tune the number\n",
    "of neighbors to account for the extra noise. In order to pick the right model from the sequence, you have \n",
    "to balance high accuracy and model simplicity (i.e., having fewer predictors and a lower chance of overfitting). The \n",
    "way to find that balance is to look for the *elbow* \\index{variable selection!elbow method}\n",
    "in Figure \\@ref(fig:06-fwdsel-3), i.e., the place on the plot where the accuracy stops increasing dramatically and\n",
    "levels off or begins to decrease. The elbow in Figure \\@ref(fig:06-fwdsel-3) appears to occur at the model with \n",
    "3 predictors; after that point the accuracy levels off. So here the right trade-off of accuracy and number of predictors\n",
    "occurs with 3 variables: `Class ~ Perimeter + Concavity + Smoothness`. In other words, we have successfully removed irrelevant\n",
    "predictors from the model! It is always worth remembering, however, that what cross-validation gives you \n",
    "is an *estimate* of the true accuracy; you have to use your judgement when looking at this plot to decide\n",
    "where the elbow occurs, and whether adding a variable provides a meaningful increase in accuracy.\n",
    "\n",
    "```{r 06-fwdsel-3, echo = FALSE, warning = FALSE, fig.retina = 2, out.width = \"65%\", fig.cap = \"Estimated accuracy versus the number of predictors for the sequence of models built using forward selection.\", fig.pos = \"H\"}\n",
    "\n",
    "fwd_sel_accuracies_plot <- accuracies |>\n",
    "  ggplot(aes(x = size, y = accuracy)) +\n",
    "  geom_line() +\n",
    "  labs(x = \"Number of Predictors\", y = \"Estimated Accuracy\")  +\n",
    "  theme(text = element_text(size = 20), axis.title=element_text(size=20)) \n",
    "\n",
    "fwd_sel_accuracies_plot\n",
    "```\n",
    "\n",
    "> **Note:** Since the choice of which variables to include as predictors is\n",
    "> part of tuning your classifier, you *cannot use your test data* for this\n",
    "> process! \n",
    "\n",
    "## Exercises\n",
    "\n",
    "Practice exercises for the material covered in this chapter \n",
    "can be found in the accompanying \n",
    "[worksheets repository](https://github.com/UBC-DSCI/data-science-a-first-intro-worksheets#readme)\n",
    "in the \"Classification II: evaluation and tuning\" row.\n",
    "You can launch an interactive version of the worksheet in your browser by clicking the \"launch binder\" button.\n",
    "You can also preview a non-interactive version of the worksheet by clicking \"view worksheet.\"\n",
    "If you instead decide to download the worksheet and run it on your own machine,\n",
    "make sure to follow the instructions for computer setup\n",
    "found in Chapter \\@ref(move-to-your-own-machine). This will ensure that the automated feedback\n",
    "and guidance that the worksheets provide will function as intended."
   ]
  },
  {
   "cell_type": "markdown",
   "id": "e652d453",
   "metadata": {},
   "source": [
    "## Additional resources\n",
    "- The [`tidymodels` website](https://tidymodels.org/packages) is an excellent\n",
    "  reference for more details on, and advanced usage of, the functions and\n",
    "  packages in the past two chapters. Aside from that, it also has a [nice\n",
    "  beginner's tutorial](https://www.tidymodels.org/start/) and [an extensive list\n",
    "  of more advanced examples](https://www.tidymodels.org/learn/) that you can use\n",
    "  to continue learning beyond the scope of this book. It's worth noting that the\n",
    "  `tidymodels` package does a lot more than just classification, and so the\n",
    "  examples on the website similarly go beyond classification as well. In the next\n",
    "  two chapters, you'll learn about another kind of predictive modeling setting,\n",
    "  so it might be worth visiting the website only after reading through those\n",
    "  chapters.\n",
    "- *An Introduction to Statistical Learning* [@james2013introduction] provides \n",
    "  a great next stop in the process of\n",
    "  learning about classification. Chapter 4 discusses additional basic techniques\n",
    "  for classification that we do not cover, such as logistic regression, linear\n",
    "  discriminant analysis, and naive Bayes. Chapter 5 goes into much more detail\n",
    "  about cross-validation. Chapters 8 and 9 cover decision trees and support\n",
    "  vector machines, two very popular but more advanced classification methods.\n",
    "  Finally, Chapter 6 covers a number of methods for selecting predictor\n",
    "  variables. Note that while this book is still a very accessible introductory\n",
    "  text, it requires a bit more mathematical background than we require."
   ]
  }
 ],
 "metadata": {
  "jupytext": {
   "formats": "py:percent,md:myst,ipynb"
  },
  "kernelspec": {
   "display_name": "Python 3 (ipykernel)",
   "language": "python",
   "name": "python3"
  },
  "language_info": {
   "codemirror_mode": {
    "name": "ipython",
    "version": 3
   },
   "file_extension": ".py",
   "mimetype": "text/x-python",
   "name": "python",
   "nbconvert_exporter": "python",
   "pygments_lexer": "ipython3",
   "version": "3.9.12"
  }
 },
 "nbformat": 4,
 "nbformat_minor": 5
}
